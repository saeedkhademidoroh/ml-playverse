{
 "cells": [
  {
   "cell_type": "code",
   "execution_count": null,
   "id": "4a685e45",
   "metadata": {},
   "outputs": [],
   "source": [
    "# 1 Import necessary packages"
   ]
  },
  {
   "cell_type": "code",
   "execution_count": null,
   "id": "36e51724-4487-427b-ba1c-f68a75b9f59a",
   "metadata": {},
   "outputs": [],
   "source": [
    "import tensorflow as tf"
   ]
  },
  {
   "cell_type": "code",
   "execution_count": null,
   "id": "76d39e28-e062-4504-b413-9c7ef4831718",
   "metadata": {},
   "outputs": [],
   "source": [
    "import numpy as np"
   ]
  },
  {
   "cell_type": "code",
   "execution_count": null,
   "id": "16c98d83-3ff9-41b2-9117-607aba0341d5",
   "metadata": {},
   "outputs": [],
   "source": [
    "import pandas as pd"
   ]
  },
  {
   "cell_type": "code",
   "execution_count": null,
   "id": "b4f3a5ef-f306-46a3-b3a3-9916520ec7d6",
   "metadata": {},
   "outputs": [],
   "source": [
    "import matplotlib.pyplot as plt"
   ]
  },
  {
   "cell_type": "code",
   "execution_count": null,
   "id": "da6fdf06-c5a4-4505-9898-92cd7136de08",
   "metadata": {},
   "outputs": [],
   "source": [
    "# 2 Load Boston Housing dataset"
   ]
  },
  {
   "cell_type": "code",
   "execution_count": null,
   "id": "eda3a561-9257-4255-a79c-1a313d637bb8",
   "metadata": {},
   "outputs": [],
   "source": [
    "(train_data, train_labels), (test_data, test_labels) = tf.keras.datasets.boston_housing.load_data()"
   ]
  },
  {
   "cell_type": "code",
   "execution_count": null,
   "id": "d0141459-855c-4fb6-b2c3-ffc6e6639c89",
   "metadata": {},
   "outputs": [],
   "source": [
    "train_data.ndim, train_data.shape, train_data.dtype, np.any(np.isnan(train_data)), train_data[:5]"
   ]
  },
  {
   "cell_type": "code",
   "execution_count": null,
   "id": "c2ca5cfd-c228-4d05-9159-27777e6ed593",
   "metadata": {},
   "outputs": [],
   "source": [
    "test_data.ndim, test_data.shape, test_data.dtype, np.any(np.isnan(test_data)), test_data[:5]"
   ]
  },
  {
   "cell_type": "code",
   "execution_count": null,
   "id": "7cbdb810-db12-47a4-bf49-b564f6e41ef5",
   "metadata": {},
   "outputs": [],
   "source": [
    "train_labels.ndim, train_labels.shape, train_labels.dtype, np.any(np.isnan(train_labels)), train_labels[:5]"
   ]
  },
  {
   "cell_type": "code",
   "execution_count": null,
   "id": "5fb4b2eb-20d8-484d-9023-bb922e6c489d",
   "metadata": {},
   "outputs": [],
   "source": [
    "test_labels.ndim, test_labels.shape, test_labels.dtype, np.any(np.isnan(test_labels)), test_labels[:5]"
   ]
  },
  {
   "cell_type": "code",
   "execution_count": null,
   "id": "1a90f5b8-98fb-4fc0-8571-233b054c1799",
   "metadata": {},
   "outputs": [],
   "source": [
    "# 3 Reshape dataset"
   ]
  },
  {
   "cell_type": "code",
   "execution_count": null,
   "id": "783c14a6-4e21-4326-bfde-ad914aa05590",
   "metadata": {},
   "outputs": [],
   "source": [
    "train_labels = np.reshape(train_labels, newshape=(-1, 1))"
   ]
  },
  {
   "cell_type": "code",
   "execution_count": null,
   "id": "1e9733c7-6520-4865-a184-d394797519bd",
   "metadata": {},
   "outputs": [],
   "source": [
    "test_labels = np.reshape(test_labels, newshape=(-1, 1))"
   ]
  },
  {
   "cell_type": "code",
   "execution_count": null,
   "id": "4361f91f-ee9e-484f-aa1b-dc9d0aac1909",
   "metadata": {},
   "outputs": [],
   "source": [
    "train_labels.shape, test_labels.shape"
   ]
  },
  {
   "cell_type": "code",
   "execution_count": null,
   "id": "9e9418d3-b387-4761-8855-aa2ff62d59bf",
   "metadata": {},
   "outputs": [],
   "source": [
    "# 4 Check min/max data"
   ]
  },
  {
   "cell_type": "code",
   "execution_count": null,
   "id": "a8f26142-21e6-4b0a-8941-c2d34400a4ae",
   "metadata": {},
   "outputs": [],
   "source": [
    "train_data.min(axis=0), train_data.max(axis=0)"
   ]
  },
  {
   "cell_type": "code",
   "execution_count": null,
   "id": "378bbdeb-e555-4f10-863e-101532206d55",
   "metadata": {},
   "outputs": [],
   "source": [
    "# 5 Normalize data"
   ]
  },
  {
   "cell_type": "code",
   "execution_count": null,
   "id": "22e3f40d-43ed-411d-96ad-cff4bc724159",
   "metadata": {},
   "outputs": [],
   "source": [
    "# 5.1 Fit"
   ]
  },
  {
   "cell_type": "code",
   "execution_count": null,
   "id": "445cca51-1943-45c2-9fa2-0399bb720035",
   "metadata": {},
   "outputs": [],
   "source": [
    "from sklearn.preprocessing import MinMaxScaler"
   ]
  },
  {
   "cell_type": "code",
   "execution_count": null,
   "id": "dedbbde4-f58c-46a6-a78d-e7c931bea510",
   "metadata": {},
   "outputs": [],
   "source": [
    "min_max_scaler = MinMaxScaler()"
   ]
  },
  {
   "cell_type": "code",
   "execution_count": null,
   "id": "a1874bd3-8b47-4be5-b475-f3528e265337",
   "metadata": {},
   "outputs": [],
   "source": [
    "min_max_scaler.fit(train_data)"
   ]
  },
  {
   "cell_type": "code",
   "execution_count": null,
   "id": "00db61ab-b4f1-4235-ad8e-c6714e2eade7",
   "metadata": {},
   "outputs": [],
   "source": [
    "# 5.2 Transform"
   ]
  },
  {
   "cell_type": "code",
   "execution_count": null,
   "id": "429ae4c6-ebc7-4063-b00b-60da1884ae7c",
   "metadata": {},
   "outputs": [],
   "source": [
    "train_data = min_max_scaler.transform(train_data)"
   ]
  },
  {
   "cell_type": "code",
   "execution_count": null,
   "id": "2a5e22cf-4f6d-45e2-bb8b-9d74e7237c36",
   "metadata": {},
   "outputs": [],
   "source": [
    "test_data = min_max_scaler.transform(test_data)"
   ]
  },
  {
   "cell_type": "code",
   "execution_count": null,
   "id": "f5efcbea-d268-4989-a023-2a8a28261b3c",
   "metadata": {},
   "outputs": [],
   "source": [
    "# Check min/max post normalization"
   ]
  },
  {
   "cell_type": "code",
   "execution_count": null,
   "id": "ef628a7a-d2f4-47b2-ab31-ecb3673a8028",
   "metadata": {},
   "outputs": [],
   "source": [
    "train_data.min(axis=0), train_data.max(axis=0)"
   ]
  },
  {
   "cell_type": "code",
   "execution_count": null,
   "id": "3566f41a-ffac-41cc-b874-e38493a99794",
   "metadata": {},
   "outputs": [],
   "source": [
    "test_data.min(axis=0), test_data.max(axis=0)"
   ]
  },
  {
   "cell_type": "code",
   "execution_count": null,
   "id": "0e4f83df-90c1-45ac-9089-025da7d773da",
   "metadata": {},
   "outputs": [],
   "source": [
    "train_labels.min(), train_labels.max()"
   ]
  },
  {
   "cell_type": "code",
   "execution_count": null,
   "id": "c42242f7-93bf-4dfe-8a0b-2316cacd8605",
   "metadata": {},
   "outputs": [],
   "source": [
    "# 6 Change data types"
   ]
  },
  {
   "cell_type": "code",
   "execution_count": null,
   "id": "9497d1ca-1a43-4f90-998c-2a2e8db5f4c6",
   "metadata": {},
   "outputs": [],
   "source": [
    "train_data = train_data.astype(np.float32)"
   ]
  },
  {
   "cell_type": "code",
   "execution_count": null,
   "id": "7704e8f8-2065-4bc1-92da-95413b07957c",
   "metadata": {},
   "outputs": [],
   "source": [
    "train_labels = train_labels.astype(np.float32)"
   ]
  },
  {
   "cell_type": "code",
   "execution_count": null,
   "id": "668b84f2-d6a8-4fcb-bb38-ffd2a23eeea7",
   "metadata": {},
   "outputs": [],
   "source": [
    "test_data = test_data.astype(np.float32)"
   ]
  },
  {
   "cell_type": "code",
   "execution_count": null,
   "id": "9c799664-88d5-4fb3-a675-4b1563e290f5",
   "metadata": {},
   "outputs": [],
   "source": [
    "test_labels = test_labels.astype(np.float32)"
   ]
  },
  {
   "cell_type": "code",
   "execution_count": null,
   "id": "33ca883b-f7d8-4e05-80bb-02bdeddbddbf",
   "metadata": {},
   "outputs": [],
   "source": [
    "train_data.dtype, test_data.dtype"
   ]
  },
  {
   "cell_type": "code",
   "execution_count": null,
   "id": "ea8ddf4f-51d8-4cd4-be99-10a6a9aa6f00",
   "metadata": {},
   "outputs": [],
   "source": [
    "# 7 Create regression model"
   ]
  },
  {
   "cell_type": "code",
   "execution_count": null,
   "id": "8b5eee03-f626-4444-aa02-98d527a58b38",
   "metadata": {},
   "outputs": [],
   "source": [
    "from tensorflow.keras.models import Model"
   ]
  },
  {
   "cell_type": "code",
   "execution_count": null,
   "id": "36a465f3-3bd6-4c9a-b752-f5062b50f045",
   "metadata": {},
   "outputs": [],
   "source": [
    "from tensorflow.keras.layers import Dense, Input"
   ]
  },
  {
   "cell_type": "code",
   "execution_count": null,
   "id": "0a6f9187-81f1-491d-bd42-c470023ce34f",
   "metadata": {},
   "outputs": [],
   "source": [
    "# input_layer = input((13, ))"
   ]
  }
 ],
 "metadata": {
  "kernelspec": {
   "display_name": "ml",
   "language": "python",
   "name": "python3"
  },
  "language_info": {
   "codemirror_mode": {
    "name": "ipython",
    "version": 3
   },
   "file_extension": ".py",
   "mimetype": "text/x-python",
   "name": "python",
   "nbconvert_exporter": "python",
   "pygments_lexer": "ipython3",
   "version": "3.9.18"
  }
 },
 "nbformat": 4,
 "nbformat_minor": 5
}
