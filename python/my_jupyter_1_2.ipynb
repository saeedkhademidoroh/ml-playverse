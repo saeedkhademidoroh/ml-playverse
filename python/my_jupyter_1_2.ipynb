{
 "cells": [
  {
   "cell_type": "code",
   "execution_count": null,
   "id": "bed745bc",
   "metadata": {},
   "outputs": [],
   "source": [
    "import numpy as np"
   ]
  },
  {
   "cell_type": "code",
   "execution_count": null,
   "id": "d13cbfdd",
   "metadata": {},
   "outputs": [],
   "source": [
    "import tensorflow as tf"
   ]
  },
  {
   "cell_type": "code",
   "execution_count": null,
   "id": "90dadb5f",
   "metadata": {},
   "outputs": [],
   "source": [
    "l1 = [1, 2 , 3]"
   ]
  },
  {
   "cell_type": "code",
   "execution_count": null,
   "id": "6ec11ce3",
   "metadata": {},
   "outputs": [],
   "source": [
    "l1"
   ]
  },
  {
   "cell_type": "code",
   "execution_count": null,
   "id": "d3ce137a",
   "metadata": {},
   "outputs": [],
   "source": [
    "print(l1)"
   ]
  },
  {
   "cell_type": "code",
   "execution_count": null,
   "id": "0b1bbab0",
   "metadata": {
    "scrolled": true
   },
   "outputs": [],
   "source": [
    "print(l1+l1)"
   ]
  },
  {
   "cell_type": "code",
   "execution_count": null,
   "id": "ad32f8e8",
   "metadata": {},
   "outputs": [],
   "source": [
    "import this"
   ]
  },
  {
   "cell_type": "code",
   "execution_count": null,
   "id": "870a91b3",
   "metadata": {},
   "outputs": [],
   "source": [
    "print(\"Hello World!\")"
   ]
  },
  {
   "cell_type": "markdown",
   "id": "f7b806f7",
   "metadata": {},
   "source": [
    "b = True"
   ]
  },
  {
   "cell_type": "code",
   "execution_count": null,
   "id": "c26390d7",
   "metadata": {},
   "outputs": [],
   "source": [
    "b = 1.1"
   ]
  },
  {
   "cell_type": "code",
   "execution_count": null,
   "id": "07a9d5b6",
   "metadata": {},
   "outputs": [],
   "source": [
    "b, type(b)"
   ]
  },
  {
   "cell_type": "code",
   "execution_count": null,
   "id": "b051dfb3",
   "metadata": {},
   "outputs": [],
   "source": [
    "print(type(b))"
   ]
  },
  {
   "cell_type": "code",
   "execution_count": null,
   "id": "2f39726d",
   "metadata": {},
   "outputs": [],
   "source": [
    "i = 2"
   ]
  },
  {
   "cell_type": "code",
   "execution_count": null,
   "id": "6b2603df",
   "metadata": {},
   "outputs": [],
   "source": [
    "i, type(i)"
   ]
  },
  {
   "cell_type": "code",
   "execution_count": null,
   "id": "0f9f7c1b",
   "metadata": {},
   "outputs": [],
   "source": [
    "f = 2.0"
   ]
  },
  {
   "cell_type": "code",
   "execution_count": null,
   "id": "802541c8",
   "metadata": {},
   "outputs": [],
   "source": [
    "f, type(f)"
   ]
  },
  {
   "cell_type": "code",
   "execution_count": null,
   "id": "e8632ae0",
   "metadata": {},
   "outputs": [],
   "source": [
    "c = 1 + 3j"
   ]
  },
  {
   "cell_type": "code",
   "execution_count": null,
   "id": "12a82008",
   "metadata": {},
   "outputs": [],
   "source": [
    "c, type(c)"
   ]
  },
  {
   "cell_type": "code",
   "execution_count": null,
   "id": "08a463a0",
   "metadata": {},
   "outputs": [],
   "source": [
    "s1 = 'mamad'"
   ]
  },
  {
   "cell_type": "code",
   "execution_count": null,
   "id": "7fef7fc0",
   "metadata": {},
   "outputs": [],
   "source": [
    "s1"
   ]
  },
  {
   "cell_type": "code",
   "execution_count": null,
   "id": "260eb064",
   "metadata": {},
   "outputs": [],
   "source": [
    "s2 = 'mamad rafte \"folanja\"'"
   ]
  },
  {
   "cell_type": "code",
   "execution_count": null,
   "id": "d74853d5",
   "metadata": {},
   "outputs": [],
   "source": [
    "s2, s2"
   ]
  },
  {
   "cell_type": "code",
   "execution_count": null,
   "id": "8c5beef4",
   "metadata": {},
   "outputs": [],
   "source": [
    "s1 = \"abc\""
   ]
  },
  {
   "cell_type": "code",
   "execution_count": null,
   "id": "e28341d2",
   "metadata": {},
   "outputs": [],
   "source": [
    "s2 = \"123\""
   ]
  },
  {
   "cell_type": "code",
   "execution_count": null,
   "id": "a3d0a9cf",
   "metadata": {},
   "outputs": [],
   "source": [
    "print(s1)"
   ]
  },
  {
   "cell_type": "code",
   "execution_count": null,
   "id": "dae5a7d0",
   "metadata": {},
   "outputs": [],
   "source": [
    "print(s2)"
   ]
  },
  {
   "cell_type": "code",
   "execution_count": null,
   "id": "057e7740",
   "metadata": {},
   "outputs": [],
   "source": [
    "print(s1+s2)"
   ]
  },
  {
   "cell_type": "code",
   "execution_count": null,
   "id": "64e997a9",
   "metadata": {},
   "outputs": [],
   "source": [
    "s2.index(\"3\")"
   ]
  },
  {
   "cell_type": "code",
   "execution_count": null,
   "id": "f6ed14c8",
   "metadata": {},
   "outputs": [],
   "source": [
    "s2.endswith(\"3\")"
   ]
  },
  {
   "cell_type": "code",
   "execution_count": null,
   "id": "5f3f2253",
   "metadata": {},
   "outputs": [],
   "source": [
    "\"3\" in s2"
   ]
  },
  {
   "cell_type": "code",
   "execution_count": null,
   "id": "60ab9a1e",
   "metadata": {},
   "outputs": [],
   "source": [
    "s2.find(\"3\")"
   ]
  },
  {
   "cell_type": "code",
   "execution_count": null,
   "id": "1db4d8db",
   "metadata": {},
   "outputs": [],
   "source": [
    "my_list = [1, 2, 3, 4.1, \"mamad\", \"part\", [\"hassan\", 3.3]]"
   ]
  },
  {
   "cell_type": "code",
   "execution_count": null,
   "id": "4d8c7ee4",
   "metadata": {},
   "outputs": [],
   "source": [
    "my_list"
   ]
  },
  {
   "cell_type": "code",
   "execution_count": null,
   "id": "abae00c1",
   "metadata": {},
   "outputs": [],
   "source": [
    "for item in my_list:\n",
    "    print(type(item))"
   ]
  },
  {
   "cell_type": "code",
   "execution_count": null,
   "id": "9d2ec6f3",
   "metadata": {},
   "outputs": [],
   "source": [
    "type(my_list)"
   ]
  },
  {
   "cell_type": "code",
   "execution_count": null,
   "id": "61d44bc8",
   "metadata": {},
   "outputs": [],
   "source": [
    "len(my_list)"
   ]
  },
  {
   "cell_type": "code",
   "execution_count": null,
   "id": "292dd82f",
   "metadata": {},
   "outputs": [],
   "source": [
    "my_list.index(\"mamad\")"
   ]
  },
  {
   "cell_type": "code",
   "execution_count": null,
   "id": "19a890d1",
   "metadata": {},
   "outputs": [],
   "source": [
    "my_list.append(\"mamad2\")"
   ]
  },
  {
   "cell_type": "code",
   "execution_count": null,
   "id": "476bb460",
   "metadata": {},
   "outputs": [],
   "source": [
    "my_list[-1]"
   ]
  },
  {
   "cell_type": "code",
   "execution_count": null,
   "id": "e9c68522",
   "metadata": {},
   "outputs": [],
   "source": [
    "test_list = [\"extend1\", \"extend2\"]"
   ]
  },
  {
   "cell_type": "code",
   "execution_count": null,
   "id": "de8bba48",
   "metadata": {},
   "outputs": [],
   "source": [
    "my_list.append(test_list)"
   ]
  },
  {
   "cell_type": "code",
   "execution_count": null,
   "id": "e70cf141",
   "metadata": {},
   "outputs": [],
   "source": [
    "my_list.extend(my_list)"
   ]
  },
  {
   "cell_type": "code",
   "execution_count": null,
   "id": "abbd39c9",
   "metadata": {},
   "outputs": [],
   "source": [
    "my_list = [1, 2, 3, 4.1, \"mamad\", \"part\", [\"hassan\", 3.3]]"
   ]
  },
  {
   "cell_type": "code",
   "execution_count": null,
   "id": "de5ac965",
   "metadata": {},
   "outputs": [],
   "source": [
    "my_list + test_list"
   ]
  },
  {
   "cell_type": "code",
   "execution_count": null,
   "id": "db449d09",
   "metadata": {},
   "outputs": [],
   "source": [
    "my_list.append(test_list)"
   ]
  },
  {
   "cell_type": "code",
   "execution_count": null,
   "id": "4b1db1c2",
   "metadata": {},
   "outputs": [],
   "source": [
    "my_list"
   ]
  },
  {
   "cell_type": "code",
   "execution_count": null,
   "id": "dae7ea00",
   "metadata": {},
   "outputs": [],
   "source": [
    "my_list.extend(test_list)"
   ]
  },
  {
   "cell_type": "code",
   "execution_count": null,
   "id": "e8d44085",
   "metadata": {},
   "outputs": [],
   "source": [
    "my_list"
   ]
  },
  {
   "cell_type": "code",
   "execution_count": null,
   "id": "36ba981e",
   "metadata": {},
   "outputs": [],
   "source": [
    "my_list.insert(2, 2.5)"
   ]
  },
  {
   "cell_type": "code",
   "execution_count": null,
   "id": "8be05b76",
   "metadata": {},
   "outputs": [],
   "source": [
    "my_list"
   ]
  },
  {
   "cell_type": "code",
   "execution_count": null,
   "id": "5294e7f7",
   "metadata": {},
   "outputs": [],
   "source": [
    "my_list.insert(-1, 3.5)"
   ]
  },
  {
   "cell_type": "code",
   "execution_count": null,
   "id": "446cd735",
   "metadata": {},
   "outputs": [],
   "source": [
    "my_list, my_list"
   ]
  },
  {
   "cell_type": "code",
   "execution_count": null,
   "id": "394acb85",
   "metadata": {},
   "outputs": [],
   "source": [
    "my_list.remove(3.5)"
   ]
  },
  {
   "cell_type": "code",
   "execution_count": null,
   "id": "1d348144",
   "metadata": {},
   "outputs": [],
   "source": [
    "my_list"
   ]
  },
  {
   "cell_type": "code",
   "execution_count": null,
   "id": "9535fb3f",
   "metadata": {},
   "outputs": [],
   "source": [
    "my_list.pop()"
   ]
  },
  {
   "cell_type": "code",
   "execution_count": null,
   "id": "4d9990d0",
   "metadata": {},
   "outputs": [],
   "source": [
    "my_list"
   ]
  },
  {
   "cell_type": "code",
   "execution_count": null,
   "id": "6b6d4b18",
   "metadata": {},
   "outputs": [],
   "source": [
    "my_list.pop(1)"
   ]
  },
  {
   "cell_type": "code",
   "execution_count": null,
   "id": "caff0658",
   "metadata": {},
   "outputs": [],
   "source": [
    "my_list"
   ]
  },
  {
   "cell_type": "code",
   "execution_count": null,
   "id": "29ecab5d",
   "metadata": {},
   "outputs": [],
   "source": [
    "my_list.pop(1)"
   ]
  },
  {
   "cell_type": "code",
   "execution_count": null,
   "id": "39358ab4",
   "metadata": {},
   "outputs": [],
   "source": [
    "my_list"
   ]
  },
  {
   "cell_type": "code",
   "execution_count": null,
   "id": "f5cfc53f",
   "metadata": {},
   "outputs": [],
   "source": [
    "for item in my_list:\n",
    "    if not item == False:\n",
    "        print(item)"
   ]
  },
  {
   "cell_type": "code",
   "execution_count": null,
   "id": "04bea289",
   "metadata": {},
   "outputs": [],
   "source": [
    "sub_list = my_list[0:3]"
   ]
  },
  {
   "cell_type": "code",
   "execution_count": null,
   "id": "7444241f",
   "metadata": {},
   "outputs": [],
   "source": [
    "sub_list"
   ]
  },
  {
   "cell_type": "code",
   "execution_count": null,
   "id": "fa23316f",
   "metadata": {},
   "outputs": [],
   "source": [
    "sub_list = my_list[2:]"
   ]
  },
  {
   "cell_type": "code",
   "execution_count": null,
   "id": "eac10fe0",
   "metadata": {},
   "outputs": [],
   "source": [
    "sub_list"
   ]
  },
  {
   "cell_type": "code",
   "execution_count": null,
   "id": "e33a09d2",
   "metadata": {},
   "outputs": [],
   "source": [
    "sub_list = my_list[1::2]"
   ]
  },
  {
   "cell_type": "code",
   "execution_count": null,
   "id": "102e8cda",
   "metadata": {},
   "outputs": [],
   "source": [
    "sub_list"
   ]
  },
  {
   "cell_type": "code",
   "execution_count": null,
   "id": "5930b5c5",
   "metadata": {},
   "outputs": [],
   "source": [
    "sub_list = my_list[1::1]"
   ]
  },
  {
   "cell_type": "code",
   "execution_count": null,
   "id": "0f74a71b",
   "metadata": {},
   "outputs": [],
   "source": [
    "sub_list"
   ]
  },
  {
   "cell_type": "code",
   "execution_count": null,
   "id": "8a890e48",
   "metadata": {},
   "outputs": [],
   "source": [
    "my_list_copy = my_list.copy()\n"
   ]
  },
  {
   "cell_type": "code",
   "execution_count": null,
   "id": "e4e97b30",
   "metadata": {},
   "outputs": [],
   "source": [
    "my_list_copy[1]"
   ]
  },
  {
   "cell_type": "code",
   "execution_count": null,
   "id": "b6eea591",
   "metadata": {},
   "outputs": [],
   "source": [
    "my_list_copy[1] = 200"
   ]
  },
  {
   "cell_type": "code",
   "execution_count": null,
   "id": "35f8f7c1",
   "metadata": {},
   "outputs": [],
   "source": [
    "my_list"
   ]
  },
  {
   "cell_type": "code",
   "execution_count": null,
   "id": "5d26a5d4",
   "metadata": {},
   "outputs": [],
   "source": [
    "my_list_copy"
   ]
  },
  {
   "cell_type": "code",
   "execution_count": null,
   "id": "617d317a",
   "metadata": {},
   "outputs": [],
   "source": [
    "tpl = (50, 1)"
   ]
  },
  {
   "cell_type": "code",
   "execution_count": null,
   "id": "da7cfebc",
   "metadata": {},
   "outputs": [],
   "source": [
    "tpl, type(tpl)"
   ]
  },
  {
   "cell_type": "code",
   "execution_count": null,
   "id": "b0bf8bba",
   "metadata": {},
   "outputs": [],
   "source": [
    "my_tp = (\"a\", \"b\", \"c\")"
   ]
  },
  {
   "cell_type": "code",
   "execution_count": null,
   "id": "d8dab747",
   "metadata": {},
   "outputs": [],
   "source": [
    "my_tp"
   ]
  },
  {
   "cell_type": "code",
   "execution_count": null,
   "id": "7e888e49",
   "metadata": {},
   "outputs": [],
   "source": [
    "my_tp_list = list(my_tp)"
   ]
  },
  {
   "cell_type": "code",
   "execution_count": null,
   "id": "9bb11edb",
   "metadata": {},
   "outputs": [],
   "source": [
    "my_tp_list[1] = \"change\""
   ]
  },
  {
   "cell_type": "code",
   "execution_count": null,
   "id": "cb395435",
   "metadata": {},
   "outputs": [],
   "source": [
    "my_tp_list"
   ]
  },
  {
   "cell_type": "code",
   "execution_count": null,
   "id": "620e6664",
   "metadata": {},
   "outputs": [],
   "source": [
    "my_tp"
   ]
  },
  {
   "cell_type": "code",
   "execution_count": null,
   "id": "92432589",
   "metadata": {},
   "outputs": [],
   "source": [
    "my_tp_list[:-2]"
   ]
  },
  {
   "cell_type": "code",
   "execution_count": null,
   "id": "7b6359b3",
   "metadata": {},
   "outputs": [],
   "source": [
    "# comment"
   ]
  },
  {
   "cell_type": "code",
   "execution_count": null,
   "id": "37407c5c",
   "metadata": {},
   "outputs": [],
   "source": [
    "my_dict = {\"key1\": 23, \"key2\": 48, \"key3\" : 12, 12: 112}"
   ]
  },
  {
   "cell_type": "code",
   "execution_count": null,
   "id": "dd3b5883",
   "metadata": {},
   "outputs": [],
   "source": [
    "my_dict"
   ]
  },
  {
   "cell_type": "code",
   "execution_count": null,
   "id": "a8905d6b",
   "metadata": {},
   "outputs": [],
   "source": [
    "my_dict[12]"
   ]
  },
  {
   "cell_type": "code",
   "execution_count": null,
   "id": "b42a64bd",
   "metadata": {},
   "outputs": [],
   "source": [
    "my_dict[\"key2\"] = 12"
   ]
  },
  {
   "cell_type": "code",
   "execution_count": null,
   "id": "f31748ff",
   "metadata": {},
   "outputs": [],
   "source": [
    "my_dict"
   ]
  },
  {
   "cell_type": "code",
   "execution_count": null,
   "id": "2dfd6618",
   "metadata": {},
   "outputs": [],
   "source": [
    "my_dict[\"key4\"] = \"test\""
   ]
  },
  {
   "cell_type": "code",
   "execution_count": null,
   "id": "3c459f9b",
   "metadata": {},
   "outputs": [],
   "source": [
    "my_dict"
   ]
  },
  {
   "cell_type": "code",
   "execution_count": null,
   "id": "03fcb4f0",
   "metadata": {},
   "outputs": [],
   "source": [
    "np_arr = np.array([1, 2, 3, 4, 5.5])"
   ]
  },
  {
   "cell_type": "code",
   "execution_count": null,
   "id": "9089931a",
   "metadata": {},
   "outputs": [],
   "source": [
    "np_arr"
   ]
  },
  {
   "cell_type": "code",
   "execution_count": null,
   "id": "900b6dea",
   "metadata": {},
   "outputs": [],
   "source": [
    "array = [1, 2, 3]"
   ]
  },
  {
   "cell_type": "code",
   "execution_count": null,
   "id": "89117f33",
   "metadata": {},
   "outputs": [],
   "source": [
    "array"
   ]
  },
  {
   "cell_type": "code",
   "execution_count": null,
   "id": "e27edb5e",
   "metadata": {},
   "outputs": [],
   "source": [
    "empty_arr = np.array([])"
   ]
  },
  {
   "cell_type": "code",
   "execution_count": null,
   "id": "adec1c64",
   "metadata": {},
   "outputs": [],
   "source": [
    "empty_arr"
   ]
  },
  {
   "cell_type": "code",
   "execution_count": null,
   "id": "440df2c6",
   "metadata": {},
   "outputs": [],
   "source": [
    "empty_arr.shape"
   ]
  },
  {
   "cell_type": "code",
   "execution_count": null,
   "id": "d8d99291",
   "metadata": {},
   "outputs": [],
   "source": [
    "empty_arr.strides"
   ]
  },
  {
   "cell_type": "code",
   "execution_count": null,
   "id": "81490204",
   "metadata": {},
   "outputs": [],
   "source": [
    "np_arr.shape"
   ]
  },
  {
   "cell_type": "code",
   "execution_count": null,
   "id": "3e5320e7",
   "metadata": {},
   "outputs": [],
   "source": [
    "np_arr.dtype"
   ]
  },
  {
   "cell_type": "code",
   "execution_count": null,
   "id": "f30f2d0b",
   "metadata": {},
   "outputs": [],
   "source": [
    "np_arr.size"
   ]
  },
  {
   "cell_type": "code",
   "execution_count": null,
   "id": "b0512f51",
   "metadata": {},
   "outputs": [],
   "source": [
    "np_arr.ndim"
   ]
  },
  {
   "cell_type": "code",
   "execution_count": null,
   "id": "dde6e6b7",
   "metadata": {},
   "outputs": [],
   "source": [
    "np_arr.strides"
   ]
  },
  {
   "cell_type": "code",
   "execution_count": null,
   "id": "27f4ae47",
   "metadata": {},
   "outputs": [],
   "source": [
    "np_arr2 = np.array([1, 2, 3, 4, 5])"
   ]
  },
  {
   "cell_type": "code",
   "execution_count": null,
   "id": "6431e282",
   "metadata": {},
   "outputs": [],
   "source": [
    "np_arr2.strides"
   ]
  },
  {
   "cell_type": "code",
   "execution_count": null,
   "id": "f20a9f0c",
   "metadata": {},
   "outputs": [],
   "source": [
    "np_arr3 = np.array([[1, 2, 3], [4, 5, 6]])"
   ]
  },
  {
   "cell_type": "code",
   "execution_count": null,
   "id": "f91ec865",
   "metadata": {},
   "outputs": [],
   "source": [
    "np_arr3"
   ]
  },
  {
   "cell_type": "code",
   "execution_count": null,
   "id": "63ac7055",
   "metadata": {},
   "outputs": [],
   "source": [
    "np_arr3.strides"
   ]
  },
  {
   "cell_type": "code",
   "execution_count": null,
   "id": "9c4dd10b",
   "metadata": {},
   "outputs": [],
   "source": [
    "np.size"
   ]
  },
  {
   "cell_type": "code",
   "execution_count": null,
   "id": "37739586",
   "metadata": {},
   "outputs": [],
   "source": [
    "np_arr3.size"
   ]
  },
  {
   "cell_type": "code",
   "execution_count": null,
   "id": "7d1cb5b3",
   "metadata": {},
   "outputs": [],
   "source": [
    "np_arr3.ndim"
   ]
  },
  {
   "cell_type": "code",
   "execution_count": null,
   "id": "abdcd0bd",
   "metadata": {},
   "outputs": [],
   "source": [
    "np_arr = np.arange(10) + 1."
   ]
  },
  {
   "cell_type": "code",
   "execution_count": null,
   "id": "a2f3937c",
   "metadata": {},
   "outputs": [],
   "source": [
    "np_arr"
   ]
  },
  {
   "cell_type": "code",
   "execution_count": null,
   "id": "fb184e7a",
   "metadata": {},
   "outputs": [],
   "source": [
    "np_z = np.zeros((3, 4), dtype = np.float32)"
   ]
  },
  {
   "cell_type": "code",
   "execution_count": null,
   "id": "5bd40d37",
   "metadata": {},
   "outputs": [],
   "source": [
    "np_z"
   ]
  },
  {
   "cell_type": "code",
   "execution_count": null,
   "id": "ce8c0353",
   "metadata": {},
   "outputs": [],
   "source": [
    "np_o = np.ones((4, 3))"
   ]
  },
  {
   "cell_type": "code",
   "execution_count": null,
   "id": "cd1d2047",
   "metadata": {},
   "outputs": [],
   "source": [
    "np_o"
   ]
  },
  {
   "cell_type": "code",
   "execution_count": null,
   "id": "8d9c1548",
   "metadata": {},
   "outputs": [],
   "source": [
    "np_arr = np.linspace(2, 30, 50)"
   ]
  },
  {
   "cell_type": "code",
   "execution_count": null,
   "id": "4e2d91ce",
   "metadata": {},
   "outputs": [],
   "source": [
    "np_arr"
   ]
  },
  {
   "cell_type": "code",
   "execution_count": null,
   "id": "2dca50e9",
   "metadata": {},
   "outputs": [],
   "source": [
    "np.linspace(2, 30, 29)"
   ]
  },
  {
   "cell_type": "code",
   "execution_count": null,
   "id": "2599b1b5",
   "metadata": {},
   "outputs": [],
   "source": [
    "rand_arr2 = np.random.uniform(low=10.0, high=50.0, size=(3, 4))"
   ]
  },
  {
   "cell_type": "code",
   "execution_count": null,
   "id": "286191de",
   "metadata": {},
   "outputs": [],
   "source": [
    "rand_arr2"
   ]
  },
  {
   "cell_type": "code",
   "execution_count": null,
   "id": "7a9075cb",
   "metadata": {},
   "outputs": [],
   "source": [
    "rand_arr = np.random.rand(3, 4)"
   ]
  },
  {
   "cell_type": "code",
   "execution_count": null,
   "id": "e99e3c34",
   "metadata": {},
   "outputs": [],
   "source": [
    "rand_arr"
   ]
  },
  {
   "cell_type": "code",
   "execution_count": null,
   "id": "8e1dcd08",
   "metadata": {},
   "outputs": [],
   "source": [
    "rand_arr.dtype"
   ]
  },
  {
   "cell_type": "code",
   "execution_count": null,
   "id": "95c0c295",
   "metadata": {},
   "outputs": [],
   "source": [
    "rand_arr = rand_arr.astype(np.float32)"
   ]
  },
  {
   "cell_type": "code",
   "execution_count": null,
   "id": "1c2618c3",
   "metadata": {},
   "outputs": [],
   "source": [
    "rand_arr.dtype"
   ]
  },
  {
   "cell_type": "code",
   "execution_count": null,
   "id": "00036cfe",
   "metadata": {},
   "outputs": [],
   "source": [
    "reshape_arr = np.reshape(rand_arr, newshape=(6, -1))"
   ]
  },
  {
   "cell_type": "code",
   "execution_count": null,
   "id": "cc218cc4",
   "metadata": {},
   "outputs": [],
   "source": [
    "reshape_arr"
   ]
  },
  {
   "cell_type": "raw",
   "id": "08085434",
   "metadata": {},
   "source": [
    "reshape_arr.min()"
   ]
  },
  {
   "cell_type": "code",
   "execution_count": null,
   "id": "12cb25aa",
   "metadata": {},
   "outputs": [],
   "source": [
    "reshape_arr.max()"
   ]
  },
  {
   "cell_type": "code",
   "execution_count": null,
   "id": "e07cb77d",
   "metadata": {},
   "outputs": [],
   "source": [
    "np.median(reshape_arr)"
   ]
  },
  {
   "cell_type": "code",
   "execution_count": null,
   "id": "50956968",
   "metadata": {},
   "outputs": [],
   "source": [
    "np.argmax(reshape_arr)"
   ]
  },
  {
   "cell_type": "code",
   "execution_count": null,
   "id": "0df757a0",
   "metadata": {},
   "outputs": [],
   "source": [
    "np.min(reshape_arr, axis=0)"
   ]
  },
  {
   "cell_type": "code",
   "execution_count": null,
   "id": "12419a8d",
   "metadata": {},
   "outputs": [],
   "source": [
    "np.random.seed(124)"
   ]
  },
  {
   "cell_type": "code",
   "execution_count": null,
   "id": "09080ff6",
   "metadata": {},
   "outputs": [],
   "source": [
    "np_arr = np.random.rand(10, 6)"
   ]
  },
  {
   "cell_type": "code",
   "execution_count": null,
   "id": "3c54d1b6",
   "metadata": {},
   "outputs": [],
   "source": [
    "np_arr"
   ]
  },
  {
   "cell_type": "code",
   "execution_count": null,
   "id": "9161a1f4",
   "metadata": {},
   "outputs": [],
   "source": [
    "sub_arr = np_arr[2:5, :3]"
   ]
  },
  {
   "cell_type": "code",
   "execution_count": null,
   "id": "d9bd0874",
   "metadata": {},
   "outputs": [],
   "source": [
    "np_arr.size"
   ]
  },
  {
   "cell_type": "code",
   "execution_count": null,
   "id": "e3a3fe63",
   "metadata": {},
   "outputs": [],
   "source": [
    "np_arr.ndim"
   ]
  },
  {
   "cell_type": "code",
   "execution_count": null,
   "id": "d51ab5c8",
   "metadata": {},
   "outputs": [],
   "source": [
    "sub_arr"
   ]
  },
  {
   "cell_type": "code",
   "execution_count": null,
   "id": "f094f6eb",
   "metadata": {},
   "outputs": [],
   "source": [
    "# cropped_image = image[20:-20, 30:-30, :]"
   ]
  },
  {
   "cell_type": "code",
   "execution_count": null,
   "id": "e84033f4",
   "metadata": {},
   "outputs": [],
   "source": [
    "np.random.seed(56)"
   ]
  },
  {
   "cell_type": "code",
   "execution_count": null,
   "id": "d3e8196b",
   "metadata": {},
   "outputs": [],
   "source": [
    "np_arr = np.random.rand(12)"
   ]
  },
  {
   "cell_type": "code",
   "execution_count": null,
   "id": "0832107c",
   "metadata": {},
   "outputs": [],
   "source": [
    "np_arr"
   ]
  },
  {
   "cell_type": "code",
   "execution_count": null,
   "id": "4a4e799f",
   "metadata": {},
   "outputs": [],
   "source": [
    "mask = np_arr > 0.5"
   ]
  },
  {
   "cell_type": "code",
   "execution_count": null,
   "id": "78ba8280",
   "metadata": {},
   "outputs": [],
   "source": [
    "mask"
   ]
  },
  {
   "cell_type": "code",
   "execution_count": null,
   "id": "acb717b8",
   "metadata": {},
   "outputs": [],
   "source": [
    "np_cond_arr = np_arr[mask]"
   ]
  },
  {
   "cell_type": "code",
   "execution_count": null,
   "id": "29ed5f54",
   "metadata": {},
   "outputs": [],
   "source": [
    "np_cond_arr"
   ]
  },
  {
   "cell_type": "code",
   "execution_count": null,
   "id": "ac8fd042",
   "metadata": {},
   "outputs": [],
   "source": [
    "np_cond_arr2 = np_arr[np_arr > 0.5]"
   ]
  },
  {
   "cell_type": "code",
   "execution_count": null,
   "id": "42bb3c4c",
   "metadata": {},
   "outputs": [],
   "source": [
    "np_cond_arr2"
   ]
  },
  {
   "cell_type": "code",
   "execution_count": null,
   "id": "23d77894",
   "metadata": {},
   "outputs": [],
   "source": [
    "np_cond_arr = np_cond_arr / 2."
   ]
  },
  {
   "cell_type": "code",
   "execution_count": null,
   "id": "064eb94b",
   "metadata": {},
   "outputs": [],
   "source": [
    "np_cond_arr"
   ]
  },
  {
   "cell_type": "code",
   "execution_count": null,
   "id": "e0110499",
   "metadata": {},
   "outputs": [],
   "source": [
    "np.random.seed(57)"
   ]
  },
  {
   "cell_type": "code",
   "execution_count": null,
   "id": "26c7df54",
   "metadata": {},
   "outputs": [],
   "source": [
    "test_array = np_cond_arr2 + np.random.rand(np_cond_arr2.shape[0])"
   ]
  },
  {
   "cell_type": "code",
   "execution_count": null,
   "id": "e483c1e5",
   "metadata": {},
   "outputs": [],
   "source": [
    "test_array"
   ]
  },
  {
   "cell_type": "code",
   "execution_count": null,
   "id": "1fc0076d",
   "metadata": {},
   "outputs": [],
   "source": [
    "np.random.seed(124)"
   ]
  },
  {
   "cell_type": "code",
   "execution_count": null,
   "id": "e786c118",
   "metadata": {},
   "outputs": [],
   "source": [
    "np_arr = np.random.rand(10, 6)"
   ]
  },
  {
   "cell_type": "code",
   "execution_count": null,
   "id": "dc3c6125",
   "metadata": {},
   "outputs": [],
   "source": [
    "np_arr"
   ]
  },
  {
   "cell_type": "code",
   "execution_count": null,
   "id": "69767b39",
   "metadata": {},
   "outputs": [],
   "source": [
    "np.sum(np_arr, axis=1)"
   ]
  },
  {
   "cell_type": "code",
   "execution_count": null,
   "id": "c8992d0f",
   "metadata": {},
   "outputs": [],
   "source": [
    "arr1 = np.random.rand(2, 3, 10)"
   ]
  },
  {
   "cell_type": "code",
   "execution_count": null,
   "id": "6f429826",
   "metadata": {},
   "outputs": [],
   "source": [
    "arr2 = np.random.rand(2, 3 ,5)"
   ]
  },
  {
   "cell_type": "code",
   "execution_count": null,
   "id": "1c6f7b0e",
   "metadata": {},
   "outputs": [],
   "source": [
    "cc_arr = np.concatenate((arr1, arr2), axis=2)"
   ]
  },
  {
   "cell_type": "code",
   "execution_count": null,
   "id": "ed2cd6f8",
   "metadata": {},
   "outputs": [],
   "source": [
    "arr1"
   ]
  },
  {
   "cell_type": "code",
   "execution_count": null,
   "id": "2efdef9a",
   "metadata": {},
   "outputs": [],
   "source": [
    "arr2"
   ]
  },
  {
   "cell_type": "code",
   "execution_count": null,
   "id": "a5fabdc3",
   "metadata": {},
   "outputs": [],
   "source": [
    "cc_arr"
   ]
  },
  {
   "cell_type": "code",
   "execution_count": null,
   "id": "bed4764c",
   "metadata": {},
   "outputs": [],
   "source": [
    "np.random.seed(49)"
   ]
  },
  {
   "cell_type": "code",
   "execution_count": null,
   "id": "4c2371ae",
   "metadata": {},
   "outputs": [],
   "source": [
    "arr = np.random.rand(16)"
   ]
  },
  {
   "cell_type": "code",
   "execution_count": null,
   "id": "1432817f",
   "metadata": {},
   "outputs": [],
   "source": [
    "for i, e in enumerate(arr):\n",
    "    if e > 0.5:\n",
    "        print(e)\n",
    "    elif e < 0.4:\n",
    "        print(\"low element = {} on index = {}\".format(e, i))"
   ]
  },
  {
   "cell_type": "code",
   "execution_count": null,
   "id": "2b903842",
   "metadata": {},
   "outputs": [],
   "source": [
    "def my_func(value1, value2=0):\n",
    "    print(\"value = {} and {}\".format(value1, value2))\n",
    "    return value1 + \"_test\", value2 + 1"
   ]
  },
  {
   "cell_type": "code",
   "execution_count": null,
   "id": "1243118f",
   "metadata": {},
   "outputs": [],
   "source": [
    "my_func(\"mamad\")"
   ]
  },
  {
   "cell_type": "code",
   "execution_count": null,
   "id": "0401903e",
   "metadata": {},
   "outputs": [],
   "source": [
    "class MyClass:\n",
    "\n",
    "    def __init__(self, arg1, arg2):\n",
    "        self.arg1 = arg1\n",
    "        self.arg2 = arg2\n",
    "\n",
    "    def mtd(self):\n",
    "        print(self.arg1)\n",
    "        print(self.arg2)\n",
    "\n",
    "    def area(self):\n",
    "        raise NotImplementedError(\"Subclasses must implement this method\")"
   ]
  },
  {
   "cell_type": "code",
   "execution_count": null,
   "id": "9da8c900",
   "metadata": {},
   "outputs": [],
   "source": [
    "mc = MyClass(\"mamad\", 24)"
   ]
  },
  {
   "cell_type": "code",
   "execution_count": null,
   "id": "3b223ef2",
   "metadata": {},
   "outputs": [],
   "source": [
    "mc"
   ]
  },
  {
   "cell_type": "code",
   "execution_count": null,
   "id": "5b3dd86e",
   "metadata": {},
   "outputs": [],
   "source": [
    "mc.mtd()"
   ]
  },
  {
   "cell_type": "code",
   "execution_count": null,
   "id": "50a857c4",
   "metadata": {},
   "outputs": [],
   "source": [
    "class Shape:\n",
    "    def __init__(self, color):\n",
    "\n",
    "        # Storing the color of the shape\n",
    "        self.color = color\n",
    "\n",
    "    def area(self):\n",
    "\n",
    "        # This method should be implemented by subclasses\n",
    "        raise NotImplementedError(\"Subclasses must implement this method\")\n",
    "\n",
    "class Circle(Shape):\n",
    "    def __init__(self, color, radius):\n",
    "\n",
    "        # Initialize the parent class (Shape) with color\n",
    "        super().__init__(color)\n",
    "\n",
    "        # Storing the radius of the circle\n",
    "        self.radius = radius\n",
    "\n",
    "    def area(self):\n",
    "\n",
    "        # Circle-specific area calculation\n",
    "        return 3.14 * self.radius ** 2\n",
    "\n",
    "# Creating instances\n",
    "# Shape instance with color 'Red'\n",
    "s = Shape(\"Red\")\n",
    "\n",
    "# Circle instance with color 'Blue' and radius 5\n",
    "c = Circle(\"Blue\", 5)\n",
    "\n",
    "# Accessing attributes and methods\n",
    "print(s.color)  # Output: Red\n",
    "print(c.color)  # Output: Blue\n",
    "print(c.radius)  # Output: 5\n",
    "print(c.area())  # Output: 78.5"
   ]
  },
  {
   "cell_type": "code",
   "execution_count": null,
   "id": "e1c9de96",
   "metadata": {},
   "outputs": [],
   "source": [
    "class MyClass:\n",
    "\n",
    "    def __init__(self, arg1, arg2):\n",
    "        self.arg1 = arg1\n",
    "        self.arg2 = arg2\n",
    "\n",
    "    def mtd(self):\n",
    "        print(self.arg1)\n",
    "        print(self.arg2)\n",
    "\n",
    "    def area(self):\n",
    "        raise NotImplementedError(\"Subclasses must implement this method\")\n",
    "\n",
    "class MySubClass(MyClass):\n",
    "    def __init__(self, arg1, arg2, arg3):\n",
    "\n",
    "\n",
    "        super().__init__(arg1, arg2)\n",
    "\n",
    "        self.arg3 = arg3\n",
    "\n",
    "    def area(self):\n",
    "        return self.arg1 + self.arg2 + self.arg3\n",
    "\n",
    "msc = MySubClass(1, 2, 3)\n",
    "msc.area()"
   ]
  },
  {
   "cell_type": "code",
   "execution_count": null,
   "id": "7f07664d",
   "metadata": {},
   "outputs": [],
   "source": [
    "import os"
   ]
  },
  {
   "cell_type": "code",
   "execution_count": null,
   "id": "7004709d",
   "metadata": {},
   "outputs": [],
   "source": [
    "import pickle"
   ]
  },
  {
   "cell_type": "code",
   "execution_count": null,
   "id": "122b36b6",
   "metadata": {},
   "outputs": [],
   "source": [
    "os.listdir(\"/\")"
   ]
  },
  {
   "cell_type": "code",
   "execution_count": null,
   "id": "b6a31787",
   "metadata": {},
   "outputs": [],
   "source": [
    "for file_name in os.listdir(\"./\"):\n",
    "    if \"numpy\" in file_name:\n",
    "        print(file_name)"
   ]
  },
  {
   "cell_type": "code",
   "execution_count": null,
   "id": "c21d96c9",
   "metadata": {},
   "outputs": [],
   "source": [
    "if not os.path.exists(\"testdir/\"):\n",
    "    os.mkdir(\"testdir/\")\n",
    "else:\n",
    "    print(\"exists\")"
   ]
  },
  {
   "cell_type": "code",
   "execution_count": null,
   "id": "22029576",
   "metadata": {},
   "outputs": [],
   "source": [
    "os.listdir(\"./\")"
   ]
  },
  {
   "cell_type": "code",
   "execution_count": null,
   "id": "7a2b084b",
   "metadata": {},
   "outputs": [],
   "source": [
    "test_dict = {\"k1\": 1, \"k2\": 2, \"k3\": 3}"
   ]
  },
  {
   "cell_type": "code",
   "execution_count": null,
   "id": "497b2f00",
   "metadata": {},
   "outputs": [],
   "source": [
    "pickle.dump(test_dict, open(\"my_first_pickle.pkl\", \"wb\"))"
   ]
  },
  {
   "cell_type": "code",
   "execution_count": null,
   "id": "b992f41a",
   "metadata": {},
   "outputs": [],
   "source": [
    "loaded_dict = pickle.load(open(\"my_first_pickle.pkl\", \"rb\"))"
   ]
  },
  {
   "cell_type": "code",
   "execution_count": null,
   "id": "48d3c8cc",
   "metadata": {},
   "outputs": [],
   "source": [
    "loaded_dict"
   ]
  },
  {
   "cell_type": "code",
   "execution_count": null,
   "id": "3fe6a54d",
   "metadata": {},
   "outputs": [],
   "source": [
    "test_dict"
   ]
  },
  {
   "cell_type": "code",
   "execution_count": null,
   "id": "1bc6c027",
   "metadata": {},
   "outputs": [],
   "source": [
    "import tensorflow as tf"
   ]
  },
  {
   "cell_type": "code",
   "execution_count": null,
   "id": "68b5381d",
   "metadata": {},
   "outputs": [],
   "source": [
    "tensor_array = tf.convert_to_tensor([[1, 2], [4, 5]])"
   ]
  },
  {
   "cell_type": "code",
   "execution_count": null,
   "id": "3ca25201",
   "metadata": {},
   "outputs": [],
   "source": [
    "tensor_array"
   ]
  },
  {
   "cell_type": "code",
   "execution_count": null,
   "id": "9be3d3a7",
   "metadata": {},
   "outputs": [],
   "source": [
    "type(tensor_array)"
   ]
  },
  {
   "cell_type": "code",
   "execution_count": null,
   "id": "9c8940ff",
   "metadata": {},
   "outputs": [],
   "source": [
    "tensor_array.shape"
   ]
  },
  {
   "cell_type": "code",
   "execution_count": null,
   "id": "4e3dea13",
   "metadata": {},
   "outputs": [],
   "source": [
    "tensor_array.dtype"
   ]
  },
  {
   "cell_type": "code",
   "execution_count": null,
   "id": "045ca794",
   "metadata": {},
   "outputs": [],
   "source": [
    "int_tensor_array = tf.cast(tensor_array, dtype=tf.int32)"
   ]
  },
  {
   "cell_type": "code",
   "execution_count": null,
   "id": "4250fdac",
   "metadata": {},
   "outputs": [],
   "source": [
    "int_tensor_array"
   ]
  },
  {
   "cell_type": "code",
   "execution_count": null,
   "id": "ba2cda53",
   "metadata": {},
   "outputs": [],
   "source": [
    "tf_z = tf.zeros((3, 4), dtype=tf.float32)"
   ]
  },
  {
   "cell_type": "code",
   "execution_count": null,
   "id": "e8303297",
   "metadata": {},
   "outputs": [],
   "source": [
    "tf_z"
   ]
  },
  {
   "cell_type": "code",
   "execution_count": null,
   "id": "db4ae8ae",
   "metadata": {},
   "outputs": [],
   "source": [
    "tf.random.set_seed(46)\n",
    "rand_tf = tf.random.uniform(shape=(4, 10), maxval=1., dtype=tf.float32)"
   ]
  },
  {
   "cell_type": "code",
   "execution_count": null,
   "id": "c108435a",
   "metadata": {},
   "outputs": [],
   "source": [
    "rand_tf"
   ]
  },
  {
   "cell_type": "code",
   "execution_count": null,
   "id": "970f3b44",
   "metadata": {},
   "outputs": [],
   "source": [
    "tf_reshape = tf.reshape(rand_tf, (5, 8))"
   ]
  },
  {
   "cell_type": "code",
   "execution_count": null,
   "id": "08799ca4",
   "metadata": {},
   "outputs": [],
   "source": [
    "tf_reshape"
   ]
  },
  {
   "cell_type": "code",
   "execution_count": null,
   "id": "a519b80f",
   "metadata": {},
   "outputs": [],
   "source": [
    "tf.reduce_min(tf_reshape)"
   ]
  },
  {
   "cell_type": "code",
   "execution_count": null,
   "id": "0771cf81",
   "metadata": {},
   "outputs": [],
   "source": [
    "tf_reshape"
   ]
  },
  {
   "cell_type": "code",
   "execution_count": null,
   "id": "6eaaf3d8",
   "metadata": {},
   "outputs": [],
   "source": [
    "tf.reduce_mean(tf_reshape)"
   ]
  },
  {
   "cell_type": "code",
   "execution_count": null,
   "id": "499bb41e",
   "metadata": {},
   "outputs": [],
   "source": [
    "tf.reduce_mean(tf_reshape, axis=0)"
   ]
  },
  {
   "cell_type": "code",
   "execution_count": null,
   "id": "1ce15b81",
   "metadata": {},
   "outputs": [],
   "source": [
    "sub_tensor = tf_reshape[1:4, 4:7]"
   ]
  },
  {
   "cell_type": "code",
   "execution_count": null,
   "id": "a5a04c93",
   "metadata": {},
   "outputs": [],
   "source": [
    "sub_tensor"
   ]
  },
  {
   "cell_type": "code",
   "execution_count": null,
   "id": "968ac888",
   "metadata": {},
   "outputs": [],
   "source": [
    "mask = tf_reshape > 0.5"
   ]
  },
  {
   "cell_type": "code",
   "execution_count": null,
   "id": "40cfc922",
   "metadata": {},
   "outputs": [],
   "source": [
    "mask"
   ]
  },
  {
   "cell_type": "code",
   "execution_count": null,
   "id": "b3178c76",
   "metadata": {},
   "outputs": [],
   "source": [
    "tf_select = tf_reshape[mask]"
   ]
  },
  {
   "cell_type": "code",
   "execution_count": null,
   "id": "01641d33",
   "metadata": {
    "scrolled": true
   },
   "outputs": [],
   "source": [
    "tf_select"
   ]
  },
  {
   "cell_type": "code",
   "execution_count": null,
   "id": "5489d850",
   "metadata": {},
   "outputs": [],
   "source": [
    "tf.gather(tf_select, 1)"
   ]
  },
  {
   "cell_type": "code",
   "execution_count": null,
   "id": "40eb7f23",
   "metadata": {},
   "outputs": [],
   "source": [
    "tf.gather(tf_reshape, (0, 1, 2))"
   ]
  },
  {
   "cell_type": "code",
   "execution_count": null,
   "id": "9038ad61",
   "metadata": {},
   "outputs": [],
   "source": [
    "names = [\"ali\", \"mamad\", \"mohsen\"]"
   ]
  },
  {
   "cell_type": "code",
   "execution_count": null,
   "id": "2d6992bb",
   "metadata": {},
   "outputs": [],
   "source": [
    "with open(\"test_file.txt\", \"w\") as text_file:\n",
    "    for name in names:\n",
    "        text_file.write(\"Name of person = {}\\n\".format(name))\n",
    "text_file.close()"
   ]
  },
  {
   "cell_type": "code",
   "execution_count": null,
   "id": "bab1ff85",
   "metadata": {},
   "outputs": [],
   "source": [
    "read_names = []\n",
    "with open(\"test_file.txt\", \"r\") as text_file:\n",
    "    lines = text_file.readlines()\n",
    "    print(\"this is lines: {}\\n\".format(lines))\n",
    "    for index, line in enumerate(lines):\n",
    "        print(\"line {}: {}\".format(index, line))\n",
    "        words = line.split(\" \")\n",
    "        print(\"this is words: {}\\n\".format(words))\n",
    "        read_names.append(words[-1][:-1])\n",
    "        print(\"this is read names: {}\\n\".format(read_names))"
   ]
  },
  {
   "cell_type": "code",
   "execution_count": null,
   "id": "5ea7232c",
   "metadata": {},
   "outputs": [],
   "source": [
    "read_names"
   ]
  },
  {
   "cell_type": "code",
   "execution_count": null,
   "id": "d04fca93",
   "metadata": {},
   "outputs": [],
   "source": [
    "(train_data, train_labels), (test_data, test_labels) = tf.keras.datasets.mnist.load_data()"
   ]
  },
  {
   "cell_type": "code",
   "execution_count": null,
   "id": "1e7464d5",
   "metadata": {},
   "outputs": [],
   "source": [
    "import matplotlib.pyplot as plt"
   ]
  },
  {
   "cell_type": "code",
   "execution_count": null,
   "id": "4f95d87e",
   "metadata": {
    "scrolled": true
   },
   "outputs": [],
   "source": [
    "plt.imshow(train_data[0])"
   ]
  },
  {
   "cell_type": "code",
   "execution_count": null,
   "id": "975844bd",
   "metadata": {},
   "outputs": [],
   "source": [
    "import pandas as pd"
   ]
  },
  {
   "cell_type": "code",
   "execution_count": null,
   "id": "5e19cb55",
   "metadata": {},
   "outputs": [],
   "source": [
    "from sklearn.preprocessing import MinMaxScaler"
   ]
  },
  {
   "cell_type": "code",
   "execution_count": null,
   "id": "9da808a9",
   "metadata": {},
   "outputs": [],
   "source": [
    "(train_data, train_labels), (test_data, test_labels) = tf.keras.datasets.boston_housing.load_data()"
   ]
  },
  {
   "cell_type": "code",
   "execution_count": null,
   "id": "932fd435",
   "metadata": {},
   "outputs": [],
   "source": [
    "train_data[0]"
   ]
  },
  {
   "cell_type": "code",
   "execution_count": null,
   "id": "31c7137e",
   "metadata": {},
   "outputs": [],
   "source": [
    "train_data.strides"
   ]
  },
  {
   "cell_type": "code",
   "execution_count": null,
   "id": "d52576e4",
   "metadata": {},
   "outputs": [],
   "source": [
    "train_data.ndim"
   ]
  },
  {
   "cell_type": "code",
   "execution_count": null,
   "id": "92a6dcce",
   "metadata": {},
   "outputs": [],
   "source": [
    "train_data[1]"
   ]
  },
  {
   "cell_type": "code",
   "execution_count": null,
   "id": "cc60a74c",
   "metadata": {},
   "outputs": [],
   "source": [
    "train_labels.shape"
   ]
  },
  {
   "cell_type": "code",
   "execution_count": null,
   "id": "95edb593",
   "metadata": {},
   "outputs": [],
   "source": [
    "test_labels.shape"
   ]
  },
  {
   "cell_type": "code",
   "execution_count": null,
   "id": "b100c415",
   "metadata": {},
   "outputs": [],
   "source": [
    "test_data.shape"
   ]
  },
  {
   "cell_type": "code",
   "execution_count": null,
   "id": "c208b14b",
   "metadata": {},
   "outputs": [],
   "source": [
    "train_data.dtype"
   ]
  },
  {
   "cell_type": "code",
   "execution_count": null,
   "id": "27b4e0cb",
   "metadata": {},
   "outputs": [],
   "source": [
    "train_labels.dtype"
   ]
  },
  {
   "cell_type": "code",
   "execution_count": null,
   "id": "5680a8fc",
   "metadata": {},
   "outputs": [],
   "source": [
    "train_data.min(axis=0)"
   ]
  },
  {
   "cell_type": "code",
   "execution_count": null,
   "id": "20383f2d",
   "metadata": {},
   "outputs": [],
   "source": [
    "train_data.max()"
   ]
  },
  {
   "cell_type": "code",
   "execution_count": null,
   "id": "70a20281",
   "metadata": {},
   "outputs": [],
   "source": [
    "train_data.max(axis=0)"
   ]
  },
  {
   "cell_type": "code",
   "execution_count": null,
   "id": "dd3067e0",
   "metadata": {},
   "outputs": [],
   "source": [
    "train_labels.max()"
   ]
  },
  {
   "cell_type": "code",
   "execution_count": null,
   "id": "f0a4f108",
   "metadata": {},
   "outputs": [],
   "source": [
    "# Normalize between 0, 1\n",
    "# Data type to float32\n",
    "# Shape compatibality"
   ]
  },
  {
   "cell_type": "code",
   "execution_count": null,
   "id": "c34f9434",
   "metadata": {},
   "outputs": [],
   "source": [
    "min_max_scaler = MinMaxScaler()"
   ]
  },
  {
   "cell_type": "code",
   "execution_count": null,
   "id": "ca3edfce",
   "metadata": {},
   "outputs": [],
   "source": [
    "min_max_scaler.fit(train_data)"
   ]
  },
  {
   "cell_type": "code",
   "execution_count": null,
   "id": "845df828",
   "metadata": {},
   "outputs": [],
   "source": [
    "train_data = min_max_scaler.transform(train_data)"
   ]
  },
  {
   "cell_type": "code",
   "execution_count": null,
   "id": "6e699114",
   "metadata": {},
   "outputs": [],
   "source": [
    "train_data.max(axis=0)"
   ]
  },
  {
   "cell_type": "code",
   "execution_count": null,
   "id": "2cf37a21",
   "metadata": {},
   "outputs": [],
   "source": [
    "train_data.min(axis=0)"
   ]
  },
  {
   "cell_type": "code",
   "execution_count": null,
   "id": "8a11e7b9",
   "metadata": {},
   "outputs": [],
   "source": [
    "train_data[0]"
   ]
  },
  {
   "cell_type": "code",
   "execution_count": null,
   "id": "5618248f",
   "metadata": {},
   "outputs": [],
   "source": [
    "test_data = min_max_scaler.transform(test_data)"
   ]
  },
  {
   "cell_type": "code",
   "execution_count": null,
   "id": "6c70d795",
   "metadata": {},
   "outputs": [],
   "source": [
    "test_data.min(axis=0)"
   ]
  },
  {
   "cell_type": "code",
   "execution_count": null,
   "id": "94190df1",
   "metadata": {},
   "outputs": [],
   "source": [
    "test_data.max(axis=0)"
   ]
  },
  {
   "cell_type": "code",
   "execution_count": null,
   "id": "731a4fe1",
   "metadata": {},
   "outputs": [],
   "source": [
    "train_data = train_data.astype(np.float32)"
   ]
  },
  {
   "cell_type": "code",
   "execution_count": null,
   "id": "c2cbb131",
   "metadata": {},
   "outputs": [],
   "source": [
    "train_data.dtype"
   ]
  },
  {
   "cell_type": "code",
   "execution_count": null,
   "id": "ad42c5af",
   "metadata": {},
   "outputs": [],
   "source": [
    "test_data = test_data.astype(np.float32)"
   ]
  },
  {
   "cell_type": "code",
   "execution_count": null,
   "id": "1e8898b6",
   "metadata": {},
   "outputs": [],
   "source": [
    "test_data.dtype"
   ]
  },
  {
   "cell_type": "code",
   "execution_count": null,
   "id": "95dd13a5",
   "metadata": {},
   "outputs": [],
   "source": [
    "train_labels.min()"
   ]
  },
  {
   "cell_type": "code",
   "execution_count": null,
   "id": "998a692f",
   "metadata": {},
   "outputs": [],
   "source": [
    "train_labels.max()"
   ]
  },
  {
   "cell_type": "code",
   "execution_count": null,
   "id": "d437f391",
   "metadata": {},
   "outputs": [],
   "source": [
    "train_labels.min(axis=0)"
   ]
  },
  {
   "cell_type": "code",
   "execution_count": null,
   "id": "202d5ef7",
   "metadata": {},
   "outputs": [],
   "source": [
    "train_labels.max(axis=0)"
   ]
  },
  {
   "cell_type": "code",
   "execution_count": null,
   "id": "255d2d30",
   "metadata": {},
   "outputs": [],
   "source": [
    "train_labels = train_labels.astype(np.float32).reshape((-1, 1)) / 50."
   ]
  },
  {
   "cell_type": "code",
   "execution_count": null,
   "id": "8dfcc98f",
   "metadata": {},
   "outputs": [],
   "source": [
    "train_labels.min()"
   ]
  },
  {
   "cell_type": "code",
   "execution_count": null,
   "id": "a02f241f",
   "metadata": {},
   "outputs": [],
   "source": [
    "train_labels.min(axis=0)"
   ]
  },
  {
   "cell_type": "code",
   "execution_count": null,
   "id": "0ba18b88",
   "metadata": {},
   "outputs": [],
   "source": [
    "train_labels.max()"
   ]
  },
  {
   "cell_type": "code",
   "execution_count": null,
   "id": "ea7da4ff",
   "metadata": {},
   "outputs": [],
   "source": [
    "train_labels.max(axis=0)"
   ]
  },
  {
   "cell_type": "code",
   "execution_count": null,
   "id": "ea7297e5",
   "metadata": {},
   "outputs": [],
   "source": [
    "train_labels.dtype"
   ]
  },
  {
   "cell_type": "code",
   "execution_count": null,
   "id": "5d0e1c05",
   "metadata": {},
   "outputs": [],
   "source": [
    "train_labels.shape"
   ]
  },
  {
   "cell_type": "code",
   "execution_count": null,
   "id": "5849aa7d",
   "metadata": {},
   "outputs": [],
   "source": [
    "test_labels = test_labels.astype(np.float32).reshape((-1, 1)) / 50."
   ]
  },
  {
   "cell_type": "code",
   "execution_count": null,
   "id": "db72166f",
   "metadata": {},
   "outputs": [],
   "source": [
    "test_labels.shape"
   ]
  },
  {
   "cell_type": "code",
   "execution_count": null,
   "id": "cf9482de",
   "metadata": {},
   "outputs": [],
   "source": [
    "test_labels.dtype"
   ]
  },
  {
   "cell_type": "code",
   "execution_count": null,
   "id": "ef2111fc",
   "metadata": {},
   "outputs": [],
   "source": [
    "test_labels.max()"
   ]
  },
  {
   "cell_type": "code",
   "execution_count": null,
   "id": "b309bb44",
   "metadata": {},
   "outputs": [],
   "source": [
    "test_labels.min()"
   ]
  },
  {
   "cell_type": "code",
   "execution_count": null,
   "id": "33a006a1",
   "metadata": {},
   "outputs": [],
   "source": [
    "train_labels.min()"
   ]
  },
  {
   "cell_type": "code",
   "execution_count": null,
   "id": "90c846ca",
   "metadata": {},
   "outputs": [],
   "source": [
    "train_data.shape, train_data.dtype, train_data.min(), train_data.max()"
   ]
  },
  {
   "cell_type": "code",
   "execution_count": null,
   "id": "04f79748",
   "metadata": {},
   "outputs": [],
   "source": [
    "test_data.shape, test_data.dtype, train_data.min(), test_data.max()"
   ]
  },
  {
   "cell_type": "code",
   "execution_count": null,
   "id": "9ebd2218",
   "metadata": {},
   "outputs": [],
   "source": [
    "test_labels.shape, test_labels.dtype, test_labels.min(), test_labels.max()"
   ]
  },
  {
   "cell_type": "code",
   "execution_count": null,
   "id": "88c29fa5",
   "metadata": {},
   "outputs": [],
   "source": [
    "train_labels.shape, train_labels.dtype, train_labels.min(), train_labels.max()"
   ]
  },
  {
   "cell_type": "code",
   "execution_count": null,
   "id": "2a89d800",
   "metadata": {},
   "outputs": [],
   "source": [
    "from tensorflow.keras.models import Model, Sequential"
   ]
  },
  {
   "cell_type": "code",
   "execution_count": null,
   "id": "c01be0f9",
   "metadata": {},
   "outputs": [],
   "source": [
    "from tensorflow.keras.layers import Input, Dense"
   ]
  },
  {
   "cell_type": "code",
   "execution_count": null,
   "id": "192a6e45",
   "metadata": {},
   "outputs": [],
   "source": [
    "seq_model = Sequential()"
   ]
  },
  {
   "cell_type": "code",
   "execution_count": null,
   "id": "99aee163",
   "metadata": {},
   "outputs": [],
   "source": [
    "input_layer = Input((13, ), )"
   ]
  },
  {
   "cell_type": "code",
   "execution_count": null,
   "id": "5887958f",
   "metadata": {},
   "outputs": [],
   "source": [
    "first_layer_output = Dense(units=13, activation=tf.nn.relu, use_bias=False)(input_layer)"
   ]
  },
  {
   "cell_type": "code",
   "execution_count": null,
   "id": "26746c9c",
   "metadata": {},
   "outputs": [],
   "source": [
    "second_layer_output = Dense(units=8, activation=tf.nn.relu, use_bias=False)(first_layer_output)"
   ]
  },
  {
   "cell_type": "code",
   "execution_count": null,
   "id": "f1724550",
   "metadata": {},
   "outputs": [],
   "source": [
    "predictions = Dense(units=1)(second_layer_output)"
   ]
  },
  {
   "cell_type": "code",
   "execution_count": null,
   "id": "793a01bc",
   "metadata": {},
   "outputs": [],
   "source": [
    "regression_model = Model(input_layer, predictions)"
   ]
  },
  {
   "cell_type": "code",
   "execution_count": null,
   "id": "e2101b6a",
   "metadata": {},
   "outputs": [],
   "source": [
    "regression_model.summary()"
   ]
  },
  {
   "cell_type": "code",
   "execution_count": null,
   "id": "598bb0fe",
   "metadata": {},
   "outputs": [],
   "source": []
  }
 ],
 "metadata": {
  "kernelspec": {
   "display_name": "ml",
   "language": "python",
   "name": "python3"
  },
  "language_info": {
   "codemirror_mode": {
    "name": "ipython",
    "version": 3
   },
   "file_extension": ".py",
   "mimetype": "text/x-python",
   "name": "python",
   "nbconvert_exporter": "python",
   "pygments_lexer": "ipython3",
   "version": "3.9.18"
  }
 },
 "nbformat": 4,
 "nbformat_minor": 5
}
