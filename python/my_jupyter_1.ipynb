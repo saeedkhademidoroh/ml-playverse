{
 "cells": [
  {
   "cell_type": "code",
   "execution_count": 1,
   "id": "bed745bc",
   "metadata": {},
   "outputs": [],
   "source": [
    "import numpy as np"
   ]
  },
  {
   "cell_type": "code",
   "execution_count": 2,
   "id": "d13cbfdd",
   "metadata": {},
   "outputs": [
    {
     "name": "stderr",
     "output_type": "stream",
     "text": [
      "2025-02-14 16:09:25.668168: I tensorflow/core/util/port.cc:153] oneDNN custom operations are on. You may see slightly different numerical results due to floating-point round-off errors from different computation orders. To turn them off, set the environment variable `TF_ENABLE_ONEDNN_OPTS=0`.\n",
      "2025-02-14 16:09:25.668757: I external/local_xla/xla/tsl/cuda/cudart_stub.cc:32] Could not find cuda drivers on your machine, GPU will not be used.\n",
      "2025-02-14 16:09:25.671521: I external/local_xla/xla/tsl/cuda/cudart_stub.cc:32] Could not find cuda drivers on your machine, GPU will not be used.\n",
      "2025-02-14 16:09:25.680417: E external/local_xla/xla/stream_executor/cuda/cuda_fft.cc:477] Unable to register cuFFT factory: Attempting to register factory for plugin cuFFT when one has already been registered\n",
      "WARNING: All log messages before absl::InitializeLog() is called are written to STDERR\n",
      "E0000 00:00:1739536765.693612    9663 cuda_dnn.cc:8310] Unable to register cuDNN factory: Attempting to register factory for plugin cuDNN when one has already been registered\n",
      "E0000 00:00:1739536765.697600    9663 cuda_blas.cc:1418] Unable to register cuBLAS factory: Attempting to register factory for plugin cuBLAS when one has already been registered\n",
      "2025-02-14 16:09:25.711589: I tensorflow/core/platform/cpu_feature_guard.cc:210] This TensorFlow binary is optimized to use available CPU instructions in performance-critical operations.\n",
      "To enable the following instructions: AVX2 AVX512F AVX512_VNNI FMA, in other operations, rebuild TensorFlow with the appropriate compiler flags.\n"
     ]
    }
   ],
   "source": [
    "import tensorflow as tf"
   ]
  },
  {
   "cell_type": "code",
   "execution_count": 3,
   "id": "90dadb5f",
   "metadata": {},
   "outputs": [],
   "source": [
    "l1 = [1, 2 , 3]"
   ]
  },
  {
   "cell_type": "code",
   "execution_count": 4,
   "id": "6ec11ce3",
   "metadata": {},
   "outputs": [
    {
     "data": {
      "text/plain": [
       "[1, 2, 3]"
      ]
     },
     "execution_count": 4,
     "metadata": {},
     "output_type": "execute_result"
    }
   ],
   "source": [
    "l1"
   ]
  },
  {
   "cell_type": "code",
   "execution_count": 5,
   "id": "d3ce137a",
   "metadata": {},
   "outputs": [
    {
     "name": "stdout",
     "output_type": "stream",
     "text": [
      "[1, 2, 3]\n"
     ]
    }
   ],
   "source": [
    "print(l1)"
   ]
  },
  {
   "cell_type": "code",
   "execution_count": 6,
   "id": "0b1bbab0",
   "metadata": {
    "scrolled": true
   },
   "outputs": [
    {
     "name": "stdout",
     "output_type": "stream",
     "text": [
      "[1, 2, 3, 1, 2, 3]\n"
     ]
    }
   ],
   "source": [
    "print(l1+l1)"
   ]
  },
  {
   "cell_type": "code",
   "execution_count": 7,
   "id": "ad32f8e8",
   "metadata": {},
   "outputs": [
    {
     "name": "stdout",
     "output_type": "stream",
     "text": [
      "The Zen of Python, by Tim Peters\n",
      "\n",
      "Beautiful is better than ugly.\n",
      "Explicit is better than implicit.\n",
      "Simple is better than complex.\n",
      "Complex is better than complicated.\n",
      "Flat is better than nested.\n",
      "Sparse is better than dense.\n",
      "Readability counts.\n",
      "Special cases aren't special enough to break the rules.\n",
      "Although practicality beats purity.\n",
      "Errors should never pass silently.\n",
      "Unless explicitly silenced.\n",
      "In the face of ambiguity, refuse the temptation to guess.\n",
      "There should be one-- and preferably only one --obvious way to do it.\n",
      "Although that way may not be obvious at first unless you're Dutch.\n",
      "Now is better than never.\n",
      "Although never is often better than *right* now.\n",
      "If the implementation is hard to explain, it's a bad idea.\n",
      "If the implementation is easy to explain, it may be a good idea.\n",
      "Namespaces are one honking great idea -- let's do more of those!\n"
     ]
    }
   ],
   "source": [
    "import this"
   ]
  },
  {
   "cell_type": "code",
   "execution_count": 8,
   "id": "870a91b3",
   "metadata": {},
   "outputs": [
    {
     "name": "stdout",
     "output_type": "stream",
     "text": [
      "Hello World!\n"
     ]
    }
   ],
   "source": [
    "print(\"Hello World!\")"
   ]
  },
  {
   "cell_type": "markdown",
   "id": "f7b806f7",
   "metadata": {},
   "source": [
    "b = True"
   ]
  },
  {
   "cell_type": "code",
   "execution_count": 9,
   "id": "c26390d7",
   "metadata": {},
   "outputs": [],
   "source": [
    "b = 1.1"
   ]
  },
  {
   "cell_type": "code",
   "execution_count": 10,
   "id": "07a9d5b6",
   "metadata": {},
   "outputs": [
    {
     "data": {
      "text/plain": [
       "(1.1, float)"
      ]
     },
     "execution_count": 10,
     "metadata": {},
     "output_type": "execute_result"
    }
   ],
   "source": [
    "b, type(b)"
   ]
  },
  {
   "cell_type": "code",
   "execution_count": 11,
   "id": "b051dfb3",
   "metadata": {},
   "outputs": [
    {
     "name": "stdout",
     "output_type": "stream",
     "text": [
      "<class 'float'>\n"
     ]
    }
   ],
   "source": [
    "print(type(b))"
   ]
  },
  {
   "cell_type": "code",
   "execution_count": 12,
   "id": "2f39726d",
   "metadata": {},
   "outputs": [],
   "source": [
    "i = 2"
   ]
  },
  {
   "cell_type": "code",
   "execution_count": 13,
   "id": "6b2603df",
   "metadata": {},
   "outputs": [
    {
     "data": {
      "text/plain": [
       "(2, int)"
      ]
     },
     "execution_count": 13,
     "metadata": {},
     "output_type": "execute_result"
    }
   ],
   "source": [
    "i, type(i)"
   ]
  },
  {
   "cell_type": "code",
   "execution_count": 14,
   "id": "0f9f7c1b",
   "metadata": {},
   "outputs": [],
   "source": [
    "f = 2.0"
   ]
  },
  {
   "cell_type": "code",
   "execution_count": 15,
   "id": "802541c8",
   "metadata": {},
   "outputs": [
    {
     "data": {
      "text/plain": [
       "(2.0, float)"
      ]
     },
     "execution_count": 15,
     "metadata": {},
     "output_type": "execute_result"
    }
   ],
   "source": [
    "f, type(f)"
   ]
  },
  {
   "cell_type": "code",
   "execution_count": 16,
   "id": "e8632ae0",
   "metadata": {},
   "outputs": [],
   "source": [
    "c = 1 + 3j"
   ]
  },
  {
   "cell_type": "code",
   "execution_count": 17,
   "id": "12a82008",
   "metadata": {},
   "outputs": [
    {
     "data": {
      "text/plain": [
       "((1+3j), complex)"
      ]
     },
     "execution_count": 17,
     "metadata": {},
     "output_type": "execute_result"
    }
   ],
   "source": [
    "c, type(c)"
   ]
  },
  {
   "cell_type": "code",
   "execution_count": 18,
   "id": "08a463a0",
   "metadata": {},
   "outputs": [],
   "source": [
    "s1 = 'mamad'"
   ]
  },
  {
   "cell_type": "code",
   "execution_count": 19,
   "id": "7fef7fc0",
   "metadata": {},
   "outputs": [
    {
     "data": {
      "text/plain": [
       "'mamad'"
      ]
     },
     "execution_count": 19,
     "metadata": {},
     "output_type": "execute_result"
    }
   ],
   "source": [
    "s1"
   ]
  },
  {
   "cell_type": "code",
   "execution_count": 20,
   "id": "260eb064",
   "metadata": {},
   "outputs": [],
   "source": [
    "s2 = 'mamad rafte \"folanja\"'"
   ]
  },
  {
   "cell_type": "code",
   "execution_count": 21,
   "id": "d74853d5",
   "metadata": {},
   "outputs": [
    {
     "data": {
      "text/plain": [
       "('mamad rafte \"folanja\"', 'mamad rafte \"folanja\"')"
      ]
     },
     "execution_count": 21,
     "metadata": {},
     "output_type": "execute_result"
    }
   ],
   "source": [
    "s2, s2"
   ]
  },
  {
   "cell_type": "code",
   "execution_count": 22,
   "id": "8c5beef4",
   "metadata": {},
   "outputs": [],
   "source": [
    "s1 = \"abc\""
   ]
  },
  {
   "cell_type": "code",
   "execution_count": 23,
   "id": "e28341d2",
   "metadata": {},
   "outputs": [],
   "source": [
    "s2 = \"123\""
   ]
  },
  {
   "cell_type": "code",
   "execution_count": 24,
   "id": "a3d0a9cf",
   "metadata": {},
   "outputs": [
    {
     "name": "stdout",
     "output_type": "stream",
     "text": [
      "abc\n"
     ]
    }
   ],
   "source": [
    "print(s1)"
   ]
  },
  {
   "cell_type": "code",
   "execution_count": 25,
   "id": "dae5a7d0",
   "metadata": {},
   "outputs": [
    {
     "name": "stdout",
     "output_type": "stream",
     "text": [
      "123\n"
     ]
    }
   ],
   "source": [
    "print(s2)"
   ]
  },
  {
   "cell_type": "code",
   "execution_count": 26,
   "id": "057e7740",
   "metadata": {},
   "outputs": [
    {
     "name": "stdout",
     "output_type": "stream",
     "text": [
      "abc123\n"
     ]
    }
   ],
   "source": [
    "print(s1+s2)"
   ]
  },
  {
   "cell_type": "code",
   "execution_count": 27,
   "id": "64e997a9",
   "metadata": {},
   "outputs": [
    {
     "data": {
      "text/plain": [
       "2"
      ]
     },
     "execution_count": 27,
     "metadata": {},
     "output_type": "execute_result"
    }
   ],
   "source": [
    "s2.index(\"3\")"
   ]
  },
  {
   "cell_type": "code",
   "execution_count": 28,
   "id": "f6ed14c8",
   "metadata": {},
   "outputs": [
    {
     "data": {
      "text/plain": [
       "True"
      ]
     },
     "execution_count": 28,
     "metadata": {},
     "output_type": "execute_result"
    }
   ],
   "source": [
    "s2.endswith(\"3\")"
   ]
  },
  {
   "cell_type": "code",
   "execution_count": 29,
   "id": "5f3f2253",
   "metadata": {},
   "outputs": [
    {
     "data": {
      "text/plain": [
       "True"
      ]
     },
     "execution_count": 29,
     "metadata": {},
     "output_type": "execute_result"
    }
   ],
   "source": [
    "\"3\" in s2"
   ]
  },
  {
   "cell_type": "code",
   "execution_count": 30,
   "id": "60ab9a1e",
   "metadata": {},
   "outputs": [
    {
     "data": {
      "text/plain": [
       "2"
      ]
     },
     "execution_count": 30,
     "metadata": {},
     "output_type": "execute_result"
    }
   ],
   "source": [
    "s2.find(\"3\")"
   ]
  },
  {
   "cell_type": "code",
   "execution_count": 31,
   "id": "1db4d8db",
   "metadata": {},
   "outputs": [],
   "source": [
    "my_list = [1, 2, 3, 4.1, \"mamad\", \"part\", [\"hassan\", 3.3]]"
   ]
  },
  {
   "cell_type": "code",
   "execution_count": 32,
   "id": "4d8c7ee4",
   "metadata": {},
   "outputs": [
    {
     "data": {
      "text/plain": [
       "[1, 2, 3, 4.1, 'mamad', 'part', ['hassan', 3.3]]"
      ]
     },
     "execution_count": 32,
     "metadata": {},
     "output_type": "execute_result"
    }
   ],
   "source": [
    "my_list"
   ]
  },
  {
   "cell_type": "code",
   "execution_count": 33,
   "id": "abae00c1",
   "metadata": {},
   "outputs": [
    {
     "name": "stdout",
     "output_type": "stream",
     "text": [
      "<class 'int'>\n",
      "<class 'int'>\n",
      "<class 'int'>\n",
      "<class 'float'>\n",
      "<class 'str'>\n",
      "<class 'str'>\n",
      "<class 'list'>\n"
     ]
    }
   ],
   "source": [
    "for item in my_list:\n",
    "    print(type(item))"
   ]
  },
  {
   "cell_type": "code",
   "execution_count": 34,
   "id": "9d2ec6f3",
   "metadata": {},
   "outputs": [
    {
     "data": {
      "text/plain": [
       "list"
      ]
     },
     "execution_count": 34,
     "metadata": {},
     "output_type": "execute_result"
    }
   ],
   "source": [
    "type(my_list)"
   ]
  },
  {
   "cell_type": "code",
   "execution_count": 35,
   "id": "61d44bc8",
   "metadata": {},
   "outputs": [
    {
     "data": {
      "text/plain": [
       "7"
      ]
     },
     "execution_count": 35,
     "metadata": {},
     "output_type": "execute_result"
    }
   ],
   "source": [
    "len(my_list)"
   ]
  },
  {
   "cell_type": "code",
   "execution_count": 36,
   "id": "292dd82f",
   "metadata": {},
   "outputs": [
    {
     "data": {
      "text/plain": [
       "4"
      ]
     },
     "execution_count": 36,
     "metadata": {},
     "output_type": "execute_result"
    }
   ],
   "source": [
    "my_list.index(\"mamad\")"
   ]
  },
  {
   "cell_type": "code",
   "execution_count": 37,
   "id": "19a890d1",
   "metadata": {},
   "outputs": [],
   "source": [
    "my_list.append(\"mamad2\")"
   ]
  },
  {
   "cell_type": "code",
   "execution_count": 38,
   "id": "476bb460",
   "metadata": {},
   "outputs": [
    {
     "data": {
      "text/plain": [
       "'mamad2'"
      ]
     },
     "execution_count": 38,
     "metadata": {},
     "output_type": "execute_result"
    }
   ],
   "source": [
    "my_list[-1]"
   ]
  },
  {
   "cell_type": "code",
   "execution_count": 39,
   "id": "e9c68522",
   "metadata": {},
   "outputs": [],
   "source": [
    "test_list = [\"extend1\", \"extend2\"]"
   ]
  },
  {
   "cell_type": "code",
   "execution_count": 40,
   "id": "de8bba48",
   "metadata": {},
   "outputs": [],
   "source": [
    "my_list.append(test_list)"
   ]
  },
  {
   "cell_type": "code",
   "execution_count": 41,
   "id": "e70cf141",
   "metadata": {},
   "outputs": [],
   "source": [
    "my_list.extend(my_list)"
   ]
  },
  {
   "cell_type": "code",
   "execution_count": 42,
   "id": "abbd39c9",
   "metadata": {},
   "outputs": [],
   "source": [
    "my_list = [1, 2, 3, 4.1, \"mamad\", \"part\", [\"hassan\", 3.3]]"
   ]
  },
  {
   "cell_type": "code",
   "execution_count": 43,
   "id": "de5ac965",
   "metadata": {},
   "outputs": [
    {
     "data": {
      "text/plain": [
       "[1, 2, 3, 4.1, 'mamad', 'part', ['hassan', 3.3], 'extend1', 'extend2']"
      ]
     },
     "execution_count": 43,
     "metadata": {},
     "output_type": "execute_result"
    }
   ],
   "source": [
    "my_list + test_list"
   ]
  },
  {
   "cell_type": "code",
   "execution_count": 44,
   "id": "db449d09",
   "metadata": {},
   "outputs": [],
   "source": [
    "my_list.append(test_list)"
   ]
  },
  {
   "cell_type": "code",
   "execution_count": 45,
   "id": "4b1db1c2",
   "metadata": {},
   "outputs": [
    {
     "data": {
      "text/plain": [
       "[1, 2, 3, 4.1, 'mamad', 'part', ['hassan', 3.3], ['extend1', 'extend2']]"
      ]
     },
     "execution_count": 45,
     "metadata": {},
     "output_type": "execute_result"
    }
   ],
   "source": [
    "my_list"
   ]
  },
  {
   "cell_type": "code",
   "execution_count": 46,
   "id": "dae7ea00",
   "metadata": {},
   "outputs": [],
   "source": [
    "my_list.extend(test_list)"
   ]
  },
  {
   "cell_type": "code",
   "execution_count": 47,
   "id": "e8d44085",
   "metadata": {},
   "outputs": [
    {
     "data": {
      "text/plain": [
       "[1,\n",
       " 2,\n",
       " 3,\n",
       " 4.1,\n",
       " 'mamad',\n",
       " 'part',\n",
       " ['hassan', 3.3],\n",
       " ['extend1', 'extend2'],\n",
       " 'extend1',\n",
       " 'extend2']"
      ]
     },
     "execution_count": 47,
     "metadata": {},
     "output_type": "execute_result"
    }
   ],
   "source": [
    "my_list"
   ]
  },
  {
   "cell_type": "code",
   "execution_count": 48,
   "id": "36ba981e",
   "metadata": {},
   "outputs": [],
   "source": [
    "my_list.insert(2, 2.5)"
   ]
  },
  {
   "cell_type": "code",
   "execution_count": 49,
   "id": "8be05b76",
   "metadata": {},
   "outputs": [
    {
     "data": {
      "text/plain": [
       "[1,\n",
       " 2,\n",
       " 2.5,\n",
       " 3,\n",
       " 4.1,\n",
       " 'mamad',\n",
       " 'part',\n",
       " ['hassan', 3.3],\n",
       " ['extend1', 'extend2'],\n",
       " 'extend1',\n",
       " 'extend2']"
      ]
     },
     "execution_count": 49,
     "metadata": {},
     "output_type": "execute_result"
    }
   ],
   "source": [
    "my_list"
   ]
  },
  {
   "cell_type": "code",
   "execution_count": 50,
   "id": "5294e7f7",
   "metadata": {},
   "outputs": [],
   "source": [
    "my_list.insert(-1, 3.5)"
   ]
  },
  {
   "cell_type": "code",
   "execution_count": 51,
   "id": "446cd735",
   "metadata": {},
   "outputs": [
    {
     "data": {
      "text/plain": [
       "([1,\n",
       "  2,\n",
       "  2.5,\n",
       "  3,\n",
       "  4.1,\n",
       "  'mamad',\n",
       "  'part',\n",
       "  ['hassan', 3.3],\n",
       "  ['extend1', 'extend2'],\n",
       "  'extend1',\n",
       "  3.5,\n",
       "  'extend2'],\n",
       " [1,\n",
       "  2,\n",
       "  2.5,\n",
       "  3,\n",
       "  4.1,\n",
       "  'mamad',\n",
       "  'part',\n",
       "  ['hassan', 3.3],\n",
       "  ['extend1', 'extend2'],\n",
       "  'extend1',\n",
       "  3.5,\n",
       "  'extend2'])"
      ]
     },
     "execution_count": 51,
     "metadata": {},
     "output_type": "execute_result"
    }
   ],
   "source": [
    "my_list, my_list"
   ]
  },
  {
   "cell_type": "code",
   "execution_count": 52,
   "id": "394acb85",
   "metadata": {},
   "outputs": [],
   "source": [
    "my_list.remove(3.5)"
   ]
  },
  {
   "cell_type": "code",
   "execution_count": 53,
   "id": "1d348144",
   "metadata": {},
   "outputs": [
    {
     "data": {
      "text/plain": [
       "[1,\n",
       " 2,\n",
       " 2.5,\n",
       " 3,\n",
       " 4.1,\n",
       " 'mamad',\n",
       " 'part',\n",
       " ['hassan', 3.3],\n",
       " ['extend1', 'extend2'],\n",
       " 'extend1',\n",
       " 'extend2']"
      ]
     },
     "execution_count": 53,
     "metadata": {},
     "output_type": "execute_result"
    }
   ],
   "source": [
    "my_list"
   ]
  },
  {
   "cell_type": "code",
   "execution_count": 54,
   "id": "9535fb3f",
   "metadata": {},
   "outputs": [
    {
     "data": {
      "text/plain": [
       "'extend2'"
      ]
     },
     "execution_count": 54,
     "metadata": {},
     "output_type": "execute_result"
    }
   ],
   "source": [
    "my_list.pop()"
   ]
  },
  {
   "cell_type": "code",
   "execution_count": 55,
   "id": "4d9990d0",
   "metadata": {},
   "outputs": [
    {
     "data": {
      "text/plain": [
       "[1,\n",
       " 2,\n",
       " 2.5,\n",
       " 3,\n",
       " 4.1,\n",
       " 'mamad',\n",
       " 'part',\n",
       " ['hassan', 3.3],\n",
       " ['extend1', 'extend2'],\n",
       " 'extend1']"
      ]
     },
     "execution_count": 55,
     "metadata": {},
     "output_type": "execute_result"
    }
   ],
   "source": [
    "my_list"
   ]
  },
  {
   "cell_type": "code",
   "execution_count": 56,
   "id": "6b6d4b18",
   "metadata": {},
   "outputs": [
    {
     "data": {
      "text/plain": [
       "2"
      ]
     },
     "execution_count": 56,
     "metadata": {},
     "output_type": "execute_result"
    }
   ],
   "source": [
    "my_list.pop(1)"
   ]
  },
  {
   "cell_type": "code",
   "execution_count": 57,
   "id": "caff0658",
   "metadata": {},
   "outputs": [
    {
     "data": {
      "text/plain": [
       "[1,\n",
       " 2.5,\n",
       " 3,\n",
       " 4.1,\n",
       " 'mamad',\n",
       " 'part',\n",
       " ['hassan', 3.3],\n",
       " ['extend1', 'extend2'],\n",
       " 'extend1']"
      ]
     },
     "execution_count": 57,
     "metadata": {},
     "output_type": "execute_result"
    }
   ],
   "source": [
    "my_list"
   ]
  },
  {
   "cell_type": "code",
   "execution_count": 58,
   "id": "29ecab5d",
   "metadata": {},
   "outputs": [
    {
     "data": {
      "text/plain": [
       "2.5"
      ]
     },
     "execution_count": 58,
     "metadata": {},
     "output_type": "execute_result"
    }
   ],
   "source": [
    "my_list.pop(1)"
   ]
  },
  {
   "cell_type": "code",
   "execution_count": 59,
   "id": "39358ab4",
   "metadata": {},
   "outputs": [
    {
     "data": {
      "text/plain": [
       "[1,\n",
       " 3,\n",
       " 4.1,\n",
       " 'mamad',\n",
       " 'part',\n",
       " ['hassan', 3.3],\n",
       " ['extend1', 'extend2'],\n",
       " 'extend1']"
      ]
     },
     "execution_count": 59,
     "metadata": {},
     "output_type": "execute_result"
    }
   ],
   "source": [
    "my_list"
   ]
  },
  {
   "cell_type": "code",
   "execution_count": 60,
   "id": "f5cfc53f",
   "metadata": {},
   "outputs": [
    {
     "name": "stdout",
     "output_type": "stream",
     "text": [
      "1\n",
      "3\n",
      "4.1\n",
      "mamad\n",
      "part\n",
      "['hassan', 3.3]\n",
      "['extend1', 'extend2']\n",
      "extend1\n"
     ]
    }
   ],
   "source": [
    "for item in my_list:\n",
    "    if not item == False:\n",
    "        print(item)"
   ]
  },
  {
   "cell_type": "code",
   "execution_count": 61,
   "id": "04bea289",
   "metadata": {},
   "outputs": [],
   "source": [
    "sub_list = my_list[0:3]"
   ]
  },
  {
   "cell_type": "code",
   "execution_count": 62,
   "id": "7444241f",
   "metadata": {},
   "outputs": [
    {
     "data": {
      "text/plain": [
       "[1, 3, 4.1]"
      ]
     },
     "execution_count": 62,
     "metadata": {},
     "output_type": "execute_result"
    }
   ],
   "source": [
    "sub_list"
   ]
  },
  {
   "cell_type": "code",
   "execution_count": 63,
   "id": "fa23316f",
   "metadata": {},
   "outputs": [],
   "source": [
    "sub_list = my_list[2:]"
   ]
  },
  {
   "cell_type": "code",
   "execution_count": 64,
   "id": "eac10fe0",
   "metadata": {},
   "outputs": [
    {
     "data": {
      "text/plain": [
       "[4.1, 'mamad', 'part', ['hassan', 3.3], ['extend1', 'extend2'], 'extend1']"
      ]
     },
     "execution_count": 64,
     "metadata": {},
     "output_type": "execute_result"
    }
   ],
   "source": [
    "sub_list"
   ]
  },
  {
   "cell_type": "code",
   "execution_count": 65,
   "id": "e33a09d2",
   "metadata": {},
   "outputs": [],
   "source": [
    "sub_list = my_list[1::2]"
   ]
  },
  {
   "cell_type": "code",
   "execution_count": 66,
   "id": "102e8cda",
   "metadata": {},
   "outputs": [
    {
     "data": {
      "text/plain": [
       "[3, 'mamad', ['hassan', 3.3], 'extend1']"
      ]
     },
     "execution_count": 66,
     "metadata": {},
     "output_type": "execute_result"
    }
   ],
   "source": [
    "sub_list"
   ]
  },
  {
   "cell_type": "code",
   "execution_count": 67,
   "id": "5930b5c5",
   "metadata": {},
   "outputs": [],
   "source": [
    "sub_list = my_list[1::1]"
   ]
  },
  {
   "cell_type": "code",
   "execution_count": 68,
   "id": "0f74a71b",
   "metadata": {},
   "outputs": [
    {
     "data": {
      "text/plain": [
       "[3, 4.1, 'mamad', 'part', ['hassan', 3.3], ['extend1', 'extend2'], 'extend1']"
      ]
     },
     "execution_count": 68,
     "metadata": {},
     "output_type": "execute_result"
    }
   ],
   "source": [
    "sub_list"
   ]
  },
  {
   "cell_type": "code",
   "execution_count": 69,
   "id": "8a890e48",
   "metadata": {},
   "outputs": [],
   "source": [
    "my_list_copy = my_list.copy()\n"
   ]
  },
  {
   "cell_type": "code",
   "execution_count": 70,
   "id": "e4e97b30",
   "metadata": {},
   "outputs": [
    {
     "data": {
      "text/plain": [
       "3"
      ]
     },
     "execution_count": 70,
     "metadata": {},
     "output_type": "execute_result"
    }
   ],
   "source": [
    "my_list_copy[1]"
   ]
  },
  {
   "cell_type": "code",
   "execution_count": 71,
   "id": "b6eea591",
   "metadata": {},
   "outputs": [],
   "source": [
    "my_list_copy[1] = 200"
   ]
  },
  {
   "cell_type": "code",
   "execution_count": 72,
   "id": "35f8f7c1",
   "metadata": {},
   "outputs": [
    {
     "data": {
      "text/plain": [
       "[1,\n",
       " 3,\n",
       " 4.1,\n",
       " 'mamad',\n",
       " 'part',\n",
       " ['hassan', 3.3],\n",
       " ['extend1', 'extend2'],\n",
       " 'extend1']"
      ]
     },
     "execution_count": 72,
     "metadata": {},
     "output_type": "execute_result"
    }
   ],
   "source": [
    "my_list"
   ]
  },
  {
   "cell_type": "code",
   "execution_count": 73,
   "id": "5d26a5d4",
   "metadata": {},
   "outputs": [
    {
     "data": {
      "text/plain": [
       "[1,\n",
       " 200,\n",
       " 4.1,\n",
       " 'mamad',\n",
       " 'part',\n",
       " ['hassan', 3.3],\n",
       " ['extend1', 'extend2'],\n",
       " 'extend1']"
      ]
     },
     "execution_count": 73,
     "metadata": {},
     "output_type": "execute_result"
    }
   ],
   "source": [
    "my_list_copy"
   ]
  },
  {
   "cell_type": "code",
   "execution_count": 74,
   "id": "617d317a",
   "metadata": {},
   "outputs": [],
   "source": [
    "tpl = (50, 1)"
   ]
  },
  {
   "cell_type": "code",
   "execution_count": 75,
   "id": "da7cfebc",
   "metadata": {},
   "outputs": [
    {
     "data": {
      "text/plain": [
       "((50, 1), tuple)"
      ]
     },
     "execution_count": 75,
     "metadata": {},
     "output_type": "execute_result"
    }
   ],
   "source": [
    "tpl, type(tpl)"
   ]
  },
  {
   "cell_type": "code",
   "execution_count": 76,
   "id": "b0bf8bba",
   "metadata": {},
   "outputs": [],
   "source": [
    "my_tp = (\"a\", \"b\", \"c\")"
   ]
  },
  {
   "cell_type": "code",
   "execution_count": 77,
   "id": "d8dab747",
   "metadata": {},
   "outputs": [
    {
     "data": {
      "text/plain": [
       "('a', 'b', 'c')"
      ]
     },
     "execution_count": 77,
     "metadata": {},
     "output_type": "execute_result"
    }
   ],
   "source": [
    "my_tp"
   ]
  },
  {
   "cell_type": "code",
   "execution_count": 78,
   "id": "7e888e49",
   "metadata": {},
   "outputs": [],
   "source": [
    "my_tp_list = list(my_tp)"
   ]
  },
  {
   "cell_type": "code",
   "execution_count": 79,
   "id": "9bb11edb",
   "metadata": {},
   "outputs": [],
   "source": [
    "my_tp_list[1] = \"change\""
   ]
  },
  {
   "cell_type": "code",
   "execution_count": 80,
   "id": "cb395435",
   "metadata": {},
   "outputs": [
    {
     "data": {
      "text/plain": [
       "['a', 'change', 'c']"
      ]
     },
     "execution_count": 80,
     "metadata": {},
     "output_type": "execute_result"
    }
   ],
   "source": [
    "my_tp_list"
   ]
  },
  {
   "cell_type": "code",
   "execution_count": 81,
   "id": "620e6664",
   "metadata": {},
   "outputs": [
    {
     "data": {
      "text/plain": [
       "('a', 'b', 'c')"
      ]
     },
     "execution_count": 81,
     "metadata": {},
     "output_type": "execute_result"
    }
   ],
   "source": [
    "my_tp"
   ]
  },
  {
   "cell_type": "code",
   "execution_count": 82,
   "id": "92432589",
   "metadata": {},
   "outputs": [
    {
     "data": {
      "text/plain": [
       "['a']"
      ]
     },
     "execution_count": 82,
     "metadata": {},
     "output_type": "execute_result"
    }
   ],
   "source": [
    "my_tp_list[:-2]"
   ]
  },
  {
   "cell_type": "code",
   "execution_count": 83,
   "id": "7b6359b3",
   "metadata": {},
   "outputs": [],
   "source": [
    "# comment"
   ]
  },
  {
   "cell_type": "code",
   "execution_count": 84,
   "id": "37407c5c",
   "metadata": {},
   "outputs": [],
   "source": [
    "my_dict = {\"key1\": 23, \"key2\": 48, \"key3\" : 12, 12: 112}"
   ]
  },
  {
   "cell_type": "code",
   "execution_count": 85,
   "id": "dd3b5883",
   "metadata": {},
   "outputs": [
    {
     "data": {
      "text/plain": [
       "{'key1': 23, 'key2': 48, 'key3': 12, 12: 112}"
      ]
     },
     "execution_count": 85,
     "metadata": {},
     "output_type": "execute_result"
    }
   ],
   "source": [
    "my_dict"
   ]
  },
  {
   "cell_type": "code",
   "execution_count": 86,
   "id": "a8905d6b",
   "metadata": {},
   "outputs": [
    {
     "data": {
      "text/plain": [
       "112"
      ]
     },
     "execution_count": 86,
     "metadata": {},
     "output_type": "execute_result"
    }
   ],
   "source": [
    "my_dict[12]"
   ]
  },
  {
   "cell_type": "code",
   "execution_count": 87,
   "id": "b42a64bd",
   "metadata": {},
   "outputs": [],
   "source": [
    "my_dict[\"key2\"] = 12"
   ]
  },
  {
   "cell_type": "code",
   "execution_count": 88,
   "id": "f31748ff",
   "metadata": {},
   "outputs": [
    {
     "data": {
      "text/plain": [
       "{'key1': 23, 'key2': 12, 'key3': 12, 12: 112}"
      ]
     },
     "execution_count": 88,
     "metadata": {},
     "output_type": "execute_result"
    }
   ],
   "source": [
    "my_dict"
   ]
  },
  {
   "cell_type": "code",
   "execution_count": 89,
   "id": "2dfd6618",
   "metadata": {},
   "outputs": [],
   "source": [
    "my_dict[\"key4\"] = \"test\""
   ]
  },
  {
   "cell_type": "code",
   "execution_count": 90,
   "id": "3c459f9b",
   "metadata": {},
   "outputs": [
    {
     "data": {
      "text/plain": [
       "{'key1': 23, 'key2': 12, 'key3': 12, 12: 112, 'key4': 'test'}"
      ]
     },
     "execution_count": 90,
     "metadata": {},
     "output_type": "execute_result"
    }
   ],
   "source": [
    "my_dict"
   ]
  },
  {
   "cell_type": "code",
   "execution_count": 91,
   "id": "03fcb4f0",
   "metadata": {},
   "outputs": [],
   "source": [
    "np_arr = np.array([1, 2, 3, 4, 5.5])"
   ]
  },
  {
   "cell_type": "code",
   "execution_count": 92,
   "id": "9089931a",
   "metadata": {},
   "outputs": [
    {
     "data": {
      "text/plain": [
       "array([1. , 2. , 3. , 4. , 5.5])"
      ]
     },
     "execution_count": 92,
     "metadata": {},
     "output_type": "execute_result"
    }
   ],
   "source": [
    "np_arr"
   ]
  },
  {
   "cell_type": "code",
   "execution_count": 93,
   "id": "900b6dea",
   "metadata": {},
   "outputs": [],
   "source": [
    "array = [1, 2, 3]"
   ]
  },
  {
   "cell_type": "code",
   "execution_count": 94,
   "id": "89117f33",
   "metadata": {},
   "outputs": [
    {
     "data": {
      "text/plain": [
       "[1, 2, 3]"
      ]
     },
     "execution_count": 94,
     "metadata": {},
     "output_type": "execute_result"
    }
   ],
   "source": [
    "array"
   ]
  },
  {
   "cell_type": "code",
   "execution_count": 95,
   "id": "e27edb5e",
   "metadata": {},
   "outputs": [],
   "source": [
    "empty_arr = np.array([])"
   ]
  },
  {
   "cell_type": "code",
   "execution_count": 96,
   "id": "adec1c64",
   "metadata": {},
   "outputs": [
    {
     "data": {
      "text/plain": [
       "array([], dtype=float64)"
      ]
     },
     "execution_count": 96,
     "metadata": {},
     "output_type": "execute_result"
    }
   ],
   "source": [
    "empty_arr"
   ]
  },
  {
   "cell_type": "code",
   "execution_count": 97,
   "id": "440df2c6",
   "metadata": {},
   "outputs": [
    {
     "data": {
      "text/plain": [
       "(0,)"
      ]
     },
     "execution_count": 97,
     "metadata": {},
     "output_type": "execute_result"
    }
   ],
   "source": [
    "empty_arr.shape"
   ]
  },
  {
   "cell_type": "code",
   "execution_count": 98,
   "id": "d8d99291",
   "metadata": {},
   "outputs": [
    {
     "data": {
      "text/plain": [
       "(0,)"
      ]
     },
     "execution_count": 98,
     "metadata": {},
     "output_type": "execute_result"
    }
   ],
   "source": [
    "empty_arr.strides"
   ]
  },
  {
   "cell_type": "code",
   "execution_count": 99,
   "id": "81490204",
   "metadata": {},
   "outputs": [
    {
     "data": {
      "text/plain": [
       "(5,)"
      ]
     },
     "execution_count": 99,
     "metadata": {},
     "output_type": "execute_result"
    }
   ],
   "source": [
    "np_arr.shape"
   ]
  },
  {
   "cell_type": "code",
   "execution_count": 100,
   "id": "3e5320e7",
   "metadata": {},
   "outputs": [
    {
     "data": {
      "text/plain": [
       "dtype('float64')"
      ]
     },
     "execution_count": 100,
     "metadata": {},
     "output_type": "execute_result"
    }
   ],
   "source": [
    "np_arr.dtype"
   ]
  },
  {
   "cell_type": "code",
   "execution_count": 101,
   "id": "f30f2d0b",
   "metadata": {},
   "outputs": [
    {
     "data": {
      "text/plain": [
       "5"
      ]
     },
     "execution_count": 101,
     "metadata": {},
     "output_type": "execute_result"
    }
   ],
   "source": [
    "np_arr.size"
   ]
  },
  {
   "cell_type": "code",
   "execution_count": 102,
   "id": "b0512f51",
   "metadata": {},
   "outputs": [
    {
     "data": {
      "text/plain": [
       "1"
      ]
     },
     "execution_count": 102,
     "metadata": {},
     "output_type": "execute_result"
    }
   ],
   "source": [
    "np_arr.ndim"
   ]
  },
  {
   "cell_type": "code",
   "execution_count": 103,
   "id": "dde6e6b7",
   "metadata": {},
   "outputs": [
    {
     "data": {
      "text/plain": [
       "(8,)"
      ]
     },
     "execution_count": 103,
     "metadata": {},
     "output_type": "execute_result"
    }
   ],
   "source": [
    "np_arr.strides"
   ]
  },
  {
   "cell_type": "code",
   "execution_count": 104,
   "id": "27f4ae47",
   "metadata": {},
   "outputs": [],
   "source": [
    "np_arr2 = np.array([1, 2, 3, 4, 5])"
   ]
  },
  {
   "cell_type": "code",
   "execution_count": 105,
   "id": "6431e282",
   "metadata": {},
   "outputs": [
    {
     "data": {
      "text/plain": [
       "(8,)"
      ]
     },
     "execution_count": 105,
     "metadata": {},
     "output_type": "execute_result"
    }
   ],
   "source": [
    "np_arr2.strides"
   ]
  },
  {
   "cell_type": "code",
   "execution_count": 106,
   "id": "f20a9f0c",
   "metadata": {},
   "outputs": [],
   "source": [
    "np_arr3 = np.array([[1, 2, 3], [4, 5, 6]])"
   ]
  },
  {
   "cell_type": "code",
   "execution_count": 107,
   "id": "f91ec865",
   "metadata": {},
   "outputs": [
    {
     "data": {
      "text/plain": [
       "array([[1, 2, 3],\n",
       "       [4, 5, 6]])"
      ]
     },
     "execution_count": 107,
     "metadata": {},
     "output_type": "execute_result"
    }
   ],
   "source": [
    "np_arr3"
   ]
  },
  {
   "cell_type": "code",
   "execution_count": 108,
   "id": "63ac7055",
   "metadata": {},
   "outputs": [
    {
     "data": {
      "text/plain": [
       "(24, 8)"
      ]
     },
     "execution_count": 108,
     "metadata": {},
     "output_type": "execute_result"
    }
   ],
   "source": [
    "np_arr3.strides"
   ]
  },
  {
   "cell_type": "code",
   "execution_count": 109,
   "id": "9c4dd10b",
   "metadata": {},
   "outputs": [
    {
     "data": {
      "text/plain": [
       "<function size at 0x7fb9ac38b2b0>"
      ]
     },
     "execution_count": 109,
     "metadata": {},
     "output_type": "execute_result"
    }
   ],
   "source": [
    "np.size"
   ]
  },
  {
   "cell_type": "code",
   "execution_count": 110,
   "id": "37739586",
   "metadata": {},
   "outputs": [
    {
     "data": {
      "text/plain": [
       "6"
      ]
     },
     "execution_count": 110,
     "metadata": {},
     "output_type": "execute_result"
    }
   ],
   "source": [
    "np_arr3.size"
   ]
  },
  {
   "cell_type": "code",
   "execution_count": 111,
   "id": "7d1cb5b3",
   "metadata": {},
   "outputs": [
    {
     "data": {
      "text/plain": [
       "2"
      ]
     },
     "execution_count": 111,
     "metadata": {},
     "output_type": "execute_result"
    }
   ],
   "source": [
    "np_arr3.ndim"
   ]
  },
  {
   "cell_type": "code",
   "execution_count": 112,
   "id": "abdcd0bd",
   "metadata": {},
   "outputs": [],
   "source": [
    "np_arr = np.arange(10) + 1."
   ]
  },
  {
   "cell_type": "code",
   "execution_count": 113,
   "id": "a2f3937c",
   "metadata": {},
   "outputs": [
    {
     "data": {
      "text/plain": [
       "array([ 1.,  2.,  3.,  4.,  5.,  6.,  7.,  8.,  9., 10.])"
      ]
     },
     "execution_count": 113,
     "metadata": {},
     "output_type": "execute_result"
    }
   ],
   "source": [
    "np_arr"
   ]
  },
  {
   "cell_type": "code",
   "execution_count": 114,
   "id": "fb184e7a",
   "metadata": {},
   "outputs": [],
   "source": [
    "np_z = np.zeros((3, 4), dtype = np.float32)"
   ]
  },
  {
   "cell_type": "code",
   "execution_count": 115,
   "id": "5bd40d37",
   "metadata": {},
   "outputs": [
    {
     "data": {
      "text/plain": [
       "array([[0., 0., 0., 0.],\n",
       "       [0., 0., 0., 0.],\n",
       "       [0., 0., 0., 0.]], dtype=float32)"
      ]
     },
     "execution_count": 115,
     "metadata": {},
     "output_type": "execute_result"
    }
   ],
   "source": [
    "np_z"
   ]
  },
  {
   "cell_type": "code",
   "execution_count": 116,
   "id": "ce8c0353",
   "metadata": {},
   "outputs": [],
   "source": [
    "np_o = np.ones((4, 3))"
   ]
  },
  {
   "cell_type": "code",
   "execution_count": 117,
   "id": "cd1d2047",
   "metadata": {},
   "outputs": [
    {
     "data": {
      "text/plain": [
       "array([[1., 1., 1.],\n",
       "       [1., 1., 1.],\n",
       "       [1., 1., 1.],\n",
       "       [1., 1., 1.]])"
      ]
     },
     "execution_count": 117,
     "metadata": {},
     "output_type": "execute_result"
    }
   ],
   "source": [
    "np_o"
   ]
  },
  {
   "cell_type": "code",
   "execution_count": 118,
   "id": "8d9c1548",
   "metadata": {},
   "outputs": [],
   "source": [
    "np_arr = np.linspace(2, 30, 50)"
   ]
  },
  {
   "cell_type": "code",
   "execution_count": 119,
   "id": "4e2d91ce",
   "metadata": {},
   "outputs": [
    {
     "data": {
      "text/plain": [
       "array([ 2.        ,  2.57142857,  3.14285714,  3.71428571,  4.28571429,\n",
       "        4.85714286,  5.42857143,  6.        ,  6.57142857,  7.14285714,\n",
       "        7.71428571,  8.28571429,  8.85714286,  9.42857143, 10.        ,\n",
       "       10.57142857, 11.14285714, 11.71428571, 12.28571429, 12.85714286,\n",
       "       13.42857143, 14.        , 14.57142857, 15.14285714, 15.71428571,\n",
       "       16.28571429, 16.85714286, 17.42857143, 18.        , 18.57142857,\n",
       "       19.14285714, 19.71428571, 20.28571429, 20.85714286, 21.42857143,\n",
       "       22.        , 22.57142857, 23.14285714, 23.71428571, 24.28571429,\n",
       "       24.85714286, 25.42857143, 26.        , 26.57142857, 27.14285714,\n",
       "       27.71428571, 28.28571429, 28.85714286, 29.42857143, 30.        ])"
      ]
     },
     "execution_count": 119,
     "metadata": {},
     "output_type": "execute_result"
    }
   ],
   "source": [
    "np_arr"
   ]
  },
  {
   "cell_type": "code",
   "execution_count": 120,
   "id": "2dca50e9",
   "metadata": {},
   "outputs": [
    {
     "data": {
      "text/plain": [
       "array([ 2.,  3.,  4.,  5.,  6.,  7.,  8.,  9., 10., 11., 12., 13., 14.,\n",
       "       15., 16., 17., 18., 19., 20., 21., 22., 23., 24., 25., 26., 27.,\n",
       "       28., 29., 30.])"
      ]
     },
     "execution_count": 120,
     "metadata": {},
     "output_type": "execute_result"
    }
   ],
   "source": [
    "np.linspace(2, 30, 29)"
   ]
  },
  {
   "cell_type": "code",
   "execution_count": 121,
   "id": "2599b1b5",
   "metadata": {},
   "outputs": [],
   "source": [
    "rand_arr2 = np.random.uniform(low=10.0, high=50.0, size=(3, 4))"
   ]
  },
  {
   "cell_type": "code",
   "execution_count": 122,
   "id": "286191de",
   "metadata": {},
   "outputs": [
    {
     "data": {
      "text/plain": [
       "array([[30.92618834, 27.85410265, 21.34109485, 16.02520273],\n",
       "       [38.37409212, 29.04473028, 33.64997655, 14.25068354],\n",
       "       [32.07291639, 11.24603647, 31.32743239, 27.47608418]])"
      ]
     },
     "execution_count": 122,
     "metadata": {},
     "output_type": "execute_result"
    }
   ],
   "source": [
    "rand_arr2"
   ]
  },
  {
   "cell_type": "code",
   "execution_count": 123,
   "id": "7a9075cb",
   "metadata": {},
   "outputs": [],
   "source": [
    "rand_arr = np.random.rand(3, 4)"
   ]
  },
  {
   "cell_type": "code",
   "execution_count": 124,
   "id": "e99e3c34",
   "metadata": {},
   "outputs": [
    {
     "data": {
      "text/plain": [
       "array([[0.91251468, 0.822116  , 0.88418566, 0.09824457],\n",
       "       [0.22523767, 0.23858535, 0.35995375, 0.53477144],\n",
       "       [0.99804142, 0.60600841, 0.90840047, 0.70488327]])"
      ]
     },
     "execution_count": 124,
     "metadata": {},
     "output_type": "execute_result"
    }
   ],
   "source": [
    "rand_arr"
   ]
  },
  {
   "cell_type": "code",
   "execution_count": 125,
   "id": "8e1dcd08",
   "metadata": {},
   "outputs": [
    {
     "data": {
      "text/plain": [
       "dtype('float64')"
      ]
     },
     "execution_count": 125,
     "metadata": {},
     "output_type": "execute_result"
    }
   ],
   "source": [
    "rand_arr.dtype"
   ]
  },
  {
   "cell_type": "code",
   "execution_count": 126,
   "id": "95c0c295",
   "metadata": {},
   "outputs": [],
   "source": [
    "rand_arr = rand_arr.astype(np.float32)"
   ]
  },
  {
   "cell_type": "code",
   "execution_count": 127,
   "id": "1c2618c3",
   "metadata": {},
   "outputs": [
    {
     "data": {
      "text/plain": [
       "dtype('float32')"
      ]
     },
     "execution_count": 127,
     "metadata": {},
     "output_type": "execute_result"
    }
   ],
   "source": [
    "rand_arr.dtype"
   ]
  },
  {
   "cell_type": "code",
   "execution_count": 128,
   "id": "00036cfe",
   "metadata": {},
   "outputs": [],
   "source": [
    "reshape_arr = np.reshape(rand_arr, newshape=(6, -1))"
   ]
  },
  {
   "cell_type": "code",
   "execution_count": 129,
   "id": "cc218cc4",
   "metadata": {},
   "outputs": [
    {
     "data": {
      "text/plain": [
       "array([[0.9125147 , 0.822116  ],\n",
       "       [0.8841857 , 0.09824457],\n",
       "       [0.22523767, 0.23858535],\n",
       "       [0.35995376, 0.53477144],\n",
       "       [0.9980414 , 0.6060084 ],\n",
       "       [0.9084005 , 0.7048833 ]], dtype=float32)"
      ]
     },
     "execution_count": 129,
     "metadata": {},
     "output_type": "execute_result"
    }
   ],
   "source": [
    "reshape_arr"
   ]
  },
  {
   "cell_type": "raw",
   "id": "08085434",
   "metadata": {},
   "source": [
    "reshape_arr.min()"
   ]
  },
  {
   "cell_type": "code",
   "execution_count": 130,
   "id": "12cb25aa",
   "metadata": {},
   "outputs": [
    {
     "data": {
      "text/plain": [
       "np.float32(0.9980414)"
      ]
     },
     "execution_count": 130,
     "metadata": {},
     "output_type": "execute_result"
    }
   ],
   "source": [
    "reshape_arr.max()"
   ]
  },
  {
   "cell_type": "code",
   "execution_count": 131,
   "id": "e07cb77d",
   "metadata": {},
   "outputs": [
    {
     "data": {
      "text/plain": [
       "np.float32(0.6554458)"
      ]
     },
     "execution_count": 131,
     "metadata": {},
     "output_type": "execute_result"
    }
   ],
   "source": [
    "np.median(reshape_arr)"
   ]
  },
  {
   "cell_type": "code",
   "execution_count": 132,
   "id": "50956968",
   "metadata": {},
   "outputs": [
    {
     "data": {
      "text/plain": [
       "np.int64(8)"
      ]
     },
     "execution_count": 132,
     "metadata": {},
     "output_type": "execute_result"
    }
   ],
   "source": [
    "np.argmax(reshape_arr)"
   ]
  },
  {
   "cell_type": "code",
   "execution_count": 133,
   "id": "0df757a0",
   "metadata": {},
   "outputs": [
    {
     "data": {
      "text/plain": [
       "array([0.22523767, 0.09824457], dtype=float32)"
      ]
     },
     "execution_count": 133,
     "metadata": {},
     "output_type": "execute_result"
    }
   ],
   "source": [
    "np.min(reshape_arr, axis=0)"
   ]
  },
  {
   "cell_type": "code",
   "execution_count": 134,
   "id": "12419a8d",
   "metadata": {},
   "outputs": [],
   "source": [
    "np.random.seed(124)"
   ]
  },
  {
   "cell_type": "code",
   "execution_count": 135,
   "id": "09080ff6",
   "metadata": {},
   "outputs": [],
   "source": [
    "np_arr = np.random.rand(10, 6)"
   ]
  },
  {
   "cell_type": "code",
   "execution_count": 136,
   "id": "3c54d1b6",
   "metadata": {},
   "outputs": [
    {
     "data": {
      "text/plain": [
       "array([[0.10606491, 0.74547148, 0.57231354, 0.45824118, 0.3847059 ,\n",
       "        0.27398931],\n",
       "       [0.66796241, 0.39547501, 0.28157289, 0.77991971, 0.59909416,\n",
       "        0.12294636],\n",
       "       [0.38957403, 0.97498836, 0.4675989 , 0.14017141, 0.04206858,\n",
       "        0.72799627],\n",
       "       [0.61560551, 0.9027321 , 0.62263341, 0.2601217 , 0.55551768,\n",
       "        0.40498648],\n",
       "       [0.14175587, 0.57774636, 0.52652124, 0.93856912, 0.95887879,\n",
       "        0.9844318 ],\n",
       "       [0.23095612, 0.09707925, 0.24574867, 0.69075766, 0.1974319 ,\n",
       "        0.8295272 ],\n",
       "       [0.34612727, 0.51401486, 0.66115798, 0.93362449, 0.06690067,\n",
       "        0.74688969],\n",
       "       [0.39028262, 0.53575843, 0.06042919, 0.8913558 , 0.77787374,\n",
       "        0.6701197 ],\n",
       "       [0.7350527 , 0.66369952, 0.18176625, 0.86299757, 0.45142896,\n",
       "        0.6497297 ],\n",
       "       [0.15937201, 0.40598175, 0.79885158, 0.72915428, 0.07090418,\n",
       "        0.76971324]])"
      ]
     },
     "execution_count": 136,
     "metadata": {},
     "output_type": "execute_result"
    }
   ],
   "source": [
    "np_arr"
   ]
  },
  {
   "cell_type": "code",
   "execution_count": 137,
   "id": "9161a1f4",
   "metadata": {},
   "outputs": [],
   "source": [
    "sub_arr = np_arr[2:5, :3]"
   ]
  },
  {
   "cell_type": "code",
   "execution_count": 138,
   "id": "d9bd0874",
   "metadata": {},
   "outputs": [
    {
     "data": {
      "text/plain": [
       "60"
      ]
     },
     "execution_count": 138,
     "metadata": {},
     "output_type": "execute_result"
    }
   ],
   "source": [
    "np_arr.size"
   ]
  },
  {
   "cell_type": "code",
   "execution_count": 139,
   "id": "e3a3fe63",
   "metadata": {},
   "outputs": [
    {
     "data": {
      "text/plain": [
       "2"
      ]
     },
     "execution_count": 139,
     "metadata": {},
     "output_type": "execute_result"
    }
   ],
   "source": [
    "np_arr.ndim"
   ]
  },
  {
   "cell_type": "code",
   "execution_count": 140,
   "id": "d51ab5c8",
   "metadata": {},
   "outputs": [
    {
     "data": {
      "text/plain": [
       "array([[0.38957403, 0.97498836, 0.4675989 ],\n",
       "       [0.61560551, 0.9027321 , 0.62263341],\n",
       "       [0.14175587, 0.57774636, 0.52652124]])"
      ]
     },
     "execution_count": 140,
     "metadata": {},
     "output_type": "execute_result"
    }
   ],
   "source": [
    "sub_arr"
   ]
  },
  {
   "cell_type": "code",
   "execution_count": 141,
   "id": "f094f6eb",
   "metadata": {},
   "outputs": [],
   "source": [
    "# cropped_image = image[20:-20, 30:-30, :]"
   ]
  },
  {
   "cell_type": "code",
   "execution_count": 142,
   "id": "e84033f4",
   "metadata": {},
   "outputs": [],
   "source": [
    "np.random.seed(56)"
   ]
  },
  {
   "cell_type": "code",
   "execution_count": 143,
   "id": "d3e8196b",
   "metadata": {},
   "outputs": [],
   "source": [
    "np_arr = np.random.rand(12)"
   ]
  },
  {
   "cell_type": "code",
   "execution_count": 144,
   "id": "0832107c",
   "metadata": {},
   "outputs": [
    {
     "data": {
      "text/plain": [
       "array([0.98419185, 0.33341227, 0.67370162, 0.19639042, 0.35444646,\n",
       "       0.81336595, 0.24784955, 0.45861133, 0.87730142, 0.39165846,\n",
       "       0.32613342, 0.09009511])"
      ]
     },
     "execution_count": 144,
     "metadata": {},
     "output_type": "execute_result"
    }
   ],
   "source": [
    "np_arr"
   ]
  },
  {
   "cell_type": "code",
   "execution_count": 145,
   "id": "4a4e799f",
   "metadata": {},
   "outputs": [],
   "source": [
    "mask = np_arr > 0.5"
   ]
  },
  {
   "cell_type": "code",
   "execution_count": 146,
   "id": "78ba8280",
   "metadata": {},
   "outputs": [
    {
     "data": {
      "text/plain": [
       "array([ True, False,  True, False, False,  True, False, False,  True,\n",
       "       False, False, False])"
      ]
     },
     "execution_count": 146,
     "metadata": {},
     "output_type": "execute_result"
    }
   ],
   "source": [
    "mask"
   ]
  },
  {
   "cell_type": "code",
   "execution_count": 147,
   "id": "acb717b8",
   "metadata": {},
   "outputs": [],
   "source": [
    "np_cond_arr = np_arr[mask]"
   ]
  },
  {
   "cell_type": "code",
   "execution_count": 148,
   "id": "29ed5f54",
   "metadata": {},
   "outputs": [
    {
     "data": {
      "text/plain": [
       "array([0.98419185, 0.67370162, 0.81336595, 0.87730142])"
      ]
     },
     "execution_count": 148,
     "metadata": {},
     "output_type": "execute_result"
    }
   ],
   "source": [
    "np_cond_arr"
   ]
  },
  {
   "cell_type": "code",
   "execution_count": 149,
   "id": "ac8fd042",
   "metadata": {},
   "outputs": [],
   "source": [
    "np_cond_arr2 = np_arr[np_arr > 0.5]"
   ]
  },
  {
   "cell_type": "code",
   "execution_count": 150,
   "id": "42bb3c4c",
   "metadata": {},
   "outputs": [
    {
     "data": {
      "text/plain": [
       "array([0.98419185, 0.67370162, 0.81336595, 0.87730142])"
      ]
     },
     "execution_count": 150,
     "metadata": {},
     "output_type": "execute_result"
    }
   ],
   "source": [
    "np_cond_arr2"
   ]
  },
  {
   "cell_type": "code",
   "execution_count": 151,
   "id": "23d77894",
   "metadata": {},
   "outputs": [],
   "source": [
    "np_cond_arr = np_cond_arr / 2."
   ]
  },
  {
   "cell_type": "code",
   "execution_count": 152,
   "id": "064eb94b",
   "metadata": {},
   "outputs": [
    {
     "data": {
      "text/plain": [
       "array([0.49209593, 0.33685081, 0.40668298, 0.43865071])"
      ]
     },
     "execution_count": 152,
     "metadata": {},
     "output_type": "execute_result"
    }
   ],
   "source": [
    "np_cond_arr"
   ]
  },
  {
   "cell_type": "code",
   "execution_count": 153,
   "id": "e0110499",
   "metadata": {},
   "outputs": [],
   "source": [
    "np.random.seed(57)"
   ]
  },
  {
   "cell_type": "code",
   "execution_count": 154,
   "id": "26c7df54",
   "metadata": {},
   "outputs": [],
   "source": [
    "test_array = np_cond_arr2 + np.random.rand(np_cond_arr2.shape[0])"
   ]
  },
  {
   "cell_type": "code",
   "execution_count": 155,
   "id": "e483c1e5",
   "metadata": {},
   "outputs": [
    {
     "data": {
      "text/plain": [
       "array([1.07154149, 0.90417872, 1.22442702, 1.18808412])"
      ]
     },
     "execution_count": 155,
     "metadata": {},
     "output_type": "execute_result"
    }
   ],
   "source": [
    "test_array"
   ]
  },
  {
   "cell_type": "code",
   "execution_count": 156,
   "id": "1fc0076d",
   "metadata": {},
   "outputs": [],
   "source": [
    "np.random.seed(124)"
   ]
  },
  {
   "cell_type": "code",
   "execution_count": 157,
   "id": "e786c118",
   "metadata": {},
   "outputs": [],
   "source": [
    "np_arr = np.random.rand(10, 6)"
   ]
  },
  {
   "cell_type": "code",
   "execution_count": 158,
   "id": "dc3c6125",
   "metadata": {},
   "outputs": [
    {
     "data": {
      "text/plain": [
       "array([[0.10606491, 0.74547148, 0.57231354, 0.45824118, 0.3847059 ,\n",
       "        0.27398931],\n",
       "       [0.66796241, 0.39547501, 0.28157289, 0.77991971, 0.59909416,\n",
       "        0.12294636],\n",
       "       [0.38957403, 0.97498836, 0.4675989 , 0.14017141, 0.04206858,\n",
       "        0.72799627],\n",
       "       [0.61560551, 0.9027321 , 0.62263341, 0.2601217 , 0.55551768,\n",
       "        0.40498648],\n",
       "       [0.14175587, 0.57774636, 0.52652124, 0.93856912, 0.95887879,\n",
       "        0.9844318 ],\n",
       "       [0.23095612, 0.09707925, 0.24574867, 0.69075766, 0.1974319 ,\n",
       "        0.8295272 ],\n",
       "       [0.34612727, 0.51401486, 0.66115798, 0.93362449, 0.06690067,\n",
       "        0.74688969],\n",
       "       [0.39028262, 0.53575843, 0.06042919, 0.8913558 , 0.77787374,\n",
       "        0.6701197 ],\n",
       "       [0.7350527 , 0.66369952, 0.18176625, 0.86299757, 0.45142896,\n",
       "        0.6497297 ],\n",
       "       [0.15937201, 0.40598175, 0.79885158, 0.72915428, 0.07090418,\n",
       "        0.76971324]])"
      ]
     },
     "execution_count": 158,
     "metadata": {},
     "output_type": "execute_result"
    }
   ],
   "source": [
    "np_arr"
   ]
  },
  {
   "cell_type": "code",
   "execution_count": 159,
   "id": "69767b39",
   "metadata": {},
   "outputs": [
    {
     "data": {
      "text/plain": [
       "array([2.54078632, 2.84697054, 2.74239755, 3.36159688, 4.12790319,\n",
       "       2.2915008 , 3.26871495, 3.32581947, 3.5446747 , 2.93397704])"
      ]
     },
     "execution_count": 159,
     "metadata": {},
     "output_type": "execute_result"
    }
   ],
   "source": [
    "np.sum(np_arr, axis=1)"
   ]
  },
  {
   "cell_type": "code",
   "execution_count": 160,
   "id": "c8992d0f",
   "metadata": {},
   "outputs": [],
   "source": [
    "arr1 = np.random.rand(2, 3, 10)"
   ]
  },
  {
   "cell_type": "code",
   "execution_count": 161,
   "id": "6f429826",
   "metadata": {},
   "outputs": [],
   "source": [
    "arr2 = np.random.rand(2, 3 ,5)"
   ]
  },
  {
   "cell_type": "code",
   "execution_count": 162,
   "id": "1c6f7b0e",
   "metadata": {},
   "outputs": [],
   "source": [
    "cc_arr = np.concatenate((arr1, arr2), axis=2)"
   ]
  },
  {
   "cell_type": "code",
   "execution_count": 163,
   "id": "ed2cd6f8",
   "metadata": {},
   "outputs": [
    {
     "data": {
      "text/plain": [
       "array([[[0.4972157 , 0.76692173, 0.67975852, 0.13026067, 0.65874366,\n",
       "         0.24532891, 0.24545168, 0.83795581, 0.10549054, 0.72643234],\n",
       "        [0.94568558, 0.72166491, 0.14389831, 0.79305307, 0.70895346,\n",
       "         0.97247011, 0.97751567, 0.49999879, 0.65569244, 0.26876842],\n",
       "        [0.63248955, 0.85201293, 0.5689624 , 0.0233863 , 0.55464636,\n",
       "         0.36860029, 0.96031142, 0.39123483, 0.0380728 , 0.89212374]],\n",
       "\n",
       "       [[0.14387614, 0.63858675, 0.10003748, 0.89066349, 0.06681054,\n",
       "         0.74586419, 0.45452347, 0.54724605, 0.6496482 , 0.78183562],\n",
       "        [0.6608355 , 0.77711325, 0.24588614, 0.01345676, 0.355845  ,\n",
       "         0.80388206, 0.02799326, 0.73677205, 0.52755007, 0.90523246],\n",
       "        [0.54311023, 0.53678048, 0.4131242 , 0.77523379, 0.10966945,\n",
       "         0.13664648, 0.78287393, 0.9083969 , 0.52475929, 0.7493595 ]]])"
      ]
     },
     "execution_count": 163,
     "metadata": {},
     "output_type": "execute_result"
    }
   ],
   "source": [
    "arr1"
   ]
  },
  {
   "cell_type": "code",
   "execution_count": 164,
   "id": "2efdef9a",
   "metadata": {},
   "outputs": [
    {
     "data": {
      "text/plain": [
       "array([[[0.19275227, 0.00719085, 0.60879808, 0.34413601, 0.46909886],\n",
       "        [0.41924856, 0.70729132, 0.19932869, 0.53038474, 0.65138402],\n",
       "        [0.06686331, 0.97179318, 0.65702222, 0.11786682, 0.31540731]],\n",
       "\n",
       "       [[0.88923013, 0.55640871, 0.91047823, 0.28466641, 0.09346681],\n",
       "        [0.88953067, 0.99193383, 0.18322521, 0.81854553, 0.56639097],\n",
       "        [0.014208  , 0.29673064, 0.6347744 , 0.6801958 , 0.39601146]]])"
      ]
     },
     "execution_count": 164,
     "metadata": {},
     "output_type": "execute_result"
    }
   ],
   "source": [
    "arr2"
   ]
  },
  {
   "cell_type": "code",
   "execution_count": 165,
   "id": "a5fabdc3",
   "metadata": {},
   "outputs": [
    {
     "data": {
      "text/plain": [
       "array([[[0.4972157 , 0.76692173, 0.67975852, 0.13026067, 0.65874366,\n",
       "         0.24532891, 0.24545168, 0.83795581, 0.10549054, 0.72643234,\n",
       "         0.19275227, 0.00719085, 0.60879808, 0.34413601, 0.46909886],\n",
       "        [0.94568558, 0.72166491, 0.14389831, 0.79305307, 0.70895346,\n",
       "         0.97247011, 0.97751567, 0.49999879, 0.65569244, 0.26876842,\n",
       "         0.41924856, 0.70729132, 0.19932869, 0.53038474, 0.65138402],\n",
       "        [0.63248955, 0.85201293, 0.5689624 , 0.0233863 , 0.55464636,\n",
       "         0.36860029, 0.96031142, 0.39123483, 0.0380728 , 0.89212374,\n",
       "         0.06686331, 0.97179318, 0.65702222, 0.11786682, 0.31540731]],\n",
       "\n",
       "       [[0.14387614, 0.63858675, 0.10003748, 0.89066349, 0.06681054,\n",
       "         0.74586419, 0.45452347, 0.54724605, 0.6496482 , 0.78183562,\n",
       "         0.88923013, 0.55640871, 0.91047823, 0.28466641, 0.09346681],\n",
       "        [0.6608355 , 0.77711325, 0.24588614, 0.01345676, 0.355845  ,\n",
       "         0.80388206, 0.02799326, 0.73677205, 0.52755007, 0.90523246,\n",
       "         0.88953067, 0.99193383, 0.18322521, 0.81854553, 0.56639097],\n",
       "        [0.54311023, 0.53678048, 0.4131242 , 0.77523379, 0.10966945,\n",
       "         0.13664648, 0.78287393, 0.9083969 , 0.52475929, 0.7493595 ,\n",
       "         0.014208  , 0.29673064, 0.6347744 , 0.6801958 , 0.39601146]]])"
      ]
     },
     "execution_count": 165,
     "metadata": {},
     "output_type": "execute_result"
    }
   ],
   "source": [
    "cc_arr"
   ]
  },
  {
   "cell_type": "code",
   "execution_count": 166,
   "id": "bed4764c",
   "metadata": {},
   "outputs": [],
   "source": [
    "np.random.seed(49)"
   ]
  },
  {
   "cell_type": "code",
   "execution_count": 167,
   "id": "4c2371ae",
   "metadata": {},
   "outputs": [],
   "source": [
    "arr = np.random.rand(16)"
   ]
  },
  {
   "cell_type": "code",
   "execution_count": 168,
   "id": "1432817f",
   "metadata": {},
   "outputs": [
    {
     "name": "stdout",
     "output_type": "stream",
     "text": [
      "low element = 0.3009644558559146 on index = 0\n",
      "low element = 0.24706183196181442 on index = 1\n",
      "0.9263351350591756\n",
      "0.891603438277764\n",
      "0.6832767599749869\n",
      "0.5668846594996723\n",
      "0.5469658802430317\n",
      "low element = 0.21042383598676584 on index = 7\n",
      "0.7697544681854357\n",
      "0.8962301009569733\n",
      "0.7216504565659716\n",
      "0.8024305278044254\n",
      "0.8448313057399196\n",
      "low element = 0.22913820441272792 on index = 15\n"
     ]
    }
   ],
   "source": [
    "for i, e in enumerate(arr):\n",
    "    if e > 0.5:\n",
    "        print(e)\n",
    "    elif e < 0.4:\n",
    "        print(\"low element = {} on index = {}\".format(e, i))"
   ]
  },
  {
   "cell_type": "code",
   "execution_count": 169,
   "id": "2b903842",
   "metadata": {},
   "outputs": [],
   "source": [
    "def my_func(value1, value2=0):\n",
    "    print(\"value = {} and {}\".format(value1, value2))\n",
    "    return value1 + \"_test\", value2 + 1"
   ]
  },
  {
   "cell_type": "code",
   "execution_count": 170,
   "id": "1243118f",
   "metadata": {},
   "outputs": [
    {
     "name": "stdout",
     "output_type": "stream",
     "text": [
      "value = mamad and 0\n"
     ]
    },
    {
     "data": {
      "text/plain": [
       "('mamad_test', 1)"
      ]
     },
     "execution_count": 170,
     "metadata": {},
     "output_type": "execute_result"
    }
   ],
   "source": [
    "my_func(\"mamad\")"
   ]
  },
  {
   "cell_type": "code",
   "execution_count": 171,
   "id": "0401903e",
   "metadata": {},
   "outputs": [],
   "source": [
    "class MyClass:\n",
    "\n",
    "    def __init__(self, arg1, arg2):\n",
    "        self.arg1 = arg1\n",
    "        self.arg2 = arg2\n",
    "\n",
    "    def mtd(self):\n",
    "        print(self.arg1)\n",
    "        print(self.arg2)\n",
    "\n",
    "    def area(self):\n",
    "        raise NotImplementedError(\"Subclasses must implement this method\")"
   ]
  },
  {
   "cell_type": "code",
   "execution_count": 172,
   "id": "9da8c900",
   "metadata": {},
   "outputs": [],
   "source": [
    "mc = MyClass(\"mamad\", 24)"
   ]
  },
  {
   "cell_type": "code",
   "execution_count": 173,
   "id": "3b223ef2",
   "metadata": {},
   "outputs": [
    {
     "data": {
      "text/plain": [
       "<__main__.MyClass at 0x7fb8f1a98f70>"
      ]
     },
     "execution_count": 173,
     "metadata": {},
     "output_type": "execute_result"
    }
   ],
   "source": [
    "mc"
   ]
  },
  {
   "cell_type": "code",
   "execution_count": 174,
   "id": "5b3dd86e",
   "metadata": {},
   "outputs": [
    {
     "name": "stdout",
     "output_type": "stream",
     "text": [
      "mamad\n",
      "24\n"
     ]
    }
   ],
   "source": [
    "mc.mtd()"
   ]
  },
  {
   "cell_type": "code",
   "execution_count": 175,
   "id": "50a857c4",
   "metadata": {},
   "outputs": [
    {
     "name": "stdout",
     "output_type": "stream",
     "text": [
      "Red\n",
      "Blue\n",
      "5\n",
      "78.5\n"
     ]
    }
   ],
   "source": [
    "class Shape:\n",
    "    def __init__(self, color):\n",
    "\n",
    "        # Storing the color of the shape\n",
    "        self.color = color\n",
    "\n",
    "    def area(self):\n",
    "\n",
    "        # This method should be implemented by subclasses\n",
    "        raise NotImplementedError(\"Subclasses must implement this method\")\n",
    "\n",
    "class Circle(Shape):\n",
    "    def __init__(self, color, radius):\n",
    "\n",
    "        # Initialize the parent class (Shape) with color\n",
    "        super().__init__(color)\n",
    "\n",
    "        # Storing the radius of the circle\n",
    "        self.radius = radius\n",
    "\n",
    "    def area(self):\n",
    "\n",
    "        # Circle-specific area calculation\n",
    "        return 3.14 * self.radius ** 2\n",
    "\n",
    "# Creating instances\n",
    "# Shape instance with color 'Red'\n",
    "s = Shape(\"Red\")\n",
    "\n",
    "# Circle instance with color 'Blue' and radius 5\n",
    "c = Circle(\"Blue\", 5)\n",
    "\n",
    "# Accessing attributes and methods\n",
    "print(s.color)  # Output: Red\n",
    "print(c.color)  # Output: Blue\n",
    "print(c.radius)  # Output: 5\n",
    "print(c.area())  # Output: 78.5"
   ]
  },
  {
   "cell_type": "code",
   "execution_count": 176,
   "id": "e1c9de96",
   "metadata": {},
   "outputs": [
    {
     "data": {
      "text/plain": [
       "6"
      ]
     },
     "execution_count": 176,
     "metadata": {},
     "output_type": "execute_result"
    }
   ],
   "source": [
    "class MyClass:\n",
    "\n",
    "    def __init__(self, arg1, arg2):\n",
    "        self.arg1 = arg1\n",
    "        self.arg2 = arg2\n",
    "\n",
    "    def mtd(self):\n",
    "        print(self.arg1)\n",
    "        print(self.arg2)\n",
    "\n",
    "    def area(self):\n",
    "        raise NotImplementedError(\"Subclasses must implement this method\")\n",
    "\n",
    "class MySubClass(MyClass):\n",
    "    def __init__(self, arg1, arg2, arg3):\n",
    "\n",
    "\n",
    "        super().__init__(arg1, arg2)\n",
    "\n",
    "        self.arg3 = arg3\n",
    "\n",
    "    def area(self):\n",
    "        return self.arg1 + self.arg2 + self.arg3\n",
    "\n",
    "msc = MySubClass(1, 2, 3)\n",
    "msc.area()"
   ]
  },
  {
   "cell_type": "code",
   "execution_count": 177,
   "id": "7f07664d",
   "metadata": {},
   "outputs": [],
   "source": [
    "import os"
   ]
  },
  {
   "cell_type": "code",
   "execution_count": 178,
   "id": "7004709d",
   "metadata": {},
   "outputs": [],
   "source": [
    "import pickle"
   ]
  },
  {
   "cell_type": "code",
   "execution_count": 179,
   "id": "122b36b6",
   "metadata": {},
   "outputs": [
    {
     "data": {
      "text/plain": [
       "['lost+found',\n",
       " 'etc',\n",
       " 'root',\n",
       " 'mnt',\n",
       " 'tmp',\n",
       " 'bin',\n",
       " 'sys',\n",
       " 'media',\n",
       " 'init',\n",
       " 'lib.usr-is-merged',\n",
       " 'var',\n",
       " 'sbin.usr-is-merged',\n",
       " 'home',\n",
       " 'srv',\n",
       " 'snap',\n",
       " 'sbin',\n",
       " 'lib64',\n",
       " 'dev',\n",
       " 'boot',\n",
       " 'proc',\n",
       " 'bin.usr-is-merged',\n",
       " 'run',\n",
       " 'opt',\n",
       " 'usr',\n",
       " 'lib']"
      ]
     },
     "execution_count": 179,
     "metadata": {},
     "output_type": "execute_result"
    }
   ],
   "source": [
    "os.listdir(\"/\")"
   ]
  },
  {
   "cell_type": "code",
   "execution_count": 180,
   "id": "b6a31787",
   "metadata": {},
   "outputs": [],
   "source": [
    "for file_name in os.listdir(\"./\"):\n",
    "    if \"numpy\" in file_name:\n",
    "        print(file_name)"
   ]
  },
  {
   "cell_type": "code",
   "execution_count": 181,
   "id": "c21d96c9",
   "metadata": {},
   "outputs": [
    {
     "name": "stdout",
     "output_type": "stream",
     "text": [
      "exists\n"
     ]
    }
   ],
   "source": [
    "if not os.path.exists(\"testdir/\"):\n",
    "    os.mkdir(\"testdir/\")\n",
    "else:\n",
    "    print(\"exists\")"
   ]
  },
  {
   "cell_type": "code",
   "execution_count": 182,
   "id": "22029576",
   "metadata": {},
   "outputs": [
    {
     "data": {
      "text/plain": [
       "['test_dir',\n",
       " 'test_file.txt',\n",
       " 'my_first_pickle.pkl',\n",
       " 'testdir',\n",
       " 'workspace.code-workspace']"
      ]
     },
     "execution_count": 182,
     "metadata": {},
     "output_type": "execute_result"
    }
   ],
   "source": [
    "os.listdir(\"./\")"
   ]
  },
  {
   "cell_type": "code",
   "execution_count": 183,
   "id": "7a2b084b",
   "metadata": {},
   "outputs": [],
   "source": [
    "test_dict = {\"k1\": 1, \"k2\": 2, \"k3\": 3}"
   ]
  },
  {
   "cell_type": "code",
   "execution_count": 184,
   "id": "497b2f00",
   "metadata": {},
   "outputs": [],
   "source": [
    "pickle.dump(test_dict, open(\"my_first_pickle.pkl\", \"wb\"))"
   ]
  },
  {
   "cell_type": "code",
   "execution_count": 185,
   "id": "b992f41a",
   "metadata": {},
   "outputs": [],
   "source": [
    "loaded_dict = pickle.load(open(\"my_first_pickle.pkl\", \"rb\"))"
   ]
  },
  {
   "cell_type": "code",
   "execution_count": 186,
   "id": "48d3c8cc",
   "metadata": {},
   "outputs": [
    {
     "data": {
      "text/plain": [
       "{'k1': 1, 'k2': 2, 'k3': 3}"
      ]
     },
     "execution_count": 186,
     "metadata": {},
     "output_type": "execute_result"
    }
   ],
   "source": [
    "loaded_dict"
   ]
  },
  {
   "cell_type": "code",
   "execution_count": 187,
   "id": "3fe6a54d",
   "metadata": {},
   "outputs": [
    {
     "data": {
      "text/plain": [
       "{'k1': 1, 'k2': 2, 'k3': 3}"
      ]
     },
     "execution_count": 187,
     "metadata": {},
     "output_type": "execute_result"
    }
   ],
   "source": [
    "test_dict"
   ]
  },
  {
   "cell_type": "code",
   "execution_count": 188,
   "id": "1bc6c027",
   "metadata": {},
   "outputs": [],
   "source": [
    "import tensorflow as tf"
   ]
  },
  {
   "cell_type": "code",
   "execution_count": 189,
   "id": "68b5381d",
   "metadata": {},
   "outputs": [
    {
     "name": "stderr",
     "output_type": "stream",
     "text": [
      "W0000 00:00:1739536773.337093    9663 gpu_device.cc:2344] Cannot dlopen some GPU libraries. Please make sure the missing libraries mentioned above are installed properly if you would like to use GPU. Follow the guide at https://www.tensorflow.org/install/gpu for how to download and setup the required libraries for your platform.\n",
      "Skipping registering GPU devices...\n"
     ]
    }
   ],
   "source": [
    "tensor_array = tf.convert_to_tensor([[1, 2], [4, 5]])"
   ]
  },
  {
   "cell_type": "code",
   "execution_count": 190,
   "id": "3ca25201",
   "metadata": {},
   "outputs": [
    {
     "data": {
      "text/plain": [
       "<tf.Tensor: shape=(2, 2), dtype=int32, numpy=\n",
       "array([[1, 2],\n",
       "       [4, 5]], dtype=int32)>"
      ]
     },
     "execution_count": 190,
     "metadata": {},
     "output_type": "execute_result"
    }
   ],
   "source": [
    "tensor_array"
   ]
  },
  {
   "cell_type": "code",
   "execution_count": 191,
   "id": "9be3d3a7",
   "metadata": {},
   "outputs": [
    {
     "data": {
      "text/plain": [
       "tensorflow.python.framework.ops.EagerTensor"
      ]
     },
     "execution_count": 191,
     "metadata": {},
     "output_type": "execute_result"
    }
   ],
   "source": [
    "type(tensor_array)"
   ]
  },
  {
   "cell_type": "code",
   "execution_count": 192,
   "id": "9c8940ff",
   "metadata": {},
   "outputs": [
    {
     "data": {
      "text/plain": [
       "TensorShape([2, 2])"
      ]
     },
     "execution_count": 192,
     "metadata": {},
     "output_type": "execute_result"
    }
   ],
   "source": [
    "tensor_array.shape"
   ]
  },
  {
   "cell_type": "code",
   "execution_count": 193,
   "id": "4e3dea13",
   "metadata": {},
   "outputs": [
    {
     "data": {
      "text/plain": [
       "tf.int32"
      ]
     },
     "execution_count": 193,
     "metadata": {},
     "output_type": "execute_result"
    }
   ],
   "source": [
    "tensor_array.dtype"
   ]
  },
  {
   "cell_type": "code",
   "execution_count": 194,
   "id": "045ca794",
   "metadata": {},
   "outputs": [],
   "source": [
    "int_tensor_array = tf.cast(tensor_array, dtype=tf.int32)"
   ]
  },
  {
   "cell_type": "code",
   "execution_count": 195,
   "id": "4250fdac",
   "metadata": {},
   "outputs": [
    {
     "data": {
      "text/plain": [
       "<tf.Tensor: shape=(2, 2), dtype=int32, numpy=\n",
       "array([[1, 2],\n",
       "       [4, 5]], dtype=int32)>"
      ]
     },
     "execution_count": 195,
     "metadata": {},
     "output_type": "execute_result"
    }
   ],
   "source": [
    "int_tensor_array"
   ]
  },
  {
   "cell_type": "code",
   "execution_count": 196,
   "id": "ba2cda53",
   "metadata": {},
   "outputs": [],
   "source": [
    "tf_z = tf.zeros((3, 4), dtype=tf.float32)"
   ]
  },
  {
   "cell_type": "code",
   "execution_count": 197,
   "id": "e8303297",
   "metadata": {},
   "outputs": [
    {
     "data": {
      "text/plain": [
       "<tf.Tensor: shape=(3, 4), dtype=float32, numpy=\n",
       "array([[0., 0., 0., 0.],\n",
       "       [0., 0., 0., 0.],\n",
       "       [0., 0., 0., 0.]], dtype=float32)>"
      ]
     },
     "execution_count": 197,
     "metadata": {},
     "output_type": "execute_result"
    }
   ],
   "source": [
    "tf_z"
   ]
  },
  {
   "cell_type": "code",
   "execution_count": 198,
   "id": "db4ae8ae",
   "metadata": {},
   "outputs": [],
   "source": [
    "tf.random.set_seed(46)\n",
    "rand_tf = tf.random.uniform(shape=(4, 10), maxval=1., dtype=tf.float32)"
   ]
  },
  {
   "cell_type": "code",
   "execution_count": 199,
   "id": "c108435a",
   "metadata": {},
   "outputs": [
    {
     "data": {
      "text/plain": [
       "<tf.Tensor: shape=(4, 10), dtype=float32, numpy=\n",
       "array([[0.7300668 , 0.25103962, 0.42991805, 0.11459172, 0.4995339 ,\n",
       "        0.39785516, 0.717703  , 0.8796133 , 0.41742086, 0.8905815 ],\n",
       "       [0.04490781, 0.64715993, 0.6124575 , 0.8963598 , 0.50094795,\n",
       "        0.5403452 , 0.13583767, 0.796286  , 0.11443329, 0.6610137 ],\n",
       "       [0.75864327, 0.05791759, 0.9041784 , 0.5926819 , 0.14621067,\n",
       "        0.10904384, 0.28547847, 0.65069926, 0.09890389, 0.7398746 ],\n",
       "       [0.56936777, 0.7675011 , 0.27471685, 0.72731483, 0.69775176,\n",
       "        0.50558805, 0.98601305, 0.7327801 , 0.85814536, 0.04894578]],\n",
       "      dtype=float32)>"
      ]
     },
     "execution_count": 199,
     "metadata": {},
     "output_type": "execute_result"
    }
   ],
   "source": [
    "rand_tf"
   ]
  },
  {
   "cell_type": "code",
   "execution_count": 200,
   "id": "970f3b44",
   "metadata": {},
   "outputs": [],
   "source": [
    "tf_reshape = tf.reshape(rand_tf, (5, 8))"
   ]
  },
  {
   "cell_type": "code",
   "execution_count": 201,
   "id": "08799ca4",
   "metadata": {},
   "outputs": [
    {
     "data": {
      "text/plain": [
       "<tf.Tensor: shape=(5, 8), dtype=float32, numpy=\n",
       "array([[0.7300668 , 0.25103962, 0.42991805, 0.11459172, 0.4995339 ,\n",
       "        0.39785516, 0.717703  , 0.8796133 ],\n",
       "       [0.41742086, 0.8905815 , 0.04490781, 0.64715993, 0.6124575 ,\n",
       "        0.8963598 , 0.50094795, 0.5403452 ],\n",
       "       [0.13583767, 0.796286  , 0.11443329, 0.6610137 , 0.75864327,\n",
       "        0.05791759, 0.9041784 , 0.5926819 ],\n",
       "       [0.14621067, 0.10904384, 0.28547847, 0.65069926, 0.09890389,\n",
       "        0.7398746 , 0.56936777, 0.7675011 ],\n",
       "       [0.27471685, 0.72731483, 0.69775176, 0.50558805, 0.98601305,\n",
       "        0.7327801 , 0.85814536, 0.04894578]], dtype=float32)>"
      ]
     },
     "execution_count": 201,
     "metadata": {},
     "output_type": "execute_result"
    }
   ],
   "source": [
    "tf_reshape"
   ]
  },
  {
   "cell_type": "code",
   "execution_count": 202,
   "id": "a519b80f",
   "metadata": {},
   "outputs": [
    {
     "data": {
      "text/plain": [
       "<tf.Tensor: shape=(), dtype=float32, numpy=0.04490780830383301>"
      ]
     },
     "execution_count": 202,
     "metadata": {},
     "output_type": "execute_result"
    }
   ],
   "source": [
    "tf.reduce_min(tf_reshape)"
   ]
  },
  {
   "cell_type": "code",
   "execution_count": 203,
   "id": "0771cf81",
   "metadata": {},
   "outputs": [
    {
     "data": {
      "text/plain": [
       "<tf.Tensor: shape=(5, 8), dtype=float32, numpy=\n",
       "array([[0.7300668 , 0.25103962, 0.42991805, 0.11459172, 0.4995339 ,\n",
       "        0.39785516, 0.717703  , 0.8796133 ],\n",
       "       [0.41742086, 0.8905815 , 0.04490781, 0.64715993, 0.6124575 ,\n",
       "        0.8963598 , 0.50094795, 0.5403452 ],\n",
       "       [0.13583767, 0.796286  , 0.11443329, 0.6610137 , 0.75864327,\n",
       "        0.05791759, 0.9041784 , 0.5926819 ],\n",
       "       [0.14621067, 0.10904384, 0.28547847, 0.65069926, 0.09890389,\n",
       "        0.7398746 , 0.56936777, 0.7675011 ],\n",
       "       [0.27471685, 0.72731483, 0.69775176, 0.50558805, 0.98601305,\n",
       "        0.7327801 , 0.85814536, 0.04894578]], dtype=float32)>"
      ]
     },
     "execution_count": 203,
     "metadata": {},
     "output_type": "execute_result"
    }
   ],
   "source": [
    "tf_reshape"
   ]
  },
  {
   "cell_type": "code",
   "execution_count": 204,
   "id": "6eaaf3d8",
   "metadata": {},
   "outputs": [
    {
     "data": {
      "text/plain": [
       "<tf.Tensor: shape=(), dtype=float32, numpy=0.5197457075119019>"
      ]
     },
     "execution_count": 204,
     "metadata": {},
     "output_type": "execute_result"
    }
   ],
   "source": [
    "tf.reduce_mean(tf_reshape)"
   ]
  },
  {
   "cell_type": "code",
   "execution_count": 205,
   "id": "499bb41e",
   "metadata": {},
   "outputs": [
    {
     "data": {
      "text/plain": [
       "<tf.Tensor: shape=(8,), dtype=float32, numpy=\n",
       "array([0.34085056, 0.55485314, 0.3144979 , 0.51581055, 0.59111035,\n",
       "       0.56495744, 0.7100685 , 0.5658175 ], dtype=float32)>"
      ]
     },
     "execution_count": 205,
     "metadata": {},
     "output_type": "execute_result"
    }
   ],
   "source": [
    "tf.reduce_mean(tf_reshape, axis=0)"
   ]
  },
  {
   "cell_type": "code",
   "execution_count": 206,
   "id": "1ce15b81",
   "metadata": {},
   "outputs": [],
   "source": [
    "sub_tensor = tf_reshape[1:4, 4:7]"
   ]
  },
  {
   "cell_type": "code",
   "execution_count": 207,
   "id": "a5a04c93",
   "metadata": {},
   "outputs": [
    {
     "data": {
      "text/plain": [
       "<tf.Tensor: shape=(3, 3), dtype=float32, numpy=\n",
       "array([[0.6124575 , 0.8963598 , 0.50094795],\n",
       "       [0.75864327, 0.05791759, 0.9041784 ],\n",
       "       [0.09890389, 0.7398746 , 0.56936777]], dtype=float32)>"
      ]
     },
     "execution_count": 207,
     "metadata": {},
     "output_type": "execute_result"
    }
   ],
   "source": [
    "sub_tensor"
   ]
  },
  {
   "cell_type": "code",
   "execution_count": 208,
   "id": "968ac888",
   "metadata": {},
   "outputs": [],
   "source": [
    "mask = tf_reshape > 0.5"
   ]
  },
  {
   "cell_type": "code",
   "execution_count": 209,
   "id": "40cfc922",
   "metadata": {},
   "outputs": [
    {
     "data": {
      "text/plain": [
       "<tf.Tensor: shape=(5, 8), dtype=bool, numpy=\n",
       "array([[ True, False, False, False, False, False,  True,  True],\n",
       "       [False,  True, False,  True,  True,  True,  True,  True],\n",
       "       [False,  True, False,  True,  True, False,  True,  True],\n",
       "       [False, False, False,  True, False,  True,  True,  True],\n",
       "       [False,  True,  True,  True,  True,  True,  True, False]])>"
      ]
     },
     "execution_count": 209,
     "metadata": {},
     "output_type": "execute_result"
    }
   ],
   "source": [
    "mask"
   ]
  },
  {
   "cell_type": "code",
   "execution_count": 210,
   "id": "b3178c76",
   "metadata": {},
   "outputs": [],
   "source": [
    "tf_select = tf_reshape[mask]"
   ]
  },
  {
   "cell_type": "code",
   "execution_count": 211,
   "id": "01641d33",
   "metadata": {
    "scrolled": true
   },
   "outputs": [
    {
     "data": {
      "text/plain": [
       "<tf.Tensor: shape=(24,), dtype=float32, numpy=\n",
       "array([0.7300668 , 0.717703  , 0.8796133 , 0.8905815 , 0.64715993,\n",
       "       0.6124575 , 0.8963598 , 0.50094795, 0.5403452 , 0.796286  ,\n",
       "       0.6610137 , 0.75864327, 0.9041784 , 0.5926819 , 0.65069926,\n",
       "       0.7398746 , 0.56936777, 0.7675011 , 0.72731483, 0.69775176,\n",
       "       0.50558805, 0.98601305, 0.7327801 , 0.85814536], dtype=float32)>"
      ]
     },
     "execution_count": 211,
     "metadata": {},
     "output_type": "execute_result"
    }
   ],
   "source": [
    "tf_select"
   ]
  },
  {
   "cell_type": "code",
   "execution_count": 212,
   "id": "5489d850",
   "metadata": {},
   "outputs": [
    {
     "data": {
      "text/plain": [
       "<tf.Tensor: shape=(), dtype=float32, numpy=0.7177029848098755>"
      ]
     },
     "execution_count": 212,
     "metadata": {},
     "output_type": "execute_result"
    }
   ],
   "source": [
    "tf.gather(tf_select, 1)"
   ]
  },
  {
   "cell_type": "code",
   "execution_count": 213,
   "id": "40eb7f23",
   "metadata": {},
   "outputs": [
    {
     "data": {
      "text/plain": [
       "<tf.Tensor: shape=(3, 8), dtype=float32, numpy=\n",
       "array([[0.7300668 , 0.25103962, 0.42991805, 0.11459172, 0.4995339 ,\n",
       "        0.39785516, 0.717703  , 0.8796133 ],\n",
       "       [0.41742086, 0.8905815 , 0.04490781, 0.64715993, 0.6124575 ,\n",
       "        0.8963598 , 0.50094795, 0.5403452 ],\n",
       "       [0.13583767, 0.796286  , 0.11443329, 0.6610137 , 0.75864327,\n",
       "        0.05791759, 0.9041784 , 0.5926819 ]], dtype=float32)>"
      ]
     },
     "execution_count": 213,
     "metadata": {},
     "output_type": "execute_result"
    }
   ],
   "source": [
    "tf.gather(tf_reshape, (0, 1, 2))"
   ]
  },
  {
   "cell_type": "code",
   "execution_count": 214,
   "id": "9038ad61",
   "metadata": {},
   "outputs": [],
   "source": [
    "names = [\"ali\", \"mamad\", \"mohsen\"]"
   ]
  },
  {
   "cell_type": "code",
   "execution_count": 215,
   "id": "2d6992bb",
   "metadata": {},
   "outputs": [],
   "source": [
    "with open(\"test_file.txt\", \"w\") as text_file:\n",
    "    for name in names:\n",
    "        text_file.write(\"Name of person = {}\\n\".format(name))\n",
    "text_file.close()"
   ]
  },
  {
   "cell_type": "code",
   "execution_count": 216,
   "id": "bab1ff85",
   "metadata": {},
   "outputs": [
    {
     "name": "stdout",
     "output_type": "stream",
     "text": [
      "this is lines: ['Name of person = ali\\n', 'Name of person = mamad\\n', 'Name of person = mohsen\\n']\n",
      "\n",
      "line 0: Name of person = ali\n",
      "\n",
      "this is words: ['Name', 'of', 'person', '=', 'ali\\n']\n",
      "\n",
      "this is read names: ['ali']\n",
      "\n",
      "line 1: Name of person = mamad\n",
      "\n",
      "this is words: ['Name', 'of', 'person', '=', 'mamad\\n']\n",
      "\n",
      "this is read names: ['ali', 'mamad']\n",
      "\n",
      "line 2: Name of person = mohsen\n",
      "\n",
      "this is words: ['Name', 'of', 'person', '=', 'mohsen\\n']\n",
      "\n",
      "this is read names: ['ali', 'mamad', 'mohsen']\n",
      "\n"
     ]
    }
   ],
   "source": [
    "read_names = []\n",
    "with open(\"test_file.txt\", \"r\") as text_file:\n",
    "    lines = text_file.readlines()\n",
    "    print(\"this is lines: {}\\n\".format(lines))\n",
    "    for index, line in enumerate(lines):\n",
    "        print(\"line {}: {}\".format(index, line))\n",
    "        words = line.split(\" \")\n",
    "        print(\"this is words: {}\\n\".format(words))\n",
    "        read_names.append(words[-1][:-1])\n",
    "        print(\"this is read names: {}\\n\".format(read_names))"
   ]
  },
  {
   "cell_type": "code",
   "execution_count": 217,
   "id": "5ea7232c",
   "metadata": {},
   "outputs": [
    {
     "data": {
      "text/plain": [
       "['ali', 'mamad', 'mohsen']"
      ]
     },
     "execution_count": 217,
     "metadata": {},
     "output_type": "execute_result"
    }
   ],
   "source": [
    "read_names"
   ]
  },
  {
   "cell_type": "code",
   "execution_count": 218,
   "id": "d04fca93",
   "metadata": {},
   "outputs": [],
   "source": [
    "(train_data, train_labels), (test_data, test_labels) = tf.keras.datasets.mnist.load_data()"
   ]
  },
  {
   "cell_type": "code",
   "execution_count": 219,
   "id": "1e7464d5",
   "metadata": {},
   "outputs": [],
   "source": [
    "import matplotlib.pyplot as plt"
   ]
  },
  {
   "cell_type": "code",
   "execution_count": 220,
   "id": "4f95d87e",
   "metadata": {
    "scrolled": true
   },
   "outputs": [
    {
     "data": {
      "text/plain": [
       "<matplotlib.image.AxesImage at 0x7fb8ec0463d0>"
      ]
     },
     "execution_count": 220,
     "metadata": {},
     "output_type": "execute_result"
    },
    {
     "data": {
      "image/png": "[encoded data removed]",
      "text/plain": [
       "<Figure size 640x480 with 1 Axes>"
      ]
     },
     "metadata": {},
     "output_type": "display_data"
    }
   ],
   "source": [
    "plt.imshow(train_data[0])"
   ]
  },
  {
   "cell_type": "code",
   "execution_count": 221,
   "id": "975844bd",
   "metadata": {},
   "outputs": [],
   "source": [
    "import pandas as pd"
   ]
  },
  {
   "cell_type": "code",
   "execution_count": 222,
   "id": "5e19cb55",
   "metadata": {},
   "outputs": [],
   "source": [
    "from sklearn.preprocessing import MinMaxScaler"
   ]
  },
  {
   "cell_type": "code",
   "execution_count": 223,
   "id": "9da808a9",
   "metadata": {},
   "outputs": [],
   "source": [
    "(train_data, train_labels), (test_data, test_labels) = tf.keras.datasets.boston_housing.load_data()"
   ]
  },
  {
   "cell_type": "code",
   "execution_count": 224,
   "id": "932fd435",
   "metadata": {},
   "outputs": [
    {
     "data": {
      "text/plain": [
       "array([  1.23247,   0.     ,   8.14   ,   0.     ,   0.538  ,   6.142  ,\n",
       "        91.7    ,   3.9769 ,   4.     , 307.     ,  21.     , 396.9    ,\n",
       "        18.72   ])"
      ]
     },
     "execution_count": 224,
     "metadata": {},
     "output_type": "execute_result"
    }
   ],
   "source": [
    "train_data[0]"
   ]
  },
  {
   "cell_type": "code",
   "execution_count": 225,
   "id": "31c7137e",
   "metadata": {},
   "outputs": [
    {
     "data": {
      "text/plain": [
       "(104, 8)"
      ]
     },
     "execution_count": 225,
     "metadata": {},
     "output_type": "execute_result"
    }
   ],
   "source": [
    "train_data.strides"
   ]
  },
  {
   "cell_type": "code",
   "execution_count": 226,
   "id": "d52576e4",
   "metadata": {},
   "outputs": [
    {
     "data": {
      "text/plain": [
       "2"
      ]
     },
     "execution_count": 226,
     "metadata": {},
     "output_type": "execute_result"
    }
   ],
   "source": [
    "train_data.ndim"
   ]
  },
  {
   "cell_type": "code",
   "execution_count": 227,
   "id": "92a6dcce",
   "metadata": {},
   "outputs": [
    {
     "data": {
      "text/plain": [
       "array([2.1770e-02, 8.2500e+01, 2.0300e+00, 0.0000e+00, 4.1500e-01,\n",
       "       7.6100e+00, 1.5700e+01, 6.2700e+00, 2.0000e+00, 3.4800e+02,\n",
       "       1.4700e+01, 3.9538e+02, 3.1100e+00])"
      ]
     },
     "execution_count": 227,
     "metadata": {},
     "output_type": "execute_result"
    }
   ],
   "source": [
    "train_data[1]"
   ]
  },
  {
   "cell_type": "code",
   "execution_count": 228,
   "id": "cc60a74c",
   "metadata": {},
   "outputs": [
    {
     "data": {
      "text/plain": [
       "(404,)"
      ]
     },
     "execution_count": 228,
     "metadata": {},
     "output_type": "execute_result"
    }
   ],
   "source": [
    "train_labels.shape"
   ]
  },
  {
   "cell_type": "code",
   "execution_count": 229,
   "id": "95edb593",
   "metadata": {},
   "outputs": [
    {
     "data": {
      "text/plain": [
       "(102,)"
      ]
     },
     "execution_count": 229,
     "metadata": {},
     "output_type": "execute_result"
    }
   ],
   "source": [
    "test_labels.shape"
   ]
  },
  {
   "cell_type": "code",
   "execution_count": 230,
   "id": "b100c415",
   "metadata": {},
   "outputs": [
    {
     "data": {
      "text/plain": [
       "(102, 13)"
      ]
     },
     "execution_count": 230,
     "metadata": {},
     "output_type": "execute_result"
    }
   ],
   "source": [
    "test_data.shape"
   ]
  },
  {
   "cell_type": "code",
   "execution_count": 231,
   "id": "c208b14b",
   "metadata": {},
   "outputs": [
    {
     "data": {
      "text/plain": [
       "dtype('float64')"
      ]
     },
     "execution_count": 231,
     "metadata": {},
     "output_type": "execute_result"
    }
   ],
   "source": [
    "train_data.dtype"
   ]
  },
  {
   "cell_type": "code",
   "execution_count": 232,
   "id": "27b4e0cb",
   "metadata": {},
   "outputs": [
    {
     "data": {
      "text/plain": [
       "dtype('float64')"
      ]
     },
     "execution_count": 232,
     "metadata": {},
     "output_type": "execute_result"
    }
   ],
   "source": [
    "train_labels.dtype"
   ]
  },
  {
   "cell_type": "code",
   "execution_count": 233,
   "id": "5680a8fc",
   "metadata": {},
   "outputs": [
    {
     "data": {
      "text/plain": [
       "array([6.3200e-03, 0.0000e+00, 4.6000e-01, 0.0000e+00, 3.8500e-01,\n",
       "       3.5610e+00, 2.9000e+00, 1.1296e+00, 1.0000e+00, 1.8800e+02,\n",
       "       1.2600e+01, 3.2000e-01, 1.7300e+00])"
      ]
     },
     "execution_count": 233,
     "metadata": {},
     "output_type": "execute_result"
    }
   ],
   "source": [
    "train_data.min(axis=0)"
   ]
  },
  {
   "cell_type": "code",
   "execution_count": 234,
   "id": "20383f2d",
   "metadata": {},
   "outputs": [
    {
     "data": {
      "text/plain": [
       "np.float64(711.0)"
      ]
     },
     "execution_count": 234,
     "metadata": {},
     "output_type": "execute_result"
    }
   ],
   "source": [
    "train_data.max()"
   ]
  },
  {
   "cell_type": "code",
   "execution_count": 235,
   "id": "70a20281",
   "metadata": {},
   "outputs": [
    {
     "data": {
      "text/plain": [
       "array([ 88.9762, 100.    ,  27.74  ,   1.    ,   0.871 ,   8.725 ,\n",
       "       100.    ,  10.7103,  24.    , 711.    ,  22.    , 396.9   ,\n",
       "        37.97  ])"
      ]
     },
     "execution_count": 235,
     "metadata": {},
     "output_type": "execute_result"
    }
   ],
   "source": [
    "train_data.max(axis=0)"
   ]
  },
  {
   "cell_type": "code",
   "execution_count": 236,
   "id": "dd3067e0",
   "metadata": {},
   "outputs": [
    {
     "data": {
      "text/plain": [
       "np.float64(50.0)"
      ]
     },
     "execution_count": 236,
     "metadata": {},
     "output_type": "execute_result"
    }
   ],
   "source": [
    "train_labels.max()"
   ]
  },
  {
   "cell_type": "code",
   "execution_count": 237,
   "id": "f0a4f108",
   "metadata": {},
   "outputs": [],
   "source": [
    "# Normalize between 0, 1\n",
    "# Data type to float32\n",
    "# Shape compatibality"
   ]
  },
  {
   "cell_type": "code",
   "execution_count": 238,
   "id": "c34f9434",
   "metadata": {},
   "outputs": [],
   "source": [
    "min_max_scaler = MinMaxScaler()"
   ]
  },
  {
   "cell_type": "code",
   "execution_count": 239,
   "id": "ca3edfce",
   "metadata": {},
   "outputs": [
    {
     "data": {
      "text/html": [
       "<style>#sk-container-id-1 {\n",
       "  /* Definition of color scheme common for light and dark mode */\n",
       "  --sklearn-color-text: #000;\n",
       "  --sklearn-color-text-muted: #666;\n",
       "  --sklearn-color-line: gray;\n",
       "  /* Definition of color scheme for unfitted estimators */\n",
       "  --sklearn-color-unfitted-level-0: #fff5e6;\n",
       "  --sklearn-color-unfitted-level-1: #f6e4d2;\n",
       "  --sklearn-color-unfitted-level-2: #ffe0b3;\n",
       "  --sklearn-color-unfitted-level-3: chocolate;\n",
       "  /* Definition of color scheme for fitted estimators */\n",
       "  --sklearn-color-fitted-level-0: #f0f8ff;\n",
       "  --sklearn-color-fitted-level-1: #d4ebff;\n",
       "  --sklearn-color-fitted-level-2: #b3dbfd;\n",
       "  --sklearn-color-fitted-level-3: cornflowerblue;\n",
       "\n",
       "  /* Specific color for light theme */\n",
       "  --sklearn-color-text-on-default-background: var(--sg-text-color, var(--theme-code-foreground, var(--jp-content-font-color1, black)));\n",
       "  --sklearn-color-background: var(--sg-background-color, var(--theme-background, var(--jp-layout-color0, white)));\n",
       "  --sklearn-color-border-box: var(--sg-text-color, var(--theme-code-foreground, var(--jp-content-font-color1, black)));\n",
       "  --sklearn-color-icon: #696969;\n",
       "\n",
       "  @media (prefers-color-scheme: dark) {\n",
       "    /* Redefinition of color scheme for dark theme */\n",
       "    --sklearn-color-text-on-default-background: var(--sg-text-color, var(--theme-code-foreground, var(--jp-content-font-color1, white)));\n",
       "    --sklearn-color-background: var(--sg-background-color, var(--theme-background, var(--jp-layout-color0, #111)));\n",
       "    --sklearn-color-border-box: var(--sg-text-color, var(--theme-code-foreground, var(--jp-content-font-color1, white)));\n",
       "    --sklearn-color-icon: #878787;\n",
       "  }\n",
       "}\n",
       "\n",
       "#sk-container-id-1 {\n",
       "  color: var(--sklearn-color-text);\n",
       "}\n",
       "\n",
       "#sk-container-id-1 pre {\n",
       "  padding: 0;\n",
       "}\n",
       "\n",
       "#sk-container-id-1 input.sk-hidden--visually {\n",
       "  border: 0;\n",
       "  clip: rect(1px 1px 1px 1px);\n",
       "  clip: rect(1px, 1px, 1px, 1px);\n",
       "  height: 1px;\n",
       "  margin: -1px;\n",
       "  overflow: hidden;\n",
       "  padding: 0;\n",
       "  position: absolute;\n",
       "  width: 1px;\n",
       "}\n",
       "\n",
       "#sk-container-id-1 div.sk-dashed-wrapped {\n",
       "  border: 1px dashed var(--sklearn-color-line);\n",
       "  margin: 0 0.4em 0.5em 0.4em;\n",
       "  box-sizing: border-box;\n",
       "  padding-bottom: 0.4em;\n",
       "  background-color: var(--sklearn-color-background);\n",
       "}\n",
       "\n",
       "#sk-container-id-1 div.sk-container {\n",
       "  /* jupyter's `normalize.less` sets `[hidden] { display: none; }`\n",
       "     but bootstrap.min.css set `[hidden] { display: none !important; }`\n",
       "     so we also need the `!important` here to be able to override the\n",
       "     default hidden behavior on the sphinx rendered scikit-learn.org.\n",
       "     See: https://github.com/scikit-learn/scikit-learn/issues/21755 */\n",
       "  display: inline-block !important;\n",
       "  position: relative;\n",
       "}\n",
       "\n",
       "#sk-container-id-1 div.sk-text-repr-fallback {\n",
       "  display: none;\n",
       "}\n",
       "\n",
       "div.sk-parallel-item,\n",
       "div.sk-serial,\n",
       "div.sk-item {\n",
       "  /* draw centered vertical line to link estimators */\n",
       "  background-image: linear-gradient(var(--sklearn-color-text-on-default-background), var(--sklearn-color-text-on-default-background));\n",
       "  background-size: 2px 100%;\n",
       "  background-repeat: no-repeat;\n",
       "  background-position: center center;\n",
       "}\n",
       "\n",
       "/* Parallel-specific style estimator block */\n",
       "\n",
       "#sk-container-id-1 div.sk-parallel-item::after {\n",
       "  content: \"\";\n",
       "  width: 100%;\n",
       "  border-bottom: 2px solid var(--sklearn-color-text-on-default-background);\n",
       "  flex-grow: 1;\n",
       "}\n",
       "\n",
       "#sk-container-id-1 div.sk-parallel {\n",
       "  display: flex;\n",
       "  align-items: stretch;\n",
       "  justify-content: center;\n",
       "  background-color: var(--sklearn-color-background);\n",
       "  position: relative;\n",
       "}\n",
       "\n",
       "#sk-container-id-1 div.sk-parallel-item {\n",
       "  display: flex;\n",
       "  flex-direction: column;\n",
       "}\n",
       "\n",
       "#sk-container-id-1 div.sk-parallel-item:first-child::after {\n",
       "  align-self: flex-end;\n",
       "  width: 50%;\n",
       "}\n",
       "\n",
       "#sk-container-id-1 div.sk-parallel-item:last-child::after {\n",
       "  align-self: flex-start;\n",
       "  width: 50%;\n",
       "}\n",
       "\n",
       "#sk-container-id-1 div.sk-parallel-item:only-child::after {\n",
       "  width: 0;\n",
       "}\n",
       "\n",
       "/* Serial-specific style estimator block */\n",
       "\n",
       "#sk-container-id-1 div.sk-serial {\n",
       "  display: flex;\n",
       "  flex-direction: column;\n",
       "  align-items: center;\n",
       "  background-color: var(--sklearn-color-background);\n",
       "  padding-right: 1em;\n",
       "  padding-left: 1em;\n",
       "}\n",
       "\n",
       "\n",
       "/* Toggleable style: style used for estimator/Pipeline/ColumnTransformer box that is\n",
       "clickable and can be expanded/collapsed.\n",
       "- Pipeline and ColumnTransformer use this feature and define the default style\n",
       "- Estimators will overwrite some part of the style using the `sk-estimator` class\n",
       "*/\n",
       "\n",
       "/* Pipeline and ColumnTransformer style (default) */\n",
       "\n",
       "#sk-container-id-1 div.sk-toggleable {\n",
       "  /* Default theme specific background. It is overwritten whether we have a\n",
       "  specific estimator or a Pipeline/ColumnTransformer */\n",
       "  background-color: var(--sklearn-color-background);\n",
       "}\n",
       "\n",
       "/* Toggleable label */\n",
       "#sk-container-id-1 label.sk-toggleable__label {\n",
       "  cursor: pointer;\n",
       "  display: flex;\n",
       "  width: 100%;\n",
       "  margin-bottom: 0;\n",
       "  padding: 0.5em;\n",
       "  box-sizing: border-box;\n",
       "  text-align: center;\n",
       "  align-items: start;\n",
       "  justify-content: space-between;\n",
       "  gap: 0.5em;\n",
       "}\n",
       "\n",
       "#sk-container-id-1 label.sk-toggleable__label .caption {\n",
       "  font-size: 0.6rem;\n",
       "  font-weight: lighter;\n",
       "  color: var(--sklearn-color-text-muted);\n",
       "}\n",
       "\n",
       "#sk-container-id-1 label.sk-toggleable__label-arrow:before {\n",
       "  /* Arrow on the left of the label */\n",
       "  content: \"▸\";\n",
       "  float: left;\n",
       "  margin-right: 0.25em;\n",
       "  color: var(--sklearn-color-icon);\n",
       "}\n",
       "\n",
       "#sk-container-id-1 label.sk-toggleable__label-arrow:hover:before {\n",
       "  color: var(--sklearn-color-text);\n",
       "}\n",
       "\n",
       "/* Toggleable content - dropdown */\n",
       "\n",
       "#sk-container-id-1 div.sk-toggleable__content {\n",
       "  max-height: 0;\n",
       "  max-width: 0;\n",
       "  overflow: hidden;\n",
       "  text-align: left;\n",
       "  /* unfitted */\n",
       "  background-color: var(--sklearn-color-unfitted-level-0);\n",
       "}\n",
       "\n",
       "#sk-container-id-1 div.sk-toggleable__content.fitted {\n",
       "  /* fitted */\n",
       "  background-color: var(--sklearn-color-fitted-level-0);\n",
       "}\n",
       "\n",
       "#sk-container-id-1 div.sk-toggleable__content pre {\n",
       "  margin: 0.2em;\n",
       "  border-radius: 0.25em;\n",
       "  color: var(--sklearn-color-text);\n",
       "  /* unfitted */\n",
       "  background-color: var(--sklearn-color-unfitted-level-0);\n",
       "}\n",
       "\n",
       "#sk-container-id-1 div.sk-toggleable__content.fitted pre {\n",
       "  /* unfitted */\n",
       "  background-color: var(--sklearn-color-fitted-level-0);\n",
       "}\n",
       "\n",
       "#sk-container-id-1 input.sk-toggleable__control:checked~div.sk-toggleable__content {\n",
       "  /* Expand drop-down */\n",
       "  max-height: 200px;\n",
       "  max-width: 100%;\n",
       "  overflow: auto;\n",
       "}\n",
       "\n",
       "#sk-container-id-1 input.sk-toggleable__control:checked~label.sk-toggleable__label-arrow:before {\n",
       "  content: \"▾\";\n",
       "}\n",
       "\n",
       "/* Pipeline/ColumnTransformer-specific style */\n",
       "\n",
       "#sk-container-id-1 div.sk-label input.sk-toggleable__control:checked~label.sk-toggleable__label {\n",
       "  color: var(--sklearn-color-text);\n",
       "  background-color: var(--sklearn-color-unfitted-level-2);\n",
       "}\n",
       "\n",
       "#sk-container-id-1 div.sk-label.fitted input.sk-toggleable__control:checked~label.sk-toggleable__label {\n",
       "  background-color: var(--sklearn-color-fitted-level-2);\n",
       "}\n",
       "\n",
       "/* Estimator-specific style */\n",
       "\n",
       "/* Colorize estimator box */\n",
       "#sk-container-id-1 div.sk-estimator input.sk-toggleable__control:checked~label.sk-toggleable__label {\n",
       "  /* unfitted */\n",
       "  background-color: var(--sklearn-color-unfitted-level-2);\n",
       "}\n",
       "\n",
       "#sk-container-id-1 div.sk-estimator.fitted input.sk-toggleable__control:checked~label.sk-toggleable__label {\n",
       "  /* fitted */\n",
       "  background-color: var(--sklearn-color-fitted-level-2);\n",
       "}\n",
       "\n",
       "#sk-container-id-1 div.sk-label label.sk-toggleable__label,\n",
       "#sk-container-id-1 div.sk-label label {\n",
       "  /* The background is the default theme color */\n",
       "  color: var(--sklearn-color-text-on-default-background);\n",
       "}\n",
       "\n",
       "/* On hover, darken the color of the background */\n",
       "#sk-container-id-1 div.sk-label:hover label.sk-toggleable__label {\n",
       "  color: var(--sklearn-color-text);\n",
       "  background-color: var(--sklearn-color-unfitted-level-2);\n",
       "}\n",
       "\n",
       "/* Label box, darken color on hover, fitted */\n",
       "#sk-container-id-1 div.sk-label.fitted:hover label.sk-toggleable__label.fitted {\n",
       "  color: var(--sklearn-color-text);\n",
       "  background-color: var(--sklearn-color-fitted-level-2);\n",
       "}\n",
       "\n",
       "/* Estimator label */\n",
       "\n",
       "#sk-container-id-1 div.sk-label label {\n",
       "  font-family: monospace;\n",
       "  font-weight: bold;\n",
       "  display: inline-block;\n",
       "  line-height: 1.2em;\n",
       "}\n",
       "\n",
       "#sk-container-id-1 div.sk-label-container {\n",
       "  text-align: center;\n",
       "}\n",
       "\n",
       "/* Estimator-specific */\n",
       "#sk-container-id-1 div.sk-estimator {\n",
       "  font-family: monospace;\n",
       "  border: 1px dotted var(--sklearn-color-border-box);\n",
       "  border-radius: 0.25em;\n",
       "  box-sizing: border-box;\n",
       "  margin-bottom: 0.5em;\n",
       "  /* unfitted */\n",
       "  background-color: var(--sklearn-color-unfitted-level-0);\n",
       "}\n",
       "\n",
       "#sk-container-id-1 div.sk-estimator.fitted {\n",
       "  /* fitted */\n",
       "  background-color: var(--sklearn-color-fitted-level-0);\n",
       "}\n",
       "\n",
       "/* on hover */\n",
       "#sk-container-id-1 div.sk-estimator:hover {\n",
       "  /* unfitted */\n",
       "  background-color: var(--sklearn-color-unfitted-level-2);\n",
       "}\n",
       "\n",
       "#sk-container-id-1 div.sk-estimator.fitted:hover {\n",
       "  /* fitted */\n",
       "  background-color: var(--sklearn-color-fitted-level-2);\n",
       "}\n",
       "\n",
       "/* Specification for estimator info (e.g. \"i\" and \"?\") */\n",
       "\n",
       "/* Common style for \"i\" and \"?\" */\n",
       "\n",
       ".sk-estimator-doc-link,\n",
       "a:link.sk-estimator-doc-link,\n",
       "a:visited.sk-estimator-doc-link {\n",
       "  float: right;\n",
       "  font-size: smaller;\n",
       "  line-height: 1em;\n",
       "  font-family: monospace;\n",
       "  background-color: var(--sklearn-color-background);\n",
       "  border-radius: 1em;\n",
       "  height: 1em;\n",
       "  width: 1em;\n",
       "  text-decoration: none !important;\n",
       "  margin-left: 0.5em;\n",
       "  text-align: center;\n",
       "  /* unfitted */\n",
       "  border: var(--sklearn-color-unfitted-level-1) 1pt solid;\n",
       "  color: var(--sklearn-color-unfitted-level-1);\n",
       "}\n",
       "\n",
       ".sk-estimator-doc-link.fitted,\n",
       "a:link.sk-estimator-doc-link.fitted,\n",
       "a:visited.sk-estimator-doc-link.fitted {\n",
       "  /* fitted */\n",
       "  border: var(--sklearn-color-fitted-level-1) 1pt solid;\n",
       "  color: var(--sklearn-color-fitted-level-1);\n",
       "}\n",
       "\n",
       "/* On hover */\n",
       "div.sk-estimator:hover .sk-estimator-doc-link:hover,\n",
       ".sk-estimator-doc-link:hover,\n",
       "div.sk-label-container:hover .sk-estimator-doc-link:hover,\n",
       ".sk-estimator-doc-link:hover {\n",
       "  /* unfitted */\n",
       "  background-color: var(--sklearn-color-unfitted-level-3);\n",
       "  color: var(--sklearn-color-background);\n",
       "  text-decoration: none;\n",
       "}\n",
       "\n",
       "div.sk-estimator.fitted:hover .sk-estimator-doc-link.fitted:hover,\n",
       ".sk-estimator-doc-link.fitted:hover,\n",
       "div.sk-label-container:hover .sk-estimator-doc-link.fitted:hover,\n",
       ".sk-estimator-doc-link.fitted:hover {\n",
       "  /* fitted */\n",
       "  background-color: var(--sklearn-color-fitted-level-3);\n",
       "  color: var(--sklearn-color-background);\n",
       "  text-decoration: none;\n",
       "}\n",
       "\n",
       "/* Span, style for the box shown on hovering the info icon */\n",
       ".sk-estimator-doc-link span {\n",
       "  display: none;\n",
       "  z-index: 9999;\n",
       "  position: relative;\n",
       "  font-weight: normal;\n",
       "  right: .2ex;\n",
       "  padding: .5ex;\n",
       "  margin: .5ex;\n",
       "  width: min-content;\n",
       "  min-width: 20ex;\n",
       "  max-width: 50ex;\n",
       "  color: var(--sklearn-color-text);\n",
       "  box-shadow: 2pt 2pt 4pt #999;\n",
       "  /* unfitted */\n",
       "  background: var(--sklearn-color-unfitted-level-0);\n",
       "  border: .5pt solid var(--sklearn-color-unfitted-level-3);\n",
       "}\n",
       "\n",
       ".sk-estimator-doc-link.fitted span {\n",
       "  /* fitted */\n",
       "  background: var(--sklearn-color-fitted-level-0);\n",
       "  border: var(--sklearn-color-fitted-level-3);\n",
       "}\n",
       "\n",
       ".sk-estimator-doc-link:hover span {\n",
       "  display: block;\n",
       "}\n",
       "\n",
       "/* \"?\"-specific style due to the `<a>` HTML tag */\n",
       "\n",
       "#sk-container-id-1 a.estimator_doc_link {\n",
       "  float: right;\n",
       "  font-size: 1rem;\n",
       "  line-height: 1em;\n",
       "  font-family: monospace;\n",
       "  background-color: var(--sklearn-color-background);\n",
       "  border-radius: 1rem;\n",
       "  height: 1rem;\n",
       "  width: 1rem;\n",
       "  text-decoration: none;\n",
       "  /* unfitted */\n",
       "  color: var(--sklearn-color-unfitted-level-1);\n",
       "  border: var(--sklearn-color-unfitted-level-1) 1pt solid;\n",
       "}\n",
       "\n",
       "#sk-container-id-1 a.estimator_doc_link.fitted {\n",
       "  /* fitted */\n",
       "  border: var(--sklearn-color-fitted-level-1) 1pt solid;\n",
       "  color: var(--sklearn-color-fitted-level-1);\n",
       "}\n",
       "\n",
       "/* On hover */\n",
       "#sk-container-id-1 a.estimator_doc_link:hover {\n",
       "  /* unfitted */\n",
       "  background-color: var(--sklearn-color-unfitted-level-3);\n",
       "  color: var(--sklearn-color-background);\n",
       "  text-decoration: none;\n",
       "}\n",
       "\n",
       "#sk-container-id-1 a.estimator_doc_link.fitted:hover {\n",
       "  /* fitted */\n",
       "  background-color: var(--sklearn-color-fitted-level-3);\n",
       "}\n",
       "</style><div id=\"sk-container-id-1\" class=\"sk-top-container\"><div class=\"sk-text-repr-fallback\"><pre>MinMaxScaler()</pre><b>In a Jupyter environment, please rerun this cell to show the HTML representation or trust the notebook. <br />On GitHub, the HTML representation is unable to render, please try loading this page with nbviewer.org.</b></div><div class=\"sk-container\" hidden><div class=\"sk-item\"><div class=\"sk-estimator fitted sk-toggleable\"><input class=\"sk-toggleable__control sk-hidden--visually\" id=\"sk-estimator-id-1\" type=\"checkbox\" checked><label for=\"sk-estimator-id-1\" class=\"sk-toggleable__label fitted sk-toggleable__label-arrow\"><div><div>MinMaxScaler</div></div><div><a class=\"sk-estimator-doc-link fitted\" rel=\"noreferrer\" target=\"_blank\" href=\"https://scikit-learn.org/1.6/modules/generated/sklearn.preprocessing.MinMaxScaler.html\">?<span>Documentation for MinMaxScaler</span></a><span class=\"sk-estimator-doc-link fitted\">i<span>Fitted</span></span></div></label><div class=\"sk-toggleable__content fitted\"><pre>MinMaxScaler()</pre></div> </div></div></div></div>"
      ],
      "text/plain": [
       "MinMaxScaler()"
      ]
     },
     "execution_count": 239,
     "metadata": {},
     "output_type": "execute_result"
    }
   ],
   "source": [
    "min_max_scaler.fit(train_data)"
   ]
  },
  {
   "cell_type": "code",
   "execution_count": 240,
   "id": "845df828",
   "metadata": {},
   "outputs": [],
   "source": [
    "train_data = min_max_scaler.transform(train_data)"
   ]
  },
  {
   "cell_type": "code",
   "execution_count": 241,
   "id": "6e699114",
   "metadata": {},
   "outputs": [
    {
     "data": {
      "text/plain": [
       "array([1., 1., 1., 1., 1., 1., 1., 1., 1., 1., 1., 1., 1.])"
      ]
     },
     "execution_count": 241,
     "metadata": {},
     "output_type": "execute_result"
    }
   ],
   "source": [
    "train_data.max(axis=0)"
   ]
  },
  {
   "cell_type": "code",
   "execution_count": 242,
   "id": "2cf37a21",
   "metadata": {},
   "outputs": [
    {
     "data": {
      "text/plain": [
       "array([0., 0., 0., 0., 0., 0., 0., 0., 0., 0., 0., 0., 0.])"
      ]
     },
     "execution_count": 242,
     "metadata": {},
     "output_type": "execute_result"
    }
   ],
   "source": [
    "train_data.min(axis=0)"
   ]
  },
  {
   "cell_type": "code",
   "execution_count": 243,
   "id": "8a11e7b9",
   "metadata": {},
   "outputs": [
    {
     "data": {
      "text/plain": [
       "array([0.01378163, 0.        , 0.28152493, 0.        , 0.31481481,\n",
       "       0.49980635, 0.91452111, 0.29719123, 0.13043478, 0.22753346,\n",
       "       0.89361702, 1.        , 0.46881898])"
      ]
     },
     "execution_count": 243,
     "metadata": {},
     "output_type": "execute_result"
    }
   ],
   "source": [
    "train_data[0]"
   ]
  },
  {
   "cell_type": "code",
   "execution_count": 244,
   "id": "5618248f",
   "metadata": {},
   "outputs": [],
   "source": [
    "test_data = min_max_scaler.transform(test_data)"
   ]
  },
  {
   "cell_type": "code",
   "execution_count": 245,
   "id": "6c70d795",
   "metadata": {},
   "outputs": [
    {
     "data": {
      "text/plain": [
       "array([ 7.63179629e-05,  0.00000000e+00,  2.78592375e-02,  0.00000000e+00,\n",
       "        1.44032922e-02,  2.55422153e-01,  3.19258496e-02,  3.50600687e-02,\n",
       "        0.00000000e+00, -1.91204589e-03,  4.25531915e-02,  6.13495386e-02,\n",
       "        5.24282561e-03])"
      ]
     },
     "execution_count": 245,
     "metadata": {},
     "output_type": "execute_result"
    }
   ],
   "source": [
    "test_data.min(axis=0)"
   ]
  },
  {
   "cell_type": "code",
   "execution_count": 246,
   "id": "94190df1",
   "metadata": {},
   "outputs": [
    {
     "data": {
      "text/plain": [
       "array([0.28144109, 0.9       , 1.        , 1.        , 1.        ,\n",
       "       1.01065066, 1.        , 1.14781801, 1.        , 1.        ,\n",
       "       0.91489362, 1.        , 0.83498896])"
      ]
     },
     "execution_count": 246,
     "metadata": {},
     "output_type": "execute_result"
    }
   ],
   "source": [
    "test_data.max(axis=0)"
   ]
  },
  {
   "cell_type": "code",
   "execution_count": 247,
   "id": "731a4fe1",
   "metadata": {},
   "outputs": [],
   "source": [
    "train_data = train_data.astype(np.float32)"
   ]
  },
  {
   "cell_type": "code",
   "execution_count": 248,
   "id": "c2cbb131",
   "metadata": {},
   "outputs": [
    {
     "data": {
      "text/plain": [
       "dtype('float32')"
      ]
     },
     "execution_count": 248,
     "metadata": {},
     "output_type": "execute_result"
    }
   ],
   "source": [
    "train_data.dtype"
   ]
  },
  {
   "cell_type": "code",
   "execution_count": 249,
   "id": "ad42c5af",
   "metadata": {},
   "outputs": [],
   "source": [
    "test_data = test_data.astype(np.float32)"
   ]
  },
  {
   "cell_type": "code",
   "execution_count": 250,
   "id": "1e8898b6",
   "metadata": {},
   "outputs": [
    {
     "data": {
      "text/plain": [
       "dtype('float32')"
      ]
     },
     "execution_count": 250,
     "metadata": {},
     "output_type": "execute_result"
    }
   ],
   "source": [
    "test_data.dtype"
   ]
  },
  {
   "cell_type": "code",
   "execution_count": 251,
   "id": "95dd13a5",
   "metadata": {},
   "outputs": [
    {
     "data": {
      "text/plain": [
       "np.float64(5.0)"
      ]
     },
     "execution_count": 251,
     "metadata": {},
     "output_type": "execute_result"
    }
   ],
   "source": [
    "train_labels.min()"
   ]
  },
  {
   "cell_type": "code",
   "execution_count": 252,
   "id": "998a692f",
   "metadata": {},
   "outputs": [
    {
     "data": {
      "text/plain": [
       "np.float64(50.0)"
      ]
     },
     "execution_count": 252,
     "metadata": {},
     "output_type": "execute_result"
    }
   ],
   "source": [
    "train_labels.max()"
   ]
  },
  {
   "cell_type": "code",
   "execution_count": 253,
   "id": "d437f391",
   "metadata": {},
   "outputs": [
    {
     "data": {
      "text/plain": [
       "np.float64(5.0)"
      ]
     },
     "execution_count": 253,
     "metadata": {},
     "output_type": "execute_result"
    }
   ],
   "source": [
    "train_labels.min(axis=0)"
   ]
  },
  {
   "cell_type": "code",
   "execution_count": 254,
   "id": "202d5ef7",
   "metadata": {},
   "outputs": [
    {
     "data": {
      "text/plain": [
       "np.float64(50.0)"
      ]
     },
     "execution_count": 254,
     "metadata": {},
     "output_type": "execute_result"
    }
   ],
   "source": [
    "train_labels.max(axis=0)"
   ]
  },
  {
   "cell_type": "code",
   "execution_count": 255,
   "id": "255d2d30",
   "metadata": {},
   "outputs": [],
   "source": [
    "train_labels = train_labels.astype(np.float32).reshape((-1, 1)) / 50."
   ]
  },
  {
   "cell_type": "code",
   "execution_count": 256,
   "id": "8dfcc98f",
   "metadata": {},
   "outputs": [
    {
     "data": {
      "text/plain": [
       "np.float32(0.1)"
      ]
     },
     "execution_count": 256,
     "metadata": {},
     "output_type": "execute_result"
    }
   ],
   "source": [
    "train_labels.min()"
   ]
  },
  {
   "cell_type": "code",
   "execution_count": 257,
   "id": "a02f241f",
   "metadata": {},
   "outputs": [
    {
     "data": {
      "text/plain": [
       "array([0.1], dtype=float32)"
      ]
     },
     "execution_count": 257,
     "metadata": {},
     "output_type": "execute_result"
    }
   ],
   "source": [
    "train_labels.min(axis=0)"
   ]
  },
  {
   "cell_type": "code",
   "execution_count": 258,
   "id": "0ba18b88",
   "metadata": {},
   "outputs": [
    {
     "data": {
      "text/plain": [
       "np.float32(1.0)"
      ]
     },
     "execution_count": 258,
     "metadata": {},
     "output_type": "execute_result"
    }
   ],
   "source": [
    "train_labels.max()"
   ]
  },
  {
   "cell_type": "code",
   "execution_count": 259,
   "id": "ea7da4ff",
   "metadata": {},
   "outputs": [
    {
     "data": {
      "text/plain": [
       "array([1.], dtype=float32)"
      ]
     },
     "execution_count": 259,
     "metadata": {},
     "output_type": "execute_result"
    }
   ],
   "source": [
    "train_labels.max(axis=0)"
   ]
  },
  {
   "cell_type": "code",
   "execution_count": 260,
   "id": "ea7297e5",
   "metadata": {},
   "outputs": [
    {
     "data": {
      "text/plain": [
       "dtype('float32')"
      ]
     },
     "execution_count": 260,
     "metadata": {},
     "output_type": "execute_result"
    }
   ],
   "source": [
    "train_labels.dtype"
   ]
  },
  {
   "cell_type": "code",
   "execution_count": 261,
   "id": "5d0e1c05",
   "metadata": {},
   "outputs": [
    {
     "data": {
      "text/plain": [
       "(404, 1)"
      ]
     },
     "execution_count": 261,
     "metadata": {},
     "output_type": "execute_result"
    }
   ],
   "source": [
    "train_labels.shape"
   ]
  },
  {
   "cell_type": "code",
   "execution_count": 262,
   "id": "5849aa7d",
   "metadata": {},
   "outputs": [],
   "source": [
    "test_labels = test_labels.astype(np.float32).reshape((-1, 1)) / 50."
   ]
  },
  {
   "cell_type": "code",
   "execution_count": 263,
   "id": "db72166f",
   "metadata": {},
   "outputs": [
    {
     "data": {
      "text/plain": [
       "(102, 1)"
      ]
     },
     "execution_count": 263,
     "metadata": {},
     "output_type": "execute_result"
    }
   ],
   "source": [
    "test_labels.shape"
   ]
  },
  {
   "cell_type": "code",
   "execution_count": 264,
   "id": "cf9482de",
   "metadata": {},
   "outputs": [
    {
     "data": {
      "text/plain": [
       "dtype('float32')"
      ]
     },
     "execution_count": 264,
     "metadata": {},
     "output_type": "execute_result"
    }
   ],
   "source": [
    "test_labels.dtype"
   ]
  },
  {
   "cell_type": "code",
   "execution_count": 265,
   "id": "ef2111fc",
   "metadata": {},
   "outputs": [
    {
     "data": {
      "text/plain": [
       "np.float32(1.0)"
      ]
     },
     "execution_count": 265,
     "metadata": {},
     "output_type": "execute_result"
    }
   ],
   "source": [
    "test_labels.max()"
   ]
  },
  {
   "cell_type": "code",
   "execution_count": 266,
   "id": "b309bb44",
   "metadata": {},
   "outputs": [
    {
     "data": {
      "text/plain": [
       "np.float32(0.111999996)"
      ]
     },
     "execution_count": 266,
     "metadata": {},
     "output_type": "execute_result"
    }
   ],
   "source": [
    "test_labels.min()"
   ]
  },
  {
   "cell_type": "code",
   "execution_count": 267,
   "id": "33a006a1",
   "metadata": {},
   "outputs": [
    {
     "data": {
      "text/plain": [
       "np.float32(0.1)"
      ]
     },
     "execution_count": 267,
     "metadata": {},
     "output_type": "execute_result"
    }
   ],
   "source": [
    "train_labels.min()"
   ]
  },
  {
   "cell_type": "code",
   "execution_count": 268,
   "id": "90c846ca",
   "metadata": {},
   "outputs": [
    {
     "data": {
      "text/plain": [
       "((404, 13), dtype('float32'), np.float32(0.0), np.float32(1.0))"
      ]
     },
     "execution_count": 268,
     "metadata": {},
     "output_type": "execute_result"
    }
   ],
   "source": [
    "train_data.shape, train_data.dtype, train_data.min(), train_data.max()"
   ]
  },
  {
   "cell_type": "code",
   "execution_count": 269,
   "id": "04f79748",
   "metadata": {},
   "outputs": [
    {
     "data": {
      "text/plain": [
       "((102, 13), dtype('float32'), np.float32(0.0), np.float32(1.147818))"
      ]
     },
     "execution_count": 269,
     "metadata": {},
     "output_type": "execute_result"
    }
   ],
   "source": [
    "test_data.shape, test_data.dtype, train_data.min(), test_data.max()"
   ]
  },
  {
   "cell_type": "code",
   "execution_count": 270,
   "id": "9ebd2218",
   "metadata": {},
   "outputs": [
    {
     "data": {
      "text/plain": [
       "((102, 1), dtype('float32'), np.float32(0.111999996), np.float32(1.0))"
      ]
     },
     "execution_count": 270,
     "metadata": {},
     "output_type": "execute_result"
    }
   ],
   "source": [
    "test_labels.shape, test_labels.dtype, test_labels.min(), test_labels.max()"
   ]
  },
  {
   "cell_type": "code",
   "execution_count": 271,
   "id": "88c29fa5",
   "metadata": {},
   "outputs": [
    {
     "data": {
      "text/plain": [
       "((404, 1), dtype('float32'), np.float32(0.1), np.float32(1.0))"
      ]
     },
     "execution_count": 271,
     "metadata": {},
     "output_type": "execute_result"
    }
   ],
   "source": [
    "train_labels.shape, train_labels.dtype, train_labels.min(), train_labels.max()"
   ]
  },
  {
   "cell_type": "code",
   "execution_count": 272,
   "id": "2a89d800",
   "metadata": {},
   "outputs": [],
   "source": [
    "# from tensorflow.keras.models import Model, Sequential"
   ]
  },
  {
   "cell_type": "code",
   "execution_count": 273,
   "id": "c01be0f9",
   "metadata": {},
   "outputs": [],
   "source": [
    "# from tensorflow.keras.layers import Input, Dense"
   ]
  },
  {
   "cell_type": "code",
   "execution_count": 274,
   "id": "192a6e45",
   "metadata": {},
   "outputs": [],
   "source": [
    "seq_model = tf.keras.models.Sequential()"
   ]
  },
  {
   "cell_type": "code",
   "execution_count": 275,
   "id": "99aee163",
   "metadata": {},
   "outputs": [],
   "source": [
    "input_layer = tf.keras.layers.Input((13, ), )"
   ]
  },
  {
   "cell_type": "code",
   "execution_count": 276,
   "id": "5887958f",
   "metadata": {},
   "outputs": [],
   "source": [
    "first_layer_output = tf.keras.layers.Dense(units=13, activation=tf.nn.relu, use_bias=False)(input_layer)"
   ]
  },
  {
   "cell_type": "code",
   "execution_count": 277,
   "id": "26746c9c",
   "metadata": {},
   "outputs": [],
   "source": [
    "second_layer_output = tf.keras.layers.Dense(units=8, activation=tf.nn.relu, use_bias=False)(first_layer_output)"
   ]
  },
  {
   "cell_type": "code",
   "execution_count": 278,
   "id": "f1724550",
   "metadata": {},
   "outputs": [],
   "source": [
    "predictions = tf.keras.layers.Dense(units=1)(second_layer_output)"
   ]
  },
  {
   "cell_type": "code",
   "execution_count": 279,
   "id": "793a01bc",
   "metadata": {},
   "outputs": [],
   "source": [
    "regression_model = tf.keras.models.Model(input_layer, predictions)"
   ]
  },
  {
   "cell_type": "code",
   "execution_count": 280,
   "id": "e2101b6a",
   "metadata": {},
   "outputs": [
    {
     "data": {
      "text/html": [
       "<pre style=\"white-space:pre;overflow-x:auto;line-height:normal;font-family:Menlo,'DejaVu Sans Mono',consolas,'Courier New',monospace\"><span style=\"font-weight: bold\">Model: \"functional\"</span>\n",
       "</pre>\n"
      ],
      "text/plain": [
       "\u001b[1mModel: \"functional\"\u001b[0m\n"
      ]
     },
     "metadata": {},
     "output_type": "display_data"
    },
    {
     "data": {
      "text/html": [
       "<pre style=\"white-space:pre;overflow-x:auto;line-height:normal;font-family:Menlo,'DejaVu Sans Mono',consolas,'Courier New',monospace\">┏━━━━━━━━━━━━━━━━━━━━━━━━━━━━━━━━━┳━━━━━━━━━━━━━━━━━━━━━━━━┳━━━━━━━━━━━━━━━┓\n",
       "┃<span style=\"font-weight: bold\"> Layer (type)                    </span>┃<span style=\"font-weight: bold\"> Output Shape           </span>┃<span style=\"font-weight: bold\">       Param # </span>┃\n",
       "┡━━━━━━━━━━━━━━━━━━━━━━━━━━━━━━━━━╇━━━━━━━━━━━━━━━━━━━━━━━━╇━━━━━━━━━━━━━━━┩\n",
       "│ input_layer (<span style=\"color: #0087ff; text-decoration-color: #0087ff\">InputLayer</span>)        │ (<span style=\"color: #00d7ff; text-decoration-color: #00d7ff\">None</span>, <span style=\"color: #00af00; text-decoration-color: #00af00\">13</span>)             │             <span style=\"color: #00af00; text-decoration-color: #00af00\">0</span> │\n",
       "├─────────────────────────────────┼────────────────────────┼───────────────┤\n",
       "│ dense (<span style=\"color: #0087ff; text-decoration-color: #0087ff\">Dense</span>)                   │ (<span style=\"color: #00d7ff; text-decoration-color: #00d7ff\">None</span>, <span style=\"color: #00af00; text-decoration-color: #00af00\">13</span>)             │           <span style=\"color: #00af00; text-decoration-color: #00af00\">169</span> │\n",
       "├─────────────────────────────────┼────────────────────────┼───────────────┤\n",
       "│ dense_1 (<span style=\"color: #0087ff; text-decoration-color: #0087ff\">Dense</span>)                 │ (<span style=\"color: #00d7ff; text-decoration-color: #00d7ff\">None</span>, <span style=\"color: #00af00; text-decoration-color: #00af00\">8</span>)              │           <span style=\"color: #00af00; text-decoration-color: #00af00\">104</span> │\n",
       "├─────────────────────────────────┼────────────────────────┼───────────────┤\n",
       "│ dense_2 (<span style=\"color: #0087ff; text-decoration-color: #0087ff\">Dense</span>)                 │ (<span style=\"color: #00d7ff; text-decoration-color: #00d7ff\">None</span>, <span style=\"color: #00af00; text-decoration-color: #00af00\">1</span>)              │             <span style=\"color: #00af00; text-decoration-color: #00af00\">9</span> │\n",
       "└─────────────────────────────────┴────────────────────────┴───────────────┘\n",
       "</pre>\n"
      ],
      "text/plain": [
       "┏━━━━━━━━━━━━━━━━━━━━━━━━━━━━━━━━━┳━━━━━━━━━━━━━━━━━━━━━━━━┳━━━━━━━━━━━━━━━┓\n",
       "┃\u001b[1m \u001b[0m\u001b[1mLayer (type)                   \u001b[0m\u001b[1m \u001b[0m┃\u001b[1m \u001b[0m\u001b[1mOutput Shape          \u001b[0m\u001b[1m \u001b[0m┃\u001b[1m \u001b[0m\u001b[1m      Param #\u001b[0m\u001b[1m \u001b[0m┃\n",
       "┡━━━━━━━━━━━━━━━━━━━━━━━━━━━━━━━━━╇━━━━━━━━━━━━━━━━━━━━━━━━╇━━━━━━━━━━━━━━━┩\n",
       "│ input_layer (\u001b[38;5;33mInputLayer\u001b[0m)        │ (\u001b[38;5;45mNone\u001b[0m, \u001b[38;5;34m13\u001b[0m)             │             \u001b[38;5;34m0\u001b[0m │\n",
       "├─────────────────────────────────┼────────────────────────┼───────────────┤\n",
       "│ dense (\u001b[38;5;33mDense\u001b[0m)                   │ (\u001b[38;5;45mNone\u001b[0m, \u001b[38;5;34m13\u001b[0m)             │           \u001b[38;5;34m169\u001b[0m │\n",
       "├─────────────────────────────────┼────────────────────────┼───────────────┤\n",
       "│ dense_1 (\u001b[38;5;33mDense\u001b[0m)                 │ (\u001b[38;5;45mNone\u001b[0m, \u001b[38;5;34m8\u001b[0m)              │           \u001b[38;5;34m104\u001b[0m │\n",
       "├─────────────────────────────────┼────────────────────────┼───────────────┤\n",
       "│ dense_2 (\u001b[38;5;33mDense\u001b[0m)                 │ (\u001b[38;5;45mNone\u001b[0m, \u001b[38;5;34m1\u001b[0m)              │             \u001b[38;5;34m9\u001b[0m │\n",
       "└─────────────────────────────────┴────────────────────────┴───────────────┘\n"
      ]
     },
     "metadata": {},
     "output_type": "display_data"
    },
    {
     "data": {
      "text/html": [
       "<pre style=\"white-space:pre;overflow-x:auto;line-height:normal;font-family:Menlo,'DejaVu Sans Mono',consolas,'Courier New',monospace\"><span style=\"font-weight: bold\"> Total params: </span><span style=\"color: #00af00; text-decoration-color: #00af00\">282</span> (1.10 KB)\n",
       "</pre>\n"
      ],
      "text/plain": [
       "\u001b[1m Total params: \u001b[0m\u001b[38;5;34m282\u001b[0m (1.10 KB)\n"
      ]
     },
     "metadata": {},
     "output_type": "display_data"
    },
    {
     "data": {
      "text/html": [
       "<pre style=\"white-space:pre;overflow-x:auto;line-height:normal;font-family:Menlo,'DejaVu Sans Mono',consolas,'Courier New',monospace\"><span style=\"font-weight: bold\"> Trainable params: </span><span style=\"color: #00af00; text-decoration-color: #00af00\">282</span> (1.10 KB)\n",
       "</pre>\n"
      ],
      "text/plain": [
       "\u001b[1m Trainable params: \u001b[0m\u001b[38;5;34m282\u001b[0m (1.10 KB)\n"
      ]
     },
     "metadata": {},
     "output_type": "display_data"
    },
    {
     "data": {
      "text/html": [
       "<pre style=\"white-space:pre;overflow-x:auto;line-height:normal;font-family:Menlo,'DejaVu Sans Mono',consolas,'Courier New',monospace\"><span style=\"font-weight: bold\"> Non-trainable params: </span><span style=\"color: #00af00; text-decoration-color: #00af00\">0</span> (0.00 B)\n",
       "</pre>\n"
      ],
      "text/plain": [
       "\u001b[1m Non-trainable params: \u001b[0m\u001b[38;5;34m0\u001b[0m (0.00 B)\n"
      ]
     },
     "metadata": {},
     "output_type": "display_data"
    }
   ],
   "source": [
    "regression_model.summary()"
   ]
  }
 ],
 "metadata": {
  "kernelspec": {
   "display_name": "ml",
   "language": "python",
   "name": "python3"
  },
  "language_info": {
   "codemirror_mode": {
    "name": "ipython",
    "version": 3
   },
   "file_extension": ".py",
   "mimetype": "text/x-python",
   "name": "python",
   "nbconvert_exporter": "python",
   "pygments_lexer": "ipython3",
   "version": "3.9.18"
  }
 },
 "nbformat": 4,
 "nbformat_minor": 5
}
