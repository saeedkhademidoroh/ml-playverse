{
 "cells": [
  {
   "cell_type": "code",
   "execution_count": null,
   "id": "2be4848d",
   "metadata": {},
   "outputs": [],
   "source": [
    "import numpy as np\n",
    "import tensorflow as tf\n",
    "import pandas as pd\n",
    "import matplotlib.pyplot as plt\n",
    "from sklearn.preprocessing import MinMaxScaler"
   ]
  },
  {
   "cell_type": "markdown",
   "id": "f8997375",
   "metadata": {},
   "source": [
    "### Any Preprocess"
   ]
  },
  {
   "cell_type": "code",
   "execution_count": null,
   "id": "a0c3428f",
   "metadata": {},
   "outputs": [],
   "source": [
    "(train_data, train_labels), (test_data, test_labels) = tf.keras.datasets.boston_housing.load_data()"
   ]
  },
  {
   "cell_type": "code",
   "execution_count": null,
   "id": "76d9685f",
   "metadata": {},
   "outputs": [],
   "source": [
    "train_data.shape"
   ]
  },
  {
   "cell_type": "code",
   "execution_count": null,
   "id": "c056c1c1",
   "metadata": {},
   "outputs": [],
   "source": [
    "train_data[0]"
   ]
  },
  {
   "cell_type": "code",
   "execution_count": null,
   "id": "8b6da969",
   "metadata": {},
   "outputs": [],
   "source": [
    "train_data[1]"
   ]
  },
  {
   "cell_type": "code",
   "execution_count": null,
   "id": "8ab11461",
   "metadata": {},
   "outputs": [],
   "source": [
    "train_data[2]"
   ]
  },
  {
   "cell_type": "code",
   "execution_count": null,
   "id": "4840df23",
   "metadata": {},
   "outputs": [],
   "source": [
    "train_labels.shape"
   ]
  },
  {
   "cell_type": "code",
   "execution_count": null,
   "id": "79ca6c11",
   "metadata": {},
   "outputs": [],
   "source": [
    "test_data.shape, test_labels.shape"
   ]
  },
  {
   "cell_type": "code",
   "execution_count": null,
   "id": "1e140440",
   "metadata": {
    "scrolled": true
   },
   "outputs": [],
   "source": [
    "train_data.dtype"
   ]
  },
  {
   "cell_type": "code",
   "execution_count": null,
   "id": "1747e450",
   "metadata": {},
   "outputs": [],
   "source": [
    "train_data.min(axis=0)"
   ]
  },
  {
   "cell_type": "code",
   "execution_count": null,
   "id": "8a1d9365",
   "metadata": {},
   "outputs": [],
   "source": [
    "train_data.max(axis=0)"
   ]
  },
  {
   "cell_type": "code",
   "execution_count": null,
   "id": "7799277b",
   "metadata": {},
   "outputs": [],
   "source": [
    "train_labels.max()"
   ]
  },
  {
   "cell_type": "code",
   "execution_count": null,
   "id": "510d0ba7",
   "metadata": {},
   "outputs": [],
   "source": [
    "## Normalize between 0 , 1\n",
    "## Dtype = float32\n",
    "## Compatible shape"
   ]
  },
  {
   "cell_type": "code",
   "execution_count": null,
   "id": "83374b0c",
   "metadata": {},
   "outputs": [],
   "source": [
    "min_max_scaler = MinMaxScaler()"
   ]
  },
  {
   "cell_type": "code",
   "execution_count": null,
   "id": "0b8cb90e",
   "metadata": {},
   "outputs": [],
   "source": [
    "min_max_scaler.fit(train_data)"
   ]
  },
  {
   "cell_type": "code",
   "execution_count": null,
   "id": "8bc18067",
   "metadata": {},
   "outputs": [],
   "source": [
    "train_data = min_max_scaler.transform(train_data)"
   ]
  },
  {
   "cell_type": "code",
   "execution_count": null,
   "id": "06dcc7a5",
   "metadata": {},
   "outputs": [],
   "source": [
    "train_data.min(axis=0)"
   ]
  },
  {
   "cell_type": "code",
   "execution_count": null,
   "id": "a8fd2fae",
   "metadata": {},
   "outputs": [],
   "source": [
    "train_data.max(axis=0)"
   ]
  },
  {
   "cell_type": "code",
   "execution_count": null,
   "id": "313904d2",
   "metadata": {},
   "outputs": [],
   "source": [
    "test_data = min_max_scaler.transform(test_data)"
   ]
  },
  {
   "cell_type": "code",
   "execution_count": null,
   "id": "4b722eda",
   "metadata": {},
   "outputs": [],
   "source": [
    "test_data.min(axis=0)"
   ]
  },
  {
   "cell_type": "code",
   "execution_count": null,
   "id": "f65bf2ff",
   "metadata": {},
   "outputs": [],
   "source": [
    "test_data.max(axis=0)"
   ]
  },
  {
   "cell_type": "code",
   "execution_count": null,
   "id": "f65481a0",
   "metadata": {},
   "outputs": [],
   "source": [
    "train_data.dtype"
   ]
  },
  {
   "cell_type": "code",
   "execution_count": null,
   "id": "c8cab4ce",
   "metadata": {},
   "outputs": [],
   "source": [
    "train_data = train_data.astype(np.float32)\n",
    "test_data = test_data.astype(np.float32)"
   ]
  },
  {
   "cell_type": "code",
   "execution_count": null,
   "id": "cd3c53db",
   "metadata": {},
   "outputs": [],
   "source": [
    "train_data.dtype, test_data.dtype"
   ]
  },
  {
   "cell_type": "code",
   "execution_count": null,
   "id": "d6042108",
   "metadata": {},
   "outputs": [],
   "source": [
    "train_labels.min()"
   ]
  },
  {
   "cell_type": "code",
   "execution_count": null,
   "id": "b5f7c3b3",
   "metadata": {},
   "outputs": [],
   "source": [
    "train_labels.max()"
   ]
  },
  {
   "cell_type": "code",
   "execution_count": null,
   "id": "cf1f750d",
   "metadata": {},
   "outputs": [],
   "source": [
    "train_labels = train_labels.astype(np.float32).reshape((-1, 1)) / 50."
   ]
  },
  {
   "cell_type": "code",
   "execution_count": null,
   "id": "c35ca44c",
   "metadata": {},
   "outputs": [],
   "source": [
    "train_labels.dtype"
   ]
  },
  {
   "cell_type": "code",
   "execution_count": null,
   "id": "64c89638",
   "metadata": {},
   "outputs": [],
   "source": [
    "train_labels.shape"
   ]
  },
  {
   "cell_type": "code",
   "execution_count": null,
   "id": "a1cb16e8",
   "metadata": {},
   "outputs": [],
   "source": [
    "train_labels.max()"
   ]
  },
  {
   "cell_type": "code",
   "execution_count": null,
   "id": "e8f053b4",
   "metadata": {},
   "outputs": [],
   "source": [
    "train_labels.min()"
   ]
  },
  {
   "cell_type": "code",
   "execution_count": null,
   "id": "69bc1cf0",
   "metadata": {},
   "outputs": [],
   "source": [
    "test_labels = test_labels.astype(np.float32).reshape((-1, 1)) / 50."
   ]
  },
  {
   "cell_type": "code",
   "execution_count": null,
   "id": "ecab12b3",
   "metadata": {},
   "outputs": [],
   "source": [
    "test_labels.shape"
   ]
  },
  {
   "cell_type": "code",
   "execution_count": null,
   "id": "7d44a9d3",
   "metadata": {},
   "outputs": [],
   "source": [
    "test_labels.dtype"
   ]
  },
  {
   "cell_type": "code",
   "execution_count": null,
   "id": "a51dce17",
   "metadata": {},
   "outputs": [],
   "source": [
    "test_labels.max()"
   ]
  },
  {
   "cell_type": "code",
   "execution_count": null,
   "id": "ef10f7fb",
   "metadata": {},
   "outputs": [],
   "source": [
    "test_labels.min()"
   ]
  },
  {
   "cell_type": "markdown",
   "id": "78d1825d",
   "metadata": {},
   "source": [
    "## Last final check"
   ]
  },
  {
   "cell_type": "code",
   "execution_count": null,
   "id": "a073f9ae",
   "metadata": {},
   "outputs": [],
   "source": [
    "## shape\n",
    "## normalize\n",
    "## dtype"
   ]
  },
  {
   "cell_type": "code",
   "execution_count": null,
   "id": "2375853f",
   "metadata": {},
   "outputs": [],
   "source": [
    "train_data.shape, train_data.dtype, train_data.min(), train_data.max()"
   ]
  },
  {
   "cell_type": "code",
   "execution_count": null,
   "id": "3f5e05f7",
   "metadata": {},
   "outputs": [],
   "source": [
    "test_data.shape, test_data.dtype, test_data.min(), test_data.max()"
   ]
  },
  {
   "cell_type": "code",
   "execution_count": null,
   "id": "a6f1a6a3",
   "metadata": {},
   "outputs": [],
   "source": [
    "train_labels.shape, train_labels.dtype, train_labels.min(), train_labels.max()"
   ]
  },
  {
   "cell_type": "code",
   "execution_count": null,
   "id": "105df8fc",
   "metadata": {},
   "outputs": [],
   "source": [
    "test_labels.shape, test_labels.dtype, test_labels.min(), test_labels.max()"
   ]
  },
  {
   "cell_type": "code",
   "execution_count": null,
   "id": "595ede4e",
   "metadata": {},
   "outputs": [],
   "source": [
    "train_batch = train_data[:16]\n",
    "train_batch.shape"
   ]
  },
  {
   "cell_type": "code",
   "execution_count": null,
   "id": "8ca91f03",
   "metadata": {},
   "outputs": [],
   "source": [
    "label_batch = train_labels[0:16]\n",
    "label_batch.shape"
   ]
  },
  {
   "cell_type": "markdown",
   "id": "e75a1ad7",
   "metadata": {},
   "source": [
    "## Create our first regression model"
   ]
  },
  {
   "cell_type": "code",
   "execution_count": null,
   "id": "d1e9e1d1",
   "metadata": {},
   "outputs": [],
   "source": [
    "from tensorflow.keras.models import Model, Sequential\n",
    "from tensorflow.keras.layers import Input, Dense"
   ]
  },
  {
   "cell_type": "code",
   "execution_count": null,
   "id": "dd6fc0ab",
   "metadata": {},
   "outputs": [],
   "source": [
    "seq_model = Sequential()"
   ]
  },
  {
   "cell_type": "code",
   "execution_count": null,
   "id": "8f49d228",
   "metadata": {},
   "outputs": [],
   "source": [
    "input_layer = Input((13, ), batch_size=16)\n",
    "\n",
    "first_layer_output = Dense(units=13, activation=tf.nn.relu, use_bias=False)(input_layer)\n",
    "second_layer_output = Dense(units=8, activation=\"relu\", use_bias=False)(first_layer_output)\n",
    "predictions = Dense(units=1)(second_layer_output)\n",
    "\n",
    "regression_model = Model(input_layer, predictions)"
   ]
  },
  {
   "cell_type": "code",
   "execution_count": null,
   "id": "df02d6c6",
   "metadata": {},
   "outputs": [],
   "source": [
    "regression_model.summary()"
   ]
  },
  {
   "cell_type": "code",
   "execution_count": null,
   "id": "d8505d17",
   "metadata": {},
   "outputs": [],
   "source": []
  }
 ],
 "metadata": {
  "kernelspec": {
   "display_name": "ml",
   "language": "python",
   "name": "python3"
  },
  "language_info": {
   "codemirror_mode": {
    "name": "ipython",
    "version": 3
   },
   "file_extension": ".py",
   "mimetype": "text/x-python",
   "name": "python",
   "nbconvert_exporter": "python",
   "pygments_lexer": "ipython3",
   "version": "3.9.18"
  }
 },
 "nbformat": 4,
 "nbformat_minor": 5
}
