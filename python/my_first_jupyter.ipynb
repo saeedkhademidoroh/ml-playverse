{
 "cells": [
  {
   "cell_type": "code",
   "execution_count": 1,
   "id": "2be4848d",
   "metadata": {},
   "outputs": [
    {
     "name": "stderr",
     "output_type": "stream",
     "text": [
      "2025-02-13 12:02:22.091777: I tensorflow/core/util/port.cc:153] oneDNN custom operations are on. You may see slightly different numerical results due to floating-point round-off errors from different computation orders. To turn them off, set the environment variable `TF_ENABLE_ONEDNN_OPTS=0`.\n",
      "2025-02-13 12:02:22.092950: I external/local_xla/xla/tsl/cuda/cudart_stub.cc:32] Could not find cuda drivers on your machine, GPU will not be used.\n",
      "2025-02-13 12:02:22.097203: I external/local_xla/xla/tsl/cuda/cudart_stub.cc:32] Could not find cuda drivers on your machine, GPU will not be used.\n",
      "2025-02-13 12:02:22.110220: E external/local_xla/xla/stream_executor/cuda/cuda_fft.cc:477] Unable to register cuFFT factory: Attempting to register factory for plugin cuFFT when one has already been registered\n",
      "WARNING: All log messages before absl::InitializeLog() is called are written to STDERR\n",
      "E0000 00:00:1739435542.131803    6419 cuda_dnn.cc:8310] Unable to register cuDNN factory: Attempting to register factory for plugin cuDNN when one has already been registered\n",
      "E0000 00:00:1739435542.137245    6419 cuda_blas.cc:1418] Unable to register cuBLAS factory: Attempting to register factory for plugin cuBLAS when one has already been registered\n",
      "2025-02-13 12:02:22.160688: I tensorflow/core/platform/cpu_feature_guard.cc:210] This TensorFlow binary is optimized to use available CPU instructions in performance-critical operations.\n",
      "To enable the following instructions: AVX2 AVX512F AVX512_VNNI FMA, in other operations, rebuild TensorFlow with the appropriate compiler flags.\n"
     ]
    }
   ],
   "source": [
    "import numpy as np\n",
    "import tensorflow as tf\n",
    "import pandas as pd\n",
    "import matplotlib.pyplot as plt\n",
    "from sklearn.preprocessing import MinMaxScaler"
   ]
  },
  {
   "cell_type": "markdown",
   "id": "f8997375",
   "metadata": {},
   "source": [
    "### Any Preprocess"
   ]
  },
  {
   "cell_type": "code",
   "execution_count": 2,
   "id": "a0c3428f",
   "metadata": {},
   "outputs": [],
   "source": [
    "(train_data, train_labels), (_, _) = tf.keras.datasets.boston_housing.load_data()"
   ]
  },
  {
   "cell_type": "code",
   "execution_count": 3,
   "id": "76d9685f",
   "metadata": {},
   "outputs": [
    {
     "data": {
      "text/plain": [
       "(404, 13)"
      ]
     },
     "execution_count": 3,
     "metadata": {},
     "output_type": "execute_result"
    }
   ],
   "source": [
    "train_data.shape"
   ]
  },
  {
   "cell_type": "code",
   "execution_count": 4,
   "id": "c056c1c1",
   "metadata": {},
   "outputs": [
    {
     "data": {
      "text/plain": [
       "array([  1.23247,   0.     ,   8.14   ,   0.     ,   0.538  ,   6.142  ,\n",
       "        91.7    ,   3.9769 ,   4.     , 307.     ,  21.     , 396.9    ,\n",
       "        18.72   ])"
      ]
     },
     "execution_count": 4,
     "metadata": {},
     "output_type": "execute_result"
    }
   ],
   "source": [
    "train_data[0]"
   ]
  },
  {
   "cell_type": "code",
   "execution_count": 5,
   "id": "8b6da969",
   "metadata": {},
   "outputs": [
    {
     "data": {
      "text/plain": [
       "array([2.1770e-02, 8.2500e+01, 2.0300e+00, 0.0000e+00, 4.1500e-01,\n",
       "       7.6100e+00, 1.5700e+01, 6.2700e+00, 2.0000e+00, 3.4800e+02,\n",
       "       1.4700e+01, 3.9538e+02, 3.1100e+00])"
      ]
     },
     "execution_count": 5,
     "metadata": {},
     "output_type": "execute_result"
    }
   ],
   "source": [
    "train_data[1]"
   ]
  },
  {
   "cell_type": "code",
   "execution_count": 6,
   "id": "8ab11461",
   "metadata": {},
   "outputs": [
    {
     "data": {
      "text/plain": [
       "array([4.89822e+00, 0.00000e+00, 1.81000e+01, 0.00000e+00, 6.31000e-01,\n",
       "       4.97000e+00, 1.00000e+02, 1.33250e+00, 2.40000e+01, 6.66000e+02,\n",
       "       2.02000e+01, 3.75520e+02, 3.26000e+00])"
      ]
     },
     "execution_count": 6,
     "metadata": {},
     "output_type": "execute_result"
    }
   ],
   "source": [
    "train_data[2]"
   ]
  },
  {
   "cell_type": "code",
   "execution_count": 7,
   "id": "4840df23",
   "metadata": {},
   "outputs": [
    {
     "data": {
      "text/plain": [
       "(404,)"
      ]
     },
     "execution_count": 7,
     "metadata": {},
     "output_type": "execute_result"
    }
   ],
   "source": [
    "train_labels.shape"
   ]
  },
  {
   "cell_type": "code",
   "execution_count": 8,
   "id": "79ca6c11",
   "metadata": {},
   "outputs": [
    {
     "ename": "NameError",
     "evalue": "name 'test_data' is not defined",
     "output_type": "error",
     "traceback": [
      "\u001b[0;31m---------------------------------------------------------------------------\u001b[0m",
      "\u001b[0;31mNameError\u001b[0m                                 Traceback (most recent call last)",
      "Cell \u001b[0;32mIn[8], line 1\u001b[0m\n\u001b[0;32m----> 1\u001b[0m \u001b[43mtest_data\u001b[49m\u001b[38;5;241m.\u001b[39mshape, test_labels\u001b[38;5;241m.\u001b[39mshape\n",
      "\u001b[0;31mNameError\u001b[0m: name 'test_data' is not defined"
     ]
    }
   ],
   "source": [
    "test_data.shape, test_labels.shape"
   ]
  },
  {
   "cell_type": "code",
   "execution_count": null,
   "id": "1e140440",
   "metadata": {
    "scrolled": true
   },
   "outputs": [],
   "source": [
    "train_data.dtype"
   ]
  },
  {
   "cell_type": "code",
   "execution_count": null,
   "id": "1747e450",
   "metadata": {},
   "outputs": [],
   "source": [
    "train_data.min(axis=0)"
   ]
  },
  {
   "cell_type": "code",
   "execution_count": null,
   "id": "8a1d9365",
   "metadata": {},
   "outputs": [],
   "source": [
    "train_data.max(axis=0)"
   ]
  },
  {
   "cell_type": "code",
   "execution_count": null,
   "id": "7799277b",
   "metadata": {},
   "outputs": [],
   "source": [
    "train_label.max()"
   ]
  },
  {
   "cell_type": "code",
   "execution_count": null,
   "id": "510d0ba7",
   "metadata": {},
   "outputs": [],
   "source": [
    "## Normalize between 0 , 1\n",
    "## Dtype = float32\n",
    "## Compatible shape"
   ]
  },
  {
   "cell_type": "code",
   "execution_count": null,
   "id": "83374b0c",
   "metadata": {},
   "outputs": [],
   "source": [
    "min_max_scaler = MinMaxScaler()"
   ]
  },
  {
   "cell_type": "code",
   "execution_count": null,
   "id": "0b8cb90e",
   "metadata": {},
   "outputs": [],
   "source": [
    "min_max_scaler.fit(train_data)"
   ]
  },
  {
   "cell_type": "code",
   "execution_count": null,
   "id": "8bc18067",
   "metadata": {},
   "outputs": [],
   "source": [
    "train_data = min_max_scaler.transform(train_data)"
   ]
  },
  {
   "cell_type": "code",
   "execution_count": null,
   "id": "06dcc7a5",
   "metadata": {},
   "outputs": [],
   "source": [
    "train_data.min(axis=0)"
   ]
  },
  {
   "cell_type": "code",
   "execution_count": null,
   "id": "a8fd2fae",
   "metadata": {},
   "outputs": [],
   "source": [
    "train_data.max(axis=0)"
   ]
  },
  {
   "cell_type": "code",
   "execution_count": null,
   "id": "313904d2",
   "metadata": {},
   "outputs": [],
   "source": [
    "test_data = min_max_scaler.transform(test_data)"
   ]
  },
  {
   "cell_type": "code",
   "execution_count": null,
   "id": "4b722eda",
   "metadata": {},
   "outputs": [],
   "source": [
    "test_data.min(axis=0)"
   ]
  },
  {
   "cell_type": "code",
   "execution_count": null,
   "id": "f65bf2ff",
   "metadata": {},
   "outputs": [],
   "source": [
    "test_data.max(axis=0)"
   ]
  },
  {
   "cell_type": "code",
   "execution_count": null,
   "id": "f65481a0",
   "metadata": {},
   "outputs": [],
   "source": [
    "train_data.dtype"
   ]
  },
  {
   "cell_type": "code",
   "execution_count": null,
   "id": "c8cab4ce",
   "metadata": {},
   "outputs": [],
   "source": [
    "train_data = train_data.astype(np.float32)\n",
    "test_data = test_data.astype(np.float32)"
   ]
  },
  {
   "cell_type": "code",
   "execution_count": null,
   "id": "cd3c53db",
   "metadata": {},
   "outputs": [],
   "source": [
    "train_data.dtype, test_data.dtype"
   ]
  },
  {
   "cell_type": "code",
   "execution_count": null,
   "id": "d6042108",
   "metadata": {},
   "outputs": [],
   "source": [
    "train_labels.min()"
   ]
  },
  {
   "cell_type": "code",
   "execution_count": null,
   "id": "b5f7c3b3",
   "metadata": {},
   "outputs": [],
   "source": [
    "train_labels.max()"
   ]
  },
  {
   "cell_type": "code",
   "execution_count": null,
   "id": "cf1f750d",
   "metadata": {},
   "outputs": [],
   "source": [
    "train_labels = train_labels.astype(np.float32).reshape((-1, 1)) / 50."
   ]
  },
  {
   "cell_type": "code",
   "execution_count": null,
   "id": "c35ca44c",
   "metadata": {},
   "outputs": [],
   "source": [
    "train_labels.dtype"
   ]
  },
  {
   "cell_type": "code",
   "execution_count": null,
   "id": "64c89638",
   "metadata": {},
   "outputs": [],
   "source": [
    "train_labels.shape"
   ]
  },
  {
   "cell_type": "code",
   "execution_count": null,
   "id": "a1cb16e8",
   "metadata": {},
   "outputs": [],
   "source": [
    "train_labels.max()"
   ]
  },
  {
   "cell_type": "code",
   "execution_count": null,
   "id": "e8f053b4",
   "metadata": {},
   "outputs": [],
   "source": [
    "train_labels.min()"
   ]
  },
  {
   "cell_type": "code",
   "execution_count": null,
   "id": "69bc1cf0",
   "metadata": {},
   "outputs": [],
   "source": [
    "test_labels = test_labels.astype(np.float32).reshape((-1, 1)) / 50."
   ]
  },
  {
   "cell_type": "code",
   "execution_count": null,
   "id": "ecab12b3",
   "metadata": {},
   "outputs": [],
   "source": [
    "test_labels.shape"
   ]
  },
  {
   "cell_type": "code",
   "execution_count": null,
   "id": "7d44a9d3",
   "metadata": {},
   "outputs": [],
   "source": [
    "test_labels.dtype"
   ]
  },
  {
   "cell_type": "code",
   "execution_count": null,
   "id": "a51dce17",
   "metadata": {},
   "outputs": [],
   "source": [
    "test_labels.max()"
   ]
  },
  {
   "cell_type": "code",
   "execution_count": null,
   "id": "ef10f7fb",
   "metadata": {},
   "outputs": [],
   "source": [
    "test_labels.min()"
   ]
  },
  {
   "cell_type": "markdown",
   "id": "78d1825d",
   "metadata": {},
   "source": [
    "## Last final check"
   ]
  },
  {
   "cell_type": "code",
   "execution_count": null,
   "id": "a073f9ae",
   "metadata": {},
   "outputs": [],
   "source": [
    "## shape\n",
    "## normalize\n",
    "## dtype"
   ]
  },
  {
   "cell_type": "code",
   "execution_count": null,
   "id": "2375853f",
   "metadata": {},
   "outputs": [],
   "source": [
    "train_data.shape, train_data.dtype, train_data.min(), train_data.max()"
   ]
  },
  {
   "cell_type": "code",
   "execution_count": null,
   "id": "3f5e05f7",
   "metadata": {},
   "outputs": [],
   "source": [
    "test_data.shape, test_data.dtype, test_data.min(), test_data.max()"
   ]
  },
  {
   "cell_type": "code",
   "execution_count": null,
   "id": "a6f1a6a3",
   "metadata": {},
   "outputs": [],
   "source": [
    "train_labels.shape, train_labels.dtype, train_labels.min(), train_labels.max()"
   ]
  },
  {
   "cell_type": "code",
   "execution_count": null,
   "id": "105df8fc",
   "metadata": {},
   "outputs": [],
   "source": [
    "test_labels.shape, test_labels.dtype, test_labels.min(), test_labels.max()"
   ]
  },
  {
   "cell_type": "code",
   "execution_count": null,
   "id": "595ede4e",
   "metadata": {},
   "outputs": [],
   "source": [
    "train_batch = train_data[:16]\n",
    "train_batch.shape"
   ]
  },
  {
   "cell_type": "code",
   "execution_count": null,
   "id": "8ca91f03",
   "metadata": {},
   "outputs": [],
   "source": [
    "label_batch = train_labels[0:16]\n",
    "label_batch.shape"
   ]
  },
  {
   "cell_type": "markdown",
   "id": "e75a1ad7",
   "metadata": {},
   "source": [
    "## Create our first regression model"
   ]
  },
  {
   "cell_type": "code",
   "execution_count": null,
   "id": "d1e9e1d1",
   "metadata": {},
   "outputs": [],
   "source": [
    "from tensorflow.keras.models import Model, Sequential\n",
    "from tensorflow.keras.layers import Input, Dense"
   ]
  },
  {
   "cell_type": "code",
   "execution_count": null,
   "id": "dd6fc0ab",
   "metadata": {},
   "outputs": [],
   "source": [
    "seq_model = Sequential()"
   ]
  },
  {
   "cell_type": "code",
   "execution_count": null,
   "id": "8f49d228",
   "metadata": {},
   "outputs": [],
   "source": [
    "input_layer = Input((13, ), batch_size=16)\n",
    "\n",
    "first_layer_output = Dense(units=13, activation=tf.nn.relu, use_bias=False)(input_layer)\n",
    "second_layer_output = Dense(units=8, activation=\"relu\", use_bias=False)(first_layer_output)\n",
    "predictions = Dense(units=1)(second_layer_output)\n",
    "\n",
    "regression_model = Model(input_layer, predictions)"
   ]
  },
  {
   "cell_type": "code",
   "execution_count": null,
   "id": "df02d6c6",
   "metadata": {},
   "outputs": [],
   "source": [
    "regression_model.summary()"
   ]
  },
  {
   "cell_type": "code",
   "execution_count": null,
   "id": "d8505d17",
   "metadata": {},
   "outputs": [],
   "source": []
  }
 ],
 "metadata": {
  "kernelspec": {
   "display_name": "ml",
   "language": "python",
   "name": "python3"
  },
  "language_info": {
   "codemirror_mode": {
    "name": "ipython",
    "version": 3
   },
   "file_extension": ".py",
   "mimetype": "text/x-python",
   "name": "python",
   "nbconvert_exporter": "python",
   "pygments_lexer": "ipython3",
   "version": "3.9.18"
  }
 },
 "nbformat": 4,
 "nbformat_minor": 5
}
